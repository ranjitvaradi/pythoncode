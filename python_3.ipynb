{
 "cells": [
  {
   "cell_type": "markdown",
   "metadata": {
    "id": "qbF7PM7_QxEM"
   },
   "source": [
    "## Iterable"
   ]
  },
  {
   "cell_type": "code",
   "execution_count": 1,
   "metadata": {},
   "outputs": [
    {
     "name": "stdout",
     "output_type": "stream",
     "text": [
      "2\n",
      "5\n",
      "7\n"
     ]
    }
   ],
   "source": [
    "# For loop\n",
    "for x in (2,5,7):\n",
    "    print(x)"
   ]
  },
  {
   "cell_type": "code",
   "execution_count": 2,
   "metadata": {
    "colab": {
     "base_uri": "https://localhost:8080/"
    },
    "executionInfo": {
     "elapsed": 16,
     "status": "ok",
     "timestamp": 1674331217856,
     "user": {
      "displayName": "Chennaveer Jogur",
      "userId": "08412919184894538156"
     },
     "user_tz": -330
    },
    "id": "nm9VR8rXQxER",
    "outputId": "cc27711e-1dff-4b92-c33b-c5d535ca20d1"
   },
   "outputs": [
    {
     "name": "stdout",
     "output_type": "stream",
     "text": [
      "1\n",
      "hi\n",
      "2\n",
      "hi\n",
      "3\n",
      "hi\n"
     ]
    }
   ],
   "source": [
    "for x in [1,2,3]:\n",
    "    print(x)\n",
    "    print('hi')"
   ]
  },
  {
   "cell_type": "code",
   "execution_count": 3,
   "metadata": {
    "colab": {
     "base_uri": "https://localhost:8080/"
    },
    "executionInfo": {
     "elapsed": 509,
     "status": "ok",
     "timestamp": 1674331232262,
     "user": {
      "displayName": "Chennaveer Jogur",
      "userId": "08412919184894538156"
     },
     "user_tz": -330
    },
    "id": "ZyEg7PRRQxER",
    "outputId": "00aacf25-8d16-4c67-9dee-c4e20400593f"
   },
   "outputs": [
    {
     "name": "stdout",
     "output_type": "stream",
     "text": [
      "1\n",
      "2\n",
      "3\n",
      "hi\n"
     ]
    }
   ],
   "source": [
    "for x in [1,2,3]:\n",
    "    print(x)\n",
    "print('hi')"
   ]
  },
  {
   "cell_type": "code",
   "execution_count": 1,
   "metadata": {
    "colab": {
     "base_uri": "https://localhost:8080/"
    },
    "executionInfo": {
     "elapsed": 482,
     "status": "ok",
     "timestamp": 1674331311982,
     "user": {
      "displayName": "Chennaveer Jogur",
      "userId": "08412919184894538156"
     },
     "user_tz": -330
    },
    "id": "jizmess4QxES",
    "outputId": "21df2cc9-8fa5-4bc2-a97c-3d58aa6a8ec1"
   },
   "outputs": [
    {
     "name": "stdout",
     "output_type": "stream",
     "text": [
      "1 2 3 4 5 6 "
     ]
    }
   ],
   "source": [
    "list1 = [1,2,3,4,5,6]\n",
    "\n",
    "for x in list1:\n",
    "    print(x, end=\" \")"
   ]
  },
  {
   "cell_type": "code",
   "execution_count": 2,
   "metadata": {
    "colab": {
     "base_uri": "https://localhost:8080/"
    },
    "executionInfo": {
     "elapsed": 603,
     "status": "ok",
     "timestamp": 1674331317678,
     "user": {
      "displayName": "Chennaveer Jogur",
      "userId": "08412919184894538156"
     },
     "user_tz": -330
    },
    "id": "6Via9BwSQxES",
    "outputId": "2d4e89d8-d020-4bbd-878c-495aa6341a20"
   },
   "outputs": [
    {
     "name": "stdout",
     "output_type": "stream",
     "text": [
      "h\n",
      "e\n",
      "l\n",
      "l\n",
      "o\n"
     ]
    }
   ],
   "source": [
    "for y in 'hello':\n",
    "    print(y)"
   ]
  },
  {
   "cell_type": "code",
   "execution_count": 3,
   "metadata": {},
   "outputs": [
    {
     "name": "stdout",
     "output_type": "stream",
     "text": [
      "hello"
     ]
    }
   ],
   "source": [
    "for y in 'hello':\n",
    "    print(y, end=\"\")"
   ]
  },
  {
   "cell_type": "code",
   "execution_count": 4,
   "metadata": {
    "colab": {
     "base_uri": "https://localhost:8080/"
    },
    "executionInfo": {
     "elapsed": 8,
     "status": "ok",
     "timestamp": 1674331997956,
     "user": {
      "displayName": "Chennaveer Jogur",
      "userId": "08412919184894538156"
     },
     "user_tz": -330
    },
    "id": "ng5Hd-8KQxET",
    "outputId": "75581cc3-f4ae-4b30-c5db-af3eebe5a097"
   },
   "outputs": [
    {
     "data": {
      "text/plain": [
       "[1, 5.5, 'hi']"
      ]
     },
     "execution_count": 4,
     "metadata": {},
     "output_type": "execute_result"
    }
   ],
   "source": [
    "list2 = [1,5.5,'hi']\n",
    "list2"
   ]
  },
  {
   "cell_type": "code",
   "execution_count": 8,
   "metadata": {},
   "outputs": [],
   "source": [
    "list2[2]=\"hello\""
   ]
  },
  {
   "cell_type": "code",
   "execution_count": 9,
   "metadata": {},
   "outputs": [
    {
     "data": {
      "text/plain": [
       "[1, 5.5, 'hello']"
      ]
     },
     "execution_count": 9,
     "metadata": {},
     "output_type": "execute_result"
    }
   ],
   "source": [
    "list2"
   ]
  },
  {
   "cell_type": "code",
   "execution_count": 10,
   "metadata": {
    "colab": {
     "base_uri": "https://localhost:8080/"
    },
    "executionInfo": {
     "elapsed": 639,
     "status": "ok",
     "timestamp": 1674332019486,
     "user": {
      "displayName": "Chennaveer Jogur",
      "userId": "08412919184894538156"
     },
     "user_tz": -330
    },
    "id": "mD6tAQQTQxET",
    "outputId": "65a933cd-77de-445a-cd7e-04ded3cebcd3"
   },
   "outputs": [
    {
     "data": {
      "text/plain": [
       "(4, 7.7, 'hello')"
      ]
     },
     "execution_count": 10,
     "metadata": {},
     "output_type": "execute_result"
    }
   ],
   "source": [
    "tup2 = (4,7.7,'hello')\n",
    "tup2"
   ]
  },
  {
   "cell_type": "code",
   "execution_count": 11,
   "metadata": {},
   "outputs": [
    {
     "ename": "TypeError",
     "evalue": "'tuple' object does not support item assignment",
     "output_type": "error",
     "traceback": [
      "\u001b[1;31m---------------------------------------------------------------------------\u001b[0m",
      "\u001b[1;31mTypeError\u001b[0m                                 Traceback (most recent call last)",
      "\u001b[1;32m~\\AppData\\Local\\Temp\\ipykernel_3628\\2553040543.py\u001b[0m in \u001b[0;36m<module>\u001b[1;34m\u001b[0m\n\u001b[1;32m----> 1\u001b[1;33m \u001b[0mtup2\u001b[0m\u001b[1;33m[\u001b[0m\u001b[1;36m2\u001b[0m\u001b[1;33m]\u001b[0m \u001b[1;33m=\u001b[0m \u001b[1;34m\"Hi\"\u001b[0m\u001b[1;33m\u001b[0m\u001b[1;33m\u001b[0m\u001b[0m\n\u001b[0m",
      "\u001b[1;31mTypeError\u001b[0m: 'tuple' object does not support item assignment"
     ]
    }
   ],
   "source": [
    "tup2[2] = \"Hi\""
   ]
  },
  {
   "cell_type": "code",
   "execution_count": null,
   "metadata": {
    "colab": {
     "base_uri": "https://localhost:8080/",
     "height": 36
    },
    "executionInfo": {
     "elapsed": 401,
     "status": "ok",
     "timestamp": 1677289351140,
     "user": {
      "displayName": "ashutosh upadhyay",
      "userId": "04009039228362967146"
     },
     "user_tz": -330
    },
    "id": "7d-1nUxCQxEU",
    "outputId": "aca9d9a8-44a3-4982-b65b-330de624b214"
   },
   "outputs": [],
   "source": [
    "str2 = 'hello123'\n",
    "str2"
   ]
  },
  {
   "cell_type": "code",
   "execution_count": null,
   "metadata": {},
   "outputs": [],
   "source": [
    "str2[4]"
   ]
  },
  {
   "cell_type": "code",
   "execution_count": null,
   "metadata": {},
   "outputs": [],
   "source": [
    "str2[3]='L'"
   ]
  },
  {
   "cell_type": "markdown",
   "metadata": {
    "id": "4qXDxS8DQxEU"
   },
   "source": [
    "## Sequence methods"
   ]
  },
  {
   "cell_type": "code",
   "execution_count": null,
   "metadata": {
    "colab": {
     "base_uri": "https://localhost:8080/",
     "height": 165
    },
    "executionInfo": {
     "elapsed": 400,
     "status": "error",
     "timestamp": 1677289310826,
     "user": {
      "displayName": "ashutosh upadhyay",
      "userId": "04009039228362967146"
     },
     "user_tz": -330
    },
    "id": "4UcjiP1J83UE",
    "outputId": "3e1a540d-2d4f-4116-926b-b5914c9c0e40"
   },
   "outputs": [],
   "source": [
    "list1"
   ]
  },
  {
   "cell_type": "code",
   "execution_count": null,
   "metadata": {
    "colab": {
     "base_uri": "https://localhost:8080/"
    },
    "executionInfo": {
     "elapsed": 491,
     "status": "ok",
     "timestamp": 1674331807616,
     "user": {
      "displayName": "Chennaveer Jogur",
      "userId": "08412919184894538156"
     },
     "user_tz": -330
    },
    "id": "K_BWX7ydQxEV",
    "outputId": "a9a1879b-8a55-483c-b5f1-47975bebf07a"
   },
   "outputs": [],
   "source": [
    "3 in list1"
   ]
  },
  {
   "cell_type": "code",
   "execution_count": null,
   "metadata": {
    "id": "eCTfU0PHQxEW"
   },
   "outputs": [],
   "source": [
    "10 in list1"
   ]
  },
  {
   "cell_type": "code",
   "execution_count": null,
   "metadata": {
    "colab": {
     "base_uri": "https://localhost:8080/"
    },
    "executionInfo": {
     "elapsed": 498,
     "status": "ok",
     "timestamp": 1674331816737,
     "user": {
      "displayName": "Chennaveer Jogur",
      "userId": "08412919184894538156"
     },
     "user_tz": -330
    },
    "id": "izEuXU1sQxEW",
    "outputId": "2f4d23f0-db63-4309-a33d-24d565bd3696"
   },
   "outputs": [],
   "source": [
    "10 not in list1"
   ]
  },
  {
   "cell_type": "code",
   "execution_count": null,
   "metadata": {
    "executionInfo": {
     "elapsed": 387,
     "status": "ok",
     "timestamp": 1677289385359,
     "user": {
      "displayName": "ashutosh upadhyay",
      "userId": "04009039228362967146"
     },
     "user_tz": -330
    },
    "id": "Y-coN1gV9FWD"
   },
   "outputs": [],
   "source": [
    "str1='hello world'"
   ]
  },
  {
   "cell_type": "code",
   "execution_count": null,
   "metadata": {
    "colab": {
     "base_uri": "https://localhost:8080/",
     "height": 35
    },
    "executionInfo": {
     "elapsed": 7,
     "status": "ok",
     "timestamp": 1674331884823,
     "user": {
      "displayName": "Chennaveer Jogur",
      "userId": "08412919184894538156"
     },
     "user_tz": -330
    },
    "id": "iA24cDaQQxEW",
    "outputId": "88ba367d-9e4c-4246-948c-be034303095d"
   },
   "outputs": [],
   "source": [
    "str1"
   ]
  },
  {
   "cell_type": "code",
   "execution_count": null,
   "metadata": {
    "colab": {
     "base_uri": "https://localhost:8080/"
    },
    "executionInfo": {
     "elapsed": 485,
     "status": "ok",
     "timestamp": 1674331894493,
     "user": {
      "displayName": "Chennaveer Jogur",
      "userId": "08412919184894538156"
     },
     "user_tz": -330
    },
    "id": "-wcI5BEDQxEW",
    "outputId": "6aa2c4bd-60c4-4568-bad4-b97b106bda84"
   },
   "outputs": [],
   "source": [
    "'w' in str1"
   ]
  },
  {
   "cell_type": "code",
   "execution_count": null,
   "metadata": {
    "colab": {
     "base_uri": "https://localhost:8080/"
    },
    "executionInfo": {
     "elapsed": 482,
     "status": "ok",
     "timestamp": 1674331890556,
     "user": {
      "displayName": "Chennaveer Jogur",
      "userId": "08412919184894538156"
     },
     "user_tz": -330
    },
    "id": "o2Kc0BJHQxEX",
    "outputId": "d38adf93-45ce-4c50-fede-9e140b9a5bf6"
   },
   "outputs": [],
   "source": [
    "'a' not in str1"
   ]
  },
  {
   "cell_type": "markdown",
   "metadata": {
    "id": "f1vmB2mkQxEX"
   },
   "source": [
    "## Concatenate"
   ]
  },
  {
   "cell_type": "code",
   "execution_count": 12,
   "metadata": {},
   "outputs": [],
   "source": [
    "list1 = [1,2,3,45]"
   ]
  },
  {
   "cell_type": "code",
   "execution_count": 13,
   "metadata": {},
   "outputs": [],
   "source": [
    "list2 = [10,11,67,56]"
   ]
  },
  {
   "cell_type": "code",
   "execution_count": 14,
   "metadata": {
    "colab": {
     "base_uri": "https://localhost:8080/"
    },
    "executionInfo": {
     "elapsed": 479,
     "status": "ok",
     "timestamp": 1674332002173,
     "user": {
      "displayName": "Chennaveer Jogur",
      "userId": "08412919184894538156"
     },
     "user_tz": -330
    },
    "id": "BUY-qt7nQxEX",
    "outputId": "2e76c0d4-f5a2-44d2-9cf9-a6cfdcbe82c0"
   },
   "outputs": [
    {
     "data": {
      "text/plain": [
       "[1, 2, 3, 45, 10, 11, 67, 56]"
      ]
     },
     "execution_count": 14,
     "metadata": {},
     "output_type": "execute_result"
    }
   ],
   "source": [
    "new_list=list1 + list2\n",
    "new_list"
   ]
  },
  {
   "cell_type": "code",
   "execution_count": 17,
   "metadata": {
    "id": "LDAKvLx7966I"
   },
   "outputs": [],
   "source": [
    "tup1=(10,20,30,40,50)"
   ]
  },
  {
   "cell_type": "code",
   "execution_count": 15,
   "metadata": {},
   "outputs": [],
   "source": [
    "tup2 =(1,3,10,56)"
   ]
  },
  {
   "cell_type": "code",
   "execution_count": 19,
   "metadata": {
    "colab": {
     "base_uri": "https://localhost:8080/"
    },
    "executionInfo": {
     "elapsed": 12,
     "status": "ok",
     "timestamp": 1674332153636,
     "user": {
      "displayName": "Chennaveer Jogur",
      "userId": "08412919184894538156"
     },
     "user_tz": -330
    },
    "id": "BqqqY4pkQxEX",
    "outputId": "3cacf953-c9d2-411e-ef33-1b644d0d744c"
   },
   "outputs": [
    {
     "data": {
      "text/plain": [
       "(10, 20, 30, 40, 50, 1, 3, 10, 56)"
      ]
     },
     "execution_count": 19,
     "metadata": {},
     "output_type": "execute_result"
    }
   ],
   "source": [
    "tup3 = tup1 + tup2\n",
    "tup3"
   ]
  },
  {
   "cell_type": "code",
   "execution_count": 20,
   "metadata": {
    "id": "1lKn1avpQxEY"
   },
   "outputs": [
    {
     "data": {
      "text/plain": [
       "'abcxyz'"
      ]
     },
     "execution_count": 20,
     "metadata": {},
     "output_type": "execute_result"
    }
   ],
   "source": [
    "'abc' + 'xyz'"
   ]
  },
  {
   "cell_type": "code",
   "execution_count": null,
   "metadata": {},
   "outputs": [],
   "source": [
    "l1 = [3,5,7,8,9]\n",
    "l2 = [8,9,3,8,9]\n",
    "newlist=l1+l2\n",
    "print(newlist)\n",
    "\n",
    "for x in newlist:\n",
    "    print(x**2)"
   ]
  },
  {
   "cell_type": "markdown",
   "metadata": {
    "id": "8cmaPYv8QxEY"
   },
   "source": [
    "## Repetition"
   ]
  },
  {
   "cell_type": "code",
   "execution_count": 21,
   "metadata": {
    "colab": {
     "base_uri": "https://localhost:8080/",
     "height": 36
    },
    "executionInfo": {
     "elapsed": 22,
     "status": "ok",
     "timestamp": 1677289295216,
     "user": {
      "displayName": "ashutosh upadhyay",
      "userId": "04009039228362967146"
     },
     "user_tz": -330
    },
    "id": "8egufCHLQxEY",
    "outputId": "9f67b0ff-ba88-471b-b3ba-adc9d6a0cb8f"
   },
   "outputs": [
    {
     "data": {
      "text/plain": [
       "'Hello!Hello!Hello!'"
      ]
     },
     "execution_count": 21,
     "metadata": {},
     "output_type": "execute_result"
    }
   ],
   "source": [
    "3 * \"Hello!\""
   ]
  },
  {
   "cell_type": "code",
   "execution_count": 22,
   "metadata": {},
   "outputs": [
    {
     "data": {
      "text/plain": [
       "[1, 2, 3, 45]"
      ]
     },
     "execution_count": 22,
     "metadata": {},
     "output_type": "execute_result"
    }
   ],
   "source": [
    "list1"
   ]
  },
  {
   "cell_type": "code",
   "execution_count": 23,
   "metadata": {
    "colab": {
     "base_uri": "https://localhost:8080/"
    },
    "executionInfo": {
     "elapsed": 386,
     "status": "ok",
     "timestamp": 1677289325614,
     "user": {
      "displayName": "ashutosh upadhyay",
      "userId": "04009039228362967146"
     },
     "user_tz": -330
    },
    "id": "9s3s5Y_6QxEY",
    "outputId": "2f0bd7cd-ca73-4d6f-b91c-dabefddec437"
   },
   "outputs": [
    {
     "name": "stdout",
     "output_type": "stream",
     "text": [
      "[1, 2, 3, 45, 1, 2, 3, 45, 1, 2, 3, 45, 1, 2, 3, 45, 1, 2, 3, 45]\n"
     ]
    }
   ],
   "source": [
    "print(5*list1)"
   ]
  },
  {
   "cell_type": "code",
   "execution_count": null,
   "metadata": {
    "id": "mZJkKf4tQxEZ"
   },
   "outputs": [],
   "source": [
    "## Lenth,Min,Max"
   ]
  },
  {
   "cell_type": "code",
   "execution_count": 24,
   "metadata": {
    "id": "yfP8l9bKQxEZ"
   },
   "outputs": [
    {
     "data": {
      "text/plain": [
       "[1, 2, 3, 45]"
      ]
     },
     "execution_count": 24,
     "metadata": {},
     "output_type": "execute_result"
    }
   ],
   "source": [
    "list1"
   ]
  },
  {
   "cell_type": "code",
   "execution_count": 25,
   "metadata": {
    "id": "r2FGUSqnQxEZ"
   },
   "outputs": [
    {
     "data": {
      "text/plain": [
       "4"
      ]
     },
     "execution_count": 25,
     "metadata": {},
     "output_type": "execute_result"
    }
   ],
   "source": [
    "len(list1)"
   ]
  },
  {
   "cell_type": "code",
   "execution_count": 26,
   "metadata": {
    "id": "abUo2TU9QxEZ"
   },
   "outputs": [
    {
     "data": {
      "text/plain": [
       "1"
      ]
     },
     "execution_count": 26,
     "metadata": {},
     "output_type": "execute_result"
    }
   ],
   "source": [
    "min(list1)"
   ]
  },
  {
   "cell_type": "code",
   "execution_count": 27,
   "metadata": {
    "id": "Yluq6zvIQxEZ"
   },
   "outputs": [
    {
     "data": {
      "text/plain": [
       "45"
      ]
     },
     "execution_count": 27,
     "metadata": {},
     "output_type": "execute_result"
    }
   ],
   "source": [
    "max(list1)"
   ]
  },
  {
   "cell_type": "code",
   "execution_count": 28,
   "metadata": {
    "id": "9lXEfJlxQxEZ"
   },
   "outputs": [
    {
     "data": {
      "text/plain": [
       "[10, 11, 67, 56]"
      ]
     },
     "execution_count": 28,
     "metadata": {},
     "output_type": "execute_result"
    }
   ],
   "source": [
    "list2"
   ]
  },
  {
   "cell_type": "code",
   "execution_count": 29,
   "metadata": {},
   "outputs": [
    {
     "data": {
      "text/plain": [
       "4"
      ]
     },
     "execution_count": 29,
     "metadata": {},
     "output_type": "execute_result"
    }
   ],
   "source": [
    "len(list2)"
   ]
  },
  {
   "cell_type": "code",
   "execution_count": 30,
   "metadata": {
    "colab": {
     "base_uri": "https://localhost:8080/",
     "height": 166
    },
    "executionInfo": {
     "elapsed": 497,
     "status": "error",
     "timestamp": 1674332696978,
     "user": {
      "displayName": "Chennaveer Jogur",
      "userId": "08412919184894538156"
     },
     "user_tz": -330
    },
    "id": "HjofE7wDQxEa",
    "outputId": "c9ded6e2-d571-445b-e06f-b9421b392d1a"
   },
   "outputs": [
    {
     "data": {
      "text/plain": [
       "10"
      ]
     },
     "execution_count": 30,
     "metadata": {},
     "output_type": "execute_result"
    }
   ],
   "source": [
    "min(list2)"
   ]
  },
  {
   "cell_type": "code",
   "execution_count": null,
   "metadata": {
    "colab": {
     "base_uri": "https://localhost:8080/"
    },
    "executionInfo": {
     "elapsed": 507,
     "status": "ok",
     "timestamp": 1674335855015,
     "user": {
      "displayName": "Chennaveer Jogur",
      "userId": "08412919184894538156"
     },
     "user_tz": -330
    },
    "id": "4fWU_w2zQxEa",
    "outputId": "da56b32c-e288-4192-924b-0c15c2d25f0d"
   },
   "outputs": [],
   "source": [
    "list3 = [1,5,5.5,9.9,10]\n",
    "list3"
   ]
  },
  {
   "cell_type": "code",
   "execution_count": null,
   "metadata": {
    "id": "7eKmS2LOQxEa"
   },
   "outputs": [],
   "source": [
    "min(list3)"
   ]
  },
  {
   "cell_type": "code",
   "execution_count": null,
   "metadata": {
    "id": "WeLMrbP4QxEa"
   },
   "outputs": [],
   "source": [
    "max(list3)"
   ]
  },
  {
   "cell_type": "code",
   "execution_count": null,
   "metadata": {
    "id": "zBYAr8JIQxEa"
   },
   "outputs": [],
   "source": [
    "len(list3)"
   ]
  },
  {
   "cell_type": "markdown",
   "metadata": {
    "id": "eH6CwTCqQxEa"
   },
   "source": [
    "## Index Position"
   ]
  },
  {
   "cell_type": "code",
   "execution_count": 45,
   "metadata": {
    "colab": {
     "base_uri": "https://localhost:8080/",
     "height": 165
    },
    "executionInfo": {
     "elapsed": 440,
     "status": "error",
     "timestamp": 1677289336608,
     "user": {
      "displayName": "ashutosh upadhyay",
      "userId": "04009039228362967146"
     },
     "user_tz": -330
    },
    "id": "7MRwcujaQxEb",
    "outputId": "c1befb54-9c30-4571-c961-1788fb8b4e16"
   },
   "outputs": [],
   "source": [
    "str1=\"Hello World\""
   ]
  },
  {
   "cell_type": "code",
   "execution_count": null,
   "metadata": {
    "colab": {
     "base_uri": "https://localhost:8080/",
     "height": 36
    },
    "executionInfo": {
     "elapsed": 10,
     "status": "ok",
     "timestamp": 1677289421922,
     "user": {
      "displayName": "ashutosh upadhyay",
      "userId": "04009039228362967146"
     },
     "user_tz": -330
    },
    "id": "rDM9RJZGQxEb",
    "outputId": "fa846ea5-760e-481d-994a-178438471179"
   },
   "outputs": [],
   "source": [
    "str1.index('w')\n",
    "#str1"
   ]
  },
  {
   "cell_type": "code",
   "execution_count": null,
   "metadata": {
    "colab": {
     "base_uri": "https://localhost:8080/"
    },
    "executionInfo": {
     "elapsed": 13,
     "status": "ok",
     "timestamp": 1677289416111,
     "user": {
      "displayName": "ashutosh upadhyay",
      "userId": "04009039228362967146"
     },
     "user_tz": -330
    },
    "id": "acFiaKirQxEb",
    "outputId": "39accee9-c457-4937-a199-a1e4a90cd8aa"
   },
   "outputs": [],
   "source": [
    "str1.index('l',4)"
   ]
  },
  {
   "cell_type": "code",
   "execution_count": null,
   "metadata": {
    "colab": {
     "base_uri": "https://localhost:8080/"
    },
    "executionInfo": {
     "elapsed": 375,
     "status": "ok",
     "timestamp": 1677289438257,
     "user": {
      "displayName": "ashutosh upadhyay",
      "userId": "04009039228362967146"
     },
     "user_tz": -330
    },
    "id": "DFc4NL-RQxEb",
    "outputId": "45e23225-6d20-4cd3-d9d6-58806c649d3d"
   },
   "outputs": [],
   "source": [
    "str1.index('o',5,9)"
   ]
  },
  {
   "cell_type": "markdown",
   "metadata": {
    "id": "2SWq-8RLQxEb"
   },
   "source": [
    "## Addition of elements"
   ]
  },
  {
   "cell_type": "code",
   "execution_count": 2,
   "metadata": {},
   "outputs": [
    {
     "data": {
      "text/plain": [
       "[1, 2, 3, 45, 10, [20, 30]]"
      ]
     },
     "execution_count": 2,
     "metadata": {},
     "output_type": "execute_result"
    }
   ],
   "source": [
    "list1 = [1,2,3,45,10,[20,30]]\n",
    "list1"
   ]
  },
  {
   "cell_type": "code",
   "execution_count": 3,
   "metadata": {
    "id": "Ya9XHRETQxEb"
   },
   "outputs": [
    {
     "data": {
      "text/plain": [
       "[1, 2, 3, 45, 10, [20, 30], 10]"
      ]
     },
     "execution_count": 3,
     "metadata": {},
     "output_type": "execute_result"
    }
   ],
   "source": [
    "list1.append(10)\n",
    "list1"
   ]
  },
  {
   "cell_type": "code",
   "execution_count": 4,
   "metadata": {},
   "outputs": [
    {
     "data": {
      "text/plain": [
       "[1, 2, 3, 45, 10, [20, 30], 10, [100, 300]]"
      ]
     },
     "execution_count": 4,
     "metadata": {},
     "output_type": "execute_result"
    }
   ],
   "source": [
    "list1.append([100,300])\n",
    "list1"
   ]
  },
  {
   "cell_type": "code",
   "execution_count": 5,
   "metadata": {},
   "outputs": [],
   "source": [
    "list1.append((40,50))"
   ]
  },
  {
   "cell_type": "code",
   "execution_count": 6,
   "metadata": {},
   "outputs": [
    {
     "data": {
      "text/plain": [
       "[1, 2, 3, 45, 10, [20, 30], 10, [100, 300], (40, 50)]"
      ]
     },
     "execution_count": 6,
     "metadata": {},
     "output_type": "execute_result"
    }
   ],
   "source": [
    "list1"
   ]
  },
  {
   "cell_type": "code",
   "execution_count": 7,
   "metadata": {},
   "outputs": [],
   "source": [
    "list1.append({1,4,5})"
   ]
  },
  {
   "cell_type": "code",
   "execution_count": 8,
   "metadata": {},
   "outputs": [
    {
     "data": {
      "text/plain": [
       "[1, 2, 3, 45, 10, [20, 30], 10, [100, 300], (40, 50), {1, 4, 5}]"
      ]
     },
     "execution_count": 8,
     "metadata": {},
     "output_type": "execute_result"
    }
   ],
   "source": [
    "list1"
   ]
  },
  {
   "cell_type": "code",
   "execution_count": 43,
   "metadata": {
    "id": "3AlvG59_QxEc"
   },
   "outputs": [
    {
     "data": {
      "text/plain": [
       "(10, 20, 30, 40, 50)"
      ]
     },
     "execution_count": 43,
     "metadata": {},
     "output_type": "execute_result"
    }
   ],
   "source": [
    "tup1"
   ]
  },
  {
   "cell_type": "code",
   "execution_count": 9,
   "metadata": {
    "id": "Co12hDwGQxEc"
   },
   "outputs": [
    {
     "data": {
      "text/plain": [
       "[1, 2, 3, 45, 10, [20, 30], 10, [100, 300], (40, 50), {1, 4, 5}]"
      ]
     },
     "execution_count": 9,
     "metadata": {},
     "output_type": "execute_result"
    }
   ],
   "source": [
    "list1"
   ]
  },
  {
   "cell_type": "code",
   "execution_count": 10,
   "metadata": {
    "id": "b66PghtQQxEc"
   },
   "outputs": [
    {
     "data": {
      "text/plain": [
       "[1, 2, 3, 45, 67, 10, [20, 30], 10, [100, 300], (40, 50), {1, 4, 5}]"
      ]
     },
     "execution_count": 10,
     "metadata": {},
     "output_type": "execute_result"
    }
   ],
   "source": [
    "list1.insert(4,67)\n",
    "list1"
   ]
  },
  {
   "cell_type": "code",
   "execution_count": 11,
   "metadata": {
    "id": "w1wR5ZtYQxEc"
   },
   "outputs": [
    {
     "data": {
      "text/plain": [
       "[1, 2, 3, 45, 72, 10, [20, 30], 10, [100, 300], (40, 50), {1, 4, 5}]"
      ]
     },
     "execution_count": 11,
     "metadata": {},
     "output_type": "execute_result"
    }
   ],
   "source": [
    "list1[4] += 5\n",
    "list1"
   ]
  },
  {
   "cell_type": "code",
   "execution_count": 12,
   "metadata": {
    "id": "adz2nUNnQxEc"
   },
   "outputs": [
    {
     "data": {
      "text/plain": [
       "[1, 55, 66, 77, 72, 10, [20, 30], 10, [100, 300], (40, 50), {1, 4, 5}]"
      ]
     },
     "execution_count": 12,
     "metadata": {},
     "output_type": "execute_result"
    }
   ],
   "source": [
    "list1[1:4] = [55,66,77]\n",
    "list1"
   ]
  },
  {
   "cell_type": "code",
   "execution_count": 14,
   "metadata": {},
   "outputs": [
    {
     "data": {
      "text/plain": [
       "20"
      ]
     },
     "execution_count": 14,
     "metadata": {},
     "output_type": "execute_result"
    }
   ],
   "source": [
    "list1[6][0]"
   ]
  },
  {
   "cell_type": "markdown",
   "metadata": {
    "id": "ssxcAskFQxEd"
   },
   "source": [
    "## Remove elements"
   ]
  },
  {
   "cell_type": "code",
   "execution_count": 15,
   "metadata": {
    "colab": {
     "base_uri": "https://localhost:8080/"
    },
    "executionInfo": {
     "elapsed": 497,
     "status": "ok",
     "timestamp": 1674334308697,
     "user": {
      "displayName": "Chennaveer Jogur",
      "userId": "08412919184894538156"
     },
     "user_tz": -330
    },
    "id": "uWEZXq1eQxEd",
    "outputId": "97112639-5bd6-42fd-86ef-0a4abb53c7b7"
   },
   "outputs": [
    {
     "data": {
      "text/plain": [
       "[10, 20, 30, 40, 50, 60, 70, 80, 90, 100]"
      ]
     },
     "execution_count": 15,
     "metadata": {},
     "output_type": "execute_result"
    }
   ],
   "source": [
    "lst = [10,20,30,40,50,60,70,80,90,100]\n",
    "lst"
   ]
  },
  {
   "cell_type": "code",
   "execution_count": 51,
   "metadata": {
    "id": "NxVaJGnTQxEd"
   },
   "outputs": [],
   "source": [
    "#del lst[1:4]"
   ]
  },
  {
   "cell_type": "code",
   "execution_count": 16,
   "metadata": {
    "colab": {
     "base_uri": "https://localhost:8080/"
    },
    "executionInfo": {
     "elapsed": 499,
     "status": "ok",
     "timestamp": 1674334341967,
     "user": {
      "displayName": "Chennaveer Jogur",
      "userId": "08412919184894538156"
     },
     "user_tz": -330
    },
    "id": "Ep_hPN3nQxEd",
    "outputId": "753795d8-95d8-48b4-9899-3bb140b095f8"
   },
   "outputs": [
    {
     "data": {
      "text/plain": [
       "[10, 20, 30, 40, 50, 60, 70, 80, 90, 100]"
      ]
     },
     "execution_count": 16,
     "metadata": {},
     "output_type": "execute_result"
    }
   ],
   "source": [
    "lst"
   ]
  },
  {
   "cell_type": "code",
   "execution_count": 17,
   "metadata": {
    "id": "j-WNNXt4QxEd"
   },
   "outputs": [
    {
     "data": {
      "text/plain": [
       "100"
      ]
     },
     "execution_count": 17,
     "metadata": {},
     "output_type": "execute_result"
    }
   ],
   "source": [
    "lst.pop()"
   ]
  },
  {
   "cell_type": "code",
   "execution_count": 18,
   "metadata": {
    "id": "tt4YwAP6QxEd"
   },
   "outputs": [
    {
     "data": {
      "text/plain": [
       "[10, 20, 30, 40, 50, 60, 70, 80, 90]"
      ]
     },
     "execution_count": 18,
     "metadata": {},
     "output_type": "execute_result"
    }
   ],
   "source": [
    "lst"
   ]
  },
  {
   "cell_type": "code",
   "execution_count": 19,
   "metadata": {
    "colab": {
     "base_uri": "https://localhost:8080/"
    },
    "executionInfo": {
     "elapsed": 483,
     "status": "ok",
     "timestamp": 1674334537080,
     "user": {
      "displayName": "Chennaveer Jogur",
      "userId": "08412919184894538156"
     },
     "user_tz": -330
    },
    "id": "Ru5VicnMQxEd",
    "outputId": "21b3dff2-7d1e-4b2c-a808-fa17e1551e4a"
   },
   "outputs": [
    {
     "data": {
      "text/plain": [
       "30"
      ]
     },
     "execution_count": 19,
     "metadata": {},
     "output_type": "execute_result"
    }
   ],
   "source": [
    "lst.pop(2)"
   ]
  },
  {
   "cell_type": "code",
   "execution_count": 20,
   "metadata": {},
   "outputs": [
    {
     "data": {
      "text/plain": [
       "[10, 20, 40, 50, 60, 70, 80, 90]"
      ]
     },
     "execution_count": 20,
     "metadata": {},
     "output_type": "execute_result"
    }
   ],
   "source": [
    "lst"
   ]
  },
  {
   "cell_type": "code",
   "execution_count": 21,
   "metadata": {
    "id": "t4JbUC1pQxEd"
   },
   "outputs": [],
   "source": [
    "lst.remove(70)"
   ]
  },
  {
   "cell_type": "code",
   "execution_count": 22,
   "metadata": {
    "id": "9F3s8Q9RQxEe"
   },
   "outputs": [
    {
     "data": {
      "text/plain": [
       "[10, 20, 40, 50, 60, 80, 90]"
      ]
     },
     "execution_count": 22,
     "metadata": {},
     "output_type": "execute_result"
    }
   ],
   "source": [
    "lst"
   ]
  },
  {
   "cell_type": "code",
   "execution_count": 61,
   "metadata": {},
   "outputs": [
    {
     "data": {
      "text/plain": [
       "[10, 50, 80, 90, 50, 50]"
      ]
     },
     "execution_count": 61,
     "metadata": {},
     "output_type": "execute_result"
    }
   ],
   "source": [
    "lst.append(50)\n",
    "lst"
   ]
  },
  {
   "cell_type": "code",
   "execution_count": 63,
   "metadata": {},
   "outputs": [
    {
     "data": {
      "text/plain": [
       "[10, 80, 90, 50]"
      ]
     },
     "execution_count": 63,
     "metadata": {},
     "output_type": "execute_result"
    }
   ],
   "source": [
    "lst.remove(50)\n",
    "lst"
   ]
  },
  {
   "cell_type": "code",
   "execution_count": 26,
   "metadata": {},
   "outputs": [
    {
     "data": {
      "text/plain": [
       "[40, 20, 30, 40, 40, 40]"
      ]
     },
     "execution_count": 26,
     "metadata": {},
     "output_type": "execute_result"
    }
   ],
   "source": [
    "lst1 =[40,20,30,40,40,40]\n",
    "lst1"
   ]
  },
  {
   "cell_type": "code",
   "execution_count": 25,
   "metadata": {},
   "outputs": [
    {
     "data": {
      "text/plain": [
       "[40, 20, 40, 40]"
      ]
     },
     "execution_count": 25,
     "metadata": {},
     "output_type": "execute_result"
    }
   ],
   "source": [
    "del lst1[2:4]\n",
    "lst1"
   ]
  },
  {
   "cell_type": "code",
   "execution_count": 27,
   "metadata": {},
   "outputs": [],
   "source": [
    "del lst1"
   ]
  },
  {
   "cell_type": "code",
   "execution_count": 28,
   "metadata": {},
   "outputs": [
    {
     "ename": "NameError",
     "evalue": "name 'lst1' is not defined",
     "output_type": "error",
     "traceback": [
      "\u001b[1;31m---------------------------------------------------------------------------\u001b[0m",
      "\u001b[1;31mNameError\u001b[0m                                 Traceback (most recent call last)",
      "Cell \u001b[1;32mIn[28], line 1\u001b[0m\n\u001b[1;32m----> 1\u001b[0m lst1\n",
      "\u001b[1;31mNameError\u001b[0m: name 'lst1' is not defined"
     ]
    }
   ],
   "source": [
    "lst1"
   ]
  },
  {
   "cell_type": "code",
   "execution_count": 29,
   "metadata": {
    "id": "58erH5W8QxEe"
   },
   "outputs": [
    {
     "ename": "AttributeError",
     "evalue": "'tuple' object has no attribute 'pop'",
     "output_type": "error",
     "traceback": [
      "\u001b[1;31m---------------------------------------------------------------------------\u001b[0m",
      "\u001b[1;31mAttributeError\u001b[0m                            Traceback (most recent call last)",
      "Cell \u001b[1;32mIn[29], line 2\u001b[0m\n\u001b[0;32m      1\u001b[0m tup1 \u001b[38;5;241m=\u001b[39m (\u001b[38;5;241m1\u001b[39m,\u001b[38;5;241m2\u001b[39m,\u001b[38;5;241m4\u001b[39m)\n\u001b[1;32m----> 2\u001b[0m x\u001b[38;5;241m=\u001b[39mtup1\u001b[38;5;241m.\u001b[39mpop()\n\u001b[0;32m      3\u001b[0m x\n",
      "\u001b[1;31mAttributeError\u001b[0m: 'tuple' object has no attribute 'pop'"
     ]
    }
   ],
   "source": [
    "tup1 = (1,2,4)\n",
    "x=tup1.pop()\n",
    "x"
   ]
  },
  {
   "cell_type": "code",
   "execution_count": 30,
   "metadata": {
    "id": "5KpPjyNTQxEe"
   },
   "outputs": [
    {
     "ename": "AttributeError",
     "evalue": "'tuple' object has no attribute 'clear'",
     "output_type": "error",
     "traceback": [
      "\u001b[1;31m---------------------------------------------------------------------------\u001b[0m",
      "\u001b[1;31mAttributeError\u001b[0m                            Traceback (most recent call last)",
      "Cell \u001b[1;32mIn[30], line 1\u001b[0m\n\u001b[1;32m----> 1\u001b[0m tup1\u001b[38;5;241m.\u001b[39mclear()\n\u001b[0;32m      2\u001b[0m tup1\n",
      "\u001b[1;31mAttributeError\u001b[0m: 'tuple' object has no attribute 'clear'"
     ]
    }
   ],
   "source": [
    "tup1.clear()\n",
    "tup1"
   ]
  },
  {
   "cell_type": "code",
   "execution_count": 31,
   "metadata": {},
   "outputs": [],
   "source": [
    "del tup1"
   ]
  },
  {
   "cell_type": "markdown",
   "metadata": {
    "id": "n833VbCQQxEe"
   },
   "source": [
    "## Reverse"
   ]
  },
  {
   "cell_type": "code",
   "execution_count": 32,
   "metadata": {
    "id": "PxKe5XFuQxEe"
   },
   "outputs": [
    {
     "data": {
      "text/plain": [
       "[10, 20, 30, 40, 500, 50, 60, 99, 70, 80, 90, 100]"
      ]
     },
     "execution_count": 32,
     "metadata": {},
     "output_type": "execute_result"
    }
   ],
   "source": [
    "lst = [10,20,30,40,500,50,60,99,70,80,90,100]\n",
    "lst"
   ]
  },
  {
   "cell_type": "code",
   "execution_count": 33,
   "metadata": {
    "id": "C4mwQzc-QxEe"
   },
   "outputs": [],
   "source": [
    "lst.reverse()"
   ]
  },
  {
   "cell_type": "code",
   "execution_count": 34,
   "metadata": {
    "id": "Y2vcfOrXQxEf"
   },
   "outputs": [
    {
     "data": {
      "text/plain": [
       "[100, 90, 80, 70, 99, 60, 50, 500, 40, 30, 20, 10]"
      ]
     },
     "execution_count": 34,
     "metadata": {},
     "output_type": "execute_result"
    }
   ],
   "source": [
    "lst"
   ]
  },
  {
   "cell_type": "code",
   "execution_count": 35,
   "metadata": {
    "id": "GUDrt3sXQxEf"
   },
   "outputs": [
    {
     "data": {
      "text/plain": [
       "[10, 20, 30, 77, 11, 40, 50, 60, 70, 99, 80, 90, 100]"
      ]
     },
     "execution_count": 35,
     "metadata": {},
     "output_type": "execute_result"
    }
   ],
   "source": [
    "lst = [10,20,30,77,11,40,50,60,70,99,80,90,100]\n",
    "lst"
   ]
  },
  {
   "cell_type": "code",
   "execution_count": 37,
   "metadata": {
    "id": "IsWVsaRvQxEf"
   },
   "outputs": [
    {
     "data": {
      "text/plain": [
       "[100, 90, 80, 99, 70, 60, 50, 40, 11, 77, 30, 20, 10]"
      ]
     },
     "execution_count": 37,
     "metadata": {},
     "output_type": "execute_result"
    }
   ],
   "source": [
    "lst[::-1] # This is applicable for all sequences,This will not change the original list"
   ]
  },
  {
   "cell_type": "code",
   "execution_count": 38,
   "metadata": {
    "id": "bNRewwG-QxEf"
   },
   "outputs": [
    {
     "data": {
      "text/plain": [
       "[10, 20, 30, 77, 11, 40, 50, 60, 70, 99, 80, 90, 100]"
      ]
     },
     "execution_count": 38,
     "metadata": {},
     "output_type": "execute_result"
    }
   ],
   "source": [
    "lst"
   ]
  },
  {
   "cell_type": "code",
   "execution_count": 39,
   "metadata": {},
   "outputs": [
    {
     "data": {
      "text/plain": [
       "(0, 9, 4)"
      ]
     },
     "execution_count": 39,
     "metadata": {},
     "output_type": "execute_result"
    }
   ],
   "source": [
    "t =(4,9,0)\n",
    "t[::-1]"
   ]
  },
  {
   "cell_type": "code",
   "execution_count": 40,
   "metadata": {},
   "outputs": [
    {
     "data": {
      "text/plain": [
       "(4, 9, 0)"
      ]
     },
     "execution_count": 40,
     "metadata": {},
     "output_type": "execute_result"
    }
   ],
   "source": [
    "t"
   ]
  },
  {
   "cell_type": "markdown",
   "metadata": {
    "id": "wW9iIbWRQxEf"
   },
   "source": [
    "## Sort"
   ]
  },
  {
   "cell_type": "code",
   "execution_count": 41,
   "metadata": {
    "id": "SsZdPGUxQxEf"
   },
   "outputs": [
    {
     "data": {
      "text/plain": [
       "[10, 20, 30, 77, 11, 40, 50, 60, 70, 99, 80, 90, 100]"
      ]
     },
     "execution_count": 41,
     "metadata": {},
     "output_type": "execute_result"
    }
   ],
   "source": [
    "lst"
   ]
  },
  {
   "cell_type": "code",
   "execution_count": 42,
   "metadata": {
    "id": "5D4Q8FZsQxEf"
   },
   "outputs": [],
   "source": [
    "lst.sort()"
   ]
  },
  {
   "cell_type": "code",
   "execution_count": 44,
   "metadata": {
    "id": "8-hyah2SQxEf"
   },
   "outputs": [
    {
     "data": {
      "text/plain": [
       "[10, 11, 20, 30, 40, 50, 60, 70, 77, 80, 90, 99, 100]"
      ]
     },
     "execution_count": 44,
     "metadata": {},
     "output_type": "execute_result"
    }
   ],
   "source": [
    "lst"
   ]
  },
  {
   "cell_type": "code",
   "execution_count": 50,
   "metadata": {},
   "outputs": [],
   "source": [
    "lst1 = [10, 20, 30, 77, 11, 40, 50, 60, 70, 99, 80, 90, 100]"
   ]
  },
  {
   "cell_type": "code",
   "execution_count": 51,
   "metadata": {
    "id": "wmD6PeSMQxEg"
   },
   "outputs": [],
   "source": [
    "lst1.sort(reverse = False)\n"
   ]
  },
  {
   "cell_type": "code",
   "execution_count": 52,
   "metadata": {},
   "outputs": [
    {
     "data": {
      "text/plain": [
       "[10, 11, 20, 30, 40, 50, 60, 70, 77, 80, 90, 99, 100]"
      ]
     },
     "execution_count": 52,
     "metadata": {},
     "output_type": "execute_result"
    }
   ],
   "source": [
    "lst1"
   ]
  },
  {
   "cell_type": "code",
   "execution_count": 53,
   "metadata": {
    "colab": {
     "base_uri": "https://localhost:8080/"
    },
    "executionInfo": {
     "elapsed": 495,
     "status": "ok",
     "timestamp": 1674336434091,
     "user": {
      "displayName": "Chennaveer Jogur",
      "userId": "08412919184894538156"
     },
     "user_tz": -330
    },
    "id": "ApQqM3YJQxEg",
    "outputId": "5901fa70-fa40-4140-bd33-d90cbfd40702"
   },
   "outputs": [
    {
     "data": {
      "text/plain": [
       "['abstract', 'absent', 'c', 'c++', 'python', 'java', 'apple123']"
      ]
     },
     "execution_count": 53,
     "metadata": {},
     "output_type": "execute_result"
    }
   ],
   "source": [
    "list3 = ['abstract','absent','c','c++','python','java','apple123']\n",
    "list3"
   ]
  },
  {
   "cell_type": "code",
   "execution_count": 54,
   "metadata": {
    "id": "7eYCEyw6QxEg"
   },
   "outputs": [
    {
     "data": {
      "text/plain": [
       "['absent', 'abstract', 'apple123', 'c', 'c++', 'java', 'python']"
      ]
     },
     "execution_count": 54,
     "metadata": {},
     "output_type": "execute_result"
    }
   ],
   "source": [
    "list3.sort()\n",
    "list3"
   ]
  },
  {
   "cell_type": "code",
   "execution_count": null,
   "metadata": {},
   "outputs": [],
   "source": [
    "# User defined functions in Python"
   ]
  },
  {
   "cell_type": "code",
   "execution_count": null,
   "metadata": {
    "id": "IE_s4b-9QxEg"
   },
   "outputs": [],
   "source": [
    "def myfunc(x):\n",
    "    return len(x)\n",
    "\n",
    "list3.sort(key=myfunc)\n",
    "list3"
   ]
  },
  {
   "cell_type": "markdown",
   "metadata": {
    "id": "W7b7GjPfQxEg"
   },
   "source": [
    "## Tuple"
   ]
  },
  {
   "cell_type": "code",
   "execution_count": 5,
   "metadata": {},
   "outputs": [
    {
     "data": {
      "text/plain": [
       "tuple"
      ]
     },
     "execution_count": 5,
     "metadata": {},
     "output_type": "execute_result"
    }
   ],
   "source": [
    "t1 =(1,2,33)\n",
    "type(t1)"
   ]
  },
  {
   "cell_type": "code",
   "execution_count": 6,
   "metadata": {},
   "outputs": [
    {
     "data": {
      "text/plain": [
       "tuple"
      ]
     },
     "execution_count": 6,
     "metadata": {},
     "output_type": "execute_result"
    }
   ],
   "source": [
    "t = (5,6,[1,2,3])\n",
    "type(t)\n"
   ]
  },
  {
   "cell_type": "code",
   "execution_count": 7,
   "metadata": {
    "id": "8uRPOjSDQxEg"
   },
   "outputs": [
    {
     "data": {
      "text/plain": [
       "tuple"
      ]
     },
     "execution_count": 7,
     "metadata": {},
     "output_type": "execute_result"
    }
   ],
   "source": [
    "tup = ((1,2,3,4),[5,6,7,8])\n",
    "type(tup)"
   ]
  },
  {
   "cell_type": "code",
   "execution_count": 8,
   "metadata": {
    "colab": {
     "base_uri": "https://localhost:8080/"
    },
    "executionInfo": {
     "elapsed": 7,
     "status": "ok",
     "timestamp": 1674336774679,
     "user": {
      "displayName": "Chennaveer Jogur",
      "userId": "08412919184894538156"
     },
     "user_tz": -330
    },
    "id": "3eAouKXuQxEg",
    "outputId": "599cb090-03b0-4350-93d9-579755d7faf8"
   },
   "outputs": [
    {
     "data": {
      "text/plain": [
       "(1, 2, 3, 4)"
      ]
     },
     "execution_count": 8,
     "metadata": {},
     "output_type": "execute_result"
    }
   ],
   "source": [
    "tup[0]"
   ]
  },
  {
   "cell_type": "code",
   "execution_count": 9,
   "metadata": {
    "id": "LlsJpc8UQxEh"
   },
   "outputs": [],
   "source": [
    "tup[1].append(44)"
   ]
  },
  {
   "cell_type": "code",
   "execution_count": 10,
   "metadata": {
    "colab": {
     "base_uri": "https://localhost:8080/"
    },
    "executionInfo": {
     "elapsed": 8,
     "status": "ok",
     "timestamp": 1674336788364,
     "user": {
      "displayName": "Chennaveer Jogur",
      "userId": "08412919184894538156"
     },
     "user_tz": -330
    },
    "id": "Ow1uN0JsQxEh",
    "outputId": "ebe040af-463f-4341-be3a-70ea7a39d73a"
   },
   "outputs": [
    {
     "data": {
      "text/plain": [
       "((1, 2, 3, 4), [5, 6, 7, 8, 44])"
      ]
     },
     "execution_count": 10,
     "metadata": {},
     "output_type": "execute_result"
    }
   ],
   "source": [
    "tup"
   ]
  },
  {
   "cell_type": "code",
   "execution_count": 11,
   "metadata": {},
   "outputs": [
    {
     "ename": "AttributeError",
     "evalue": "'tuple' object has no attribute 'append'",
     "output_type": "error",
     "traceback": [
      "\u001b[1;31m---------------------------------------------------------------------------\u001b[0m",
      "\u001b[1;31mAttributeError\u001b[0m                            Traceback (most recent call last)",
      "Cell \u001b[1;32mIn[11], line 1\u001b[0m\n\u001b[1;32m----> 1\u001b[0m tup[\u001b[38;5;241m0\u001b[39m]\u001b[38;5;241m.\u001b[39mappend(\u001b[38;5;241m9\u001b[39m)\n",
      "\u001b[1;31mAttributeError\u001b[0m: 'tuple' object has no attribute 'append'"
     ]
    }
   ],
   "source": [
    "tup[0].append(9)"
   ]
  },
  {
   "cell_type": "markdown",
   "metadata": {
    "id": "_zMExwTGQxEh"
   },
   "source": [
    "## String"
   ]
  },
  {
   "cell_type": "code",
   "execution_count": null,
   "metadata": {
    "colab": {
     "base_uri": "https://localhost:8080/",
     "height": 35
    },
    "executionInfo": {
     "elapsed": 523,
     "status": "ok",
     "timestamp": 1674336892247,
     "user": {
      "displayName": "Chennaveer Jogur",
      "userId": "08412919184894538156"
     },
     "user_tz": -330
    },
    "id": "ri2vDNL_QxEh",
    "outputId": "40058b44-08b1-4d4f-87c9-3753a4c9b33c"
   },
   "outputs": [],
   "source": [
    "my_str = \"python is programming a language\"\n",
    "my_str.capitalize()"
   ]
  },
  {
   "cell_type": "code",
   "execution_count": null,
   "metadata": {
    "colab": {
     "base_uri": "https://localhost:8080/",
     "height": 35
    },
    "executionInfo": {
     "elapsed": 812,
     "status": "ok",
     "timestamp": 1674336895965,
     "user": {
      "displayName": "Chennaveer Jogur",
      "userId": "08412919184894538156"
     },
     "user_tz": -330
    },
    "id": "WOlFdeIVQxEh",
    "outputId": "6bab6e57-7822-4482-dcdc-27d736513d15"
   },
   "outputs": [],
   "source": [
    "my_str.capitalize()"
   ]
  },
  {
   "cell_type": "code",
   "execution_count": null,
   "metadata": {
    "colab": {
     "base_uri": "https://localhost:8080/",
     "height": 35
    },
    "executionInfo": {
     "elapsed": 517,
     "status": "ok",
     "timestamp": 1674336904832,
     "user": {
      "displayName": "Chennaveer Jogur",
      "userId": "08412919184894538156"
     },
     "user_tz": -330
    },
    "id": "RSAw5ybWQxEh",
    "outputId": "46ebe65c-4fa0-4fcc-bf90-3b74e40fd0d6"
   },
   "outputs": [],
   "source": [
    "my_str1 = \"hello world\"\n",
    "my_str1.capitalize()"
   ]
  },
  {
   "cell_type": "code",
   "execution_count": null,
   "metadata": {
    "colab": {
     "base_uri": "https://localhost:8080/",
     "height": 35
    },
    "executionInfo": {
     "elapsed": 497,
     "status": "ok",
     "timestamp": 1674336993525,
     "user": {
      "displayName": "Chennaveer Jogur",
      "userId": "08412919184894538156"
     },
     "user_tz": -330
    },
    "id": "5L-3h9h2QxEh",
    "outputId": "5eccf0b9-00d4-425a-e230-29a2589a4ebe"
   },
   "outputs": [],
   "source": [
    "my_str1.title()"
   ]
  },
  {
   "cell_type": "code",
   "execution_count": null,
   "metadata": {
    "id": "wQJzpu3IQxEh"
   },
   "outputs": [],
   "source": [
    "my_str1.lower()"
   ]
  },
  {
   "cell_type": "code",
   "execution_count": null,
   "metadata": {
    "id": "oODmbFBuQxEi"
   },
   "outputs": [],
   "source": [
    "my_str1.upper()"
   ]
  },
  {
   "cell_type": "code",
   "execution_count": null,
   "metadata": {
    "colab": {
     "base_uri": "https://localhost:8080/",
     "height": 35
    },
    "executionInfo": {
     "elapsed": 494,
     "status": "ok",
     "timestamp": 1674337099944,
     "user": {
      "displayName": "Chennaveer Jogur",
      "userId": "08412919184894538156"
     },
     "user_tz": -330
    },
    "id": "dO-MnkodQxEi",
    "outputId": "601e3d2c-ebaf-4dae-d869-efecc8a140b9"
   },
   "outputs": [],
   "source": [
    "'PYTHON'.lower()"
   ]
  },
  {
   "cell_type": "code",
   "execution_count": null,
   "metadata": {
    "colab": {
     "base_uri": "https://localhost:8080/",
     "height": 35
    },
    "executionInfo": {
     "elapsed": 11,
     "status": "ok",
     "timestamp": 1674337183725,
     "user": {
      "displayName": "Chennaveer Jogur",
      "userId": "08412919184894538156"
     },
     "user_tz": -330
    },
    "id": "a3sd19vfQxEi",
    "outputId": "8f3ff0d4-1de4-44cf-a725-17905fb03681"
   },
   "outputs": [],
   "source": [
    "'Python'.swapcase()"
   ]
  },
  {
   "cell_type": "code",
   "execution_count": null,
   "metadata": {
    "colab": {
     "base_uri": "https://localhost:8080/"
    },
    "executionInfo": {
     "elapsed": 496,
     "status": "ok",
     "timestamp": 1674337229853,
     "user": {
      "displayName": "Chennaveer Jogur",
      "userId": "08412919184894538156"
     },
     "user_tz": -330
    },
    "id": "2OnncJALQxEi",
    "outputId": "e9610473-e1c8-4f79-c313-3983efa97431"
   },
   "outputs": [],
   "source": [
    "'python'.endswith('on'), 'python'.endswith('ab')"
   ]
  },
  {
   "cell_type": "code",
   "execution_count": null,
   "metadata": {
    "colab": {
     "base_uri": "https://localhost:8080/"
    },
    "executionInfo": {
     "elapsed": 530,
     "status": "ok",
     "timestamp": 1674337246507,
     "user": {
      "displayName": "Chennaveer Jogur",
      "userId": "08412919184894538156"
     },
     "user_tz": -330
    },
    "id": "hvJenjEyQxEi",
    "outputId": "65d16c4a-a227-4e08-9861-6af0fd30b4df"
   },
   "outputs": [],
   "source": [
    "'python'.startswith('py'), 'python'.startswith('cd')"
   ]
  },
  {
   "cell_type": "code",
   "execution_count": null,
   "metadata": {
    "colab": {
     "base_uri": "https://localhost:8080/"
    },
    "executionInfo": {
     "elapsed": 723,
     "status": "ok",
     "timestamp": 1674337251564,
     "user": {
      "displayName": "Chennaveer Jogur",
      "userId": "08412919184894538156"
     },
     "user_tz": -330
    },
    "id": "7yAyGlPkQxEi",
    "outputId": "b7812ca0-339a-496f-9403-0cfa3511bb5a"
   },
   "outputs": [],
   "source": [
    "my_str.startswith('py')"
   ]
  },
  {
   "cell_type": "code",
   "execution_count": null,
   "metadata": {
    "id": "qanQrMtCQxEi"
   },
   "outputs": [],
   "source": [
    "my_str = 'pyttthon'"
   ]
  },
  {
   "cell_type": "code",
   "execution_count": null,
   "metadata": {
    "colab": {
     "base_uri": "https://localhost:8080/"
    },
    "executionInfo": {
     "elapsed": 479,
     "status": "ok",
     "timestamp": 1674337269561,
     "user": {
      "displayName": "Chennaveer Jogur",
      "userId": "08412919184894538156"
     },
     "user_tz": -330
    },
    "id": "YsgsBHa_QxEi",
    "outputId": "f7cc7a95-5cd5-4617-eace-2764267213fe"
   },
   "outputs": [],
   "source": [
    "# find the first occurance of a letter and return the index position\n",
    "my_str.find('t')"
   ]
  },
  {
   "cell_type": "code",
   "execution_count": null,
   "metadata": {
    "colab": {
     "base_uri": "https://localhost:8080/"
    },
    "executionInfo": {
     "elapsed": 1045,
     "status": "ok",
     "timestamp": 1674337275091,
     "user": {
      "displayName": "Chennaveer Jogur",
      "userId": "08412919184894538156"
     },
     "user_tz": -330
    },
    "id": "8arGNLUiQxEi",
    "outputId": "5c3addf6-1b99-48ad-cce8-0d5d49ced516"
   },
   "outputs": [],
   "source": [
    "my_str.find('a')"
   ]
  },
  {
   "cell_type": "code",
   "execution_count": null,
   "metadata": {
    "colab": {
     "base_uri": "https://localhost:8080/",
     "height": 35
    },
    "executionInfo": {
     "elapsed": 505,
     "status": "ok",
     "timestamp": 1674337635578,
     "user": {
      "displayName": "Chennaveer Jogur",
      "userId": "08412919184894538156"
     },
     "user_tz": -330
    },
    "id": "F3fiw__3QxEj",
    "outputId": "0a62ff6f-cf9f-4806-fa9e-8a24182468b8"
   },
   "outputs": [],
   "source": [
    "str1 = 'python3'\n",
    "str1"
   ]
  },
  {
   "cell_type": "code",
   "execution_count": null,
   "metadata": {
    "colab": {
     "base_uri": "https://localhost:8080/"
    },
    "executionInfo": {
     "elapsed": 501,
     "status": "ok",
     "timestamp": 1674337638088,
     "user": {
      "displayName": "Chennaveer Jogur",
      "userId": "08412919184894538156"
     },
     "user_tz": -330
    },
    "id": "CRF_wxlYQxEj",
    "outputId": "ad4ccaaa-c649-4311-b525-2b5f382c30c9"
   },
   "outputs": [],
   "source": [
    "str1.isalpha(),str1.isalnum(),str1.isnumeric()"
   ]
  },
  {
   "cell_type": "code",
   "execution_count": null,
   "metadata": {
    "colab": {
     "base_uri": "https://localhost:8080/"
    },
    "executionInfo": {
     "elapsed": 481,
     "status": "ok",
     "timestamp": 1674337692232,
     "user": {
      "displayName": "Chennaveer Jogur",
      "userId": "08412919184894538156"
     },
     "user_tz": -330
    },
    "id": "BWSQDgqeQxEj",
    "outputId": "7acf755f-70ac-4f7e-aada-f5ea9b7975b1"
   },
   "outputs": [],
   "source": [
    "str2 = '123'\n",
    "str2.isalpha(),str2.isalnum(),str2.isnumeric()"
   ]
  },
  {
   "cell_type": "code",
   "execution_count": null,
   "metadata": {
    "colab": {
     "base_uri": "https://localhost:8080/"
    },
    "executionInfo": {
     "elapsed": 667,
     "status": "ok",
     "timestamp": 1674337808338,
     "user": {
      "displayName": "Chennaveer Jogur",
      "userId": "08412919184894538156"
     },
     "user_tz": -330
    },
    "id": "I5scBSENQxEj",
    "outputId": "4a2764af-8c02-49a2-d3e5-8aff01482a04"
   },
   "outputs": [],
   "source": [
    "' '.isspace(), ''.isspace()"
   ]
  },
  {
   "cell_type": "code",
   "execution_count": null,
   "metadata": {
    "colab": {
     "base_uri": "https://localhost:8080/",
     "height": 35
    },
    "executionInfo": {
     "elapsed": 493,
     "status": "ok",
     "timestamp": 1674337813356,
     "user": {
      "displayName": "Chennaveer Jogur",
      "userId": "08412919184894538156"
     },
     "user_tz": -330
    },
    "id": "29T7LLOTQxEj",
    "outputId": "bfbcaf76-25cc-4065-c1c9-e46b40c3a195"
   },
   "outputs": [],
   "source": [
    "'  python  '.strip()"
   ]
  },
  {
   "cell_type": "code",
   "execution_count": null,
   "metadata": {
    "id": "_B4o5FAGQxEj"
   },
   "outputs": [],
   "source": [
    "'   python    '.lstrip()"
   ]
  },
  {
   "cell_type": "code",
   "execution_count": null,
   "metadata": {
    "id": "NrCB4RLkQxEj"
   },
   "outputs": [],
   "source": [
    "'   python    '.rstrip()"
   ]
  },
  {
   "cell_type": "code",
   "execution_count": null,
   "metadata": {
    "colab": {
     "base_uri": "https://localhost:8080/"
    },
    "executionInfo": {
     "elapsed": 10,
     "status": "ok",
     "timestamp": 1674337887913,
     "user": {
      "displayName": "Chennaveer Jogur",
      "userId": "08412919184894538156"
     },
     "user_tz": -330
    },
    "id": "N6Y-OK5oQxEk",
    "outputId": "0d300a82-dd4c-4967-a748-032bf4bc32b1"
   },
   "outputs": [],
   "source": [
    "'1,2,3'.split(',')"
   ]
  },
  {
   "cell_type": "code",
   "execution_count": null,
   "metadata": {
    "colab": {
     "base_uri": "https://localhost:8080/"
    },
    "executionInfo": {
     "elapsed": 483,
     "status": "ok",
     "timestamp": 1674337894388,
     "user": {
      "displayName": "Chennaveer Jogur",
      "userId": "08412919184894538156"
     },
     "user_tz": -330
    },
    "id": "o83350bHQxEk",
    "outputId": "12c1ce79-9a2a-43d8-a691-f143f0b92764"
   },
   "outputs": [],
   "source": [
    "'ab;cd;ef'.split(';')"
   ]
  },
  {
   "cell_type": "code",
   "execution_count": null,
   "metadata": {},
   "outputs": [],
   "source": [
    "'Hi Hello How are you?'.split(\" \")"
   ]
  },
  {
   "cell_type": "code",
   "execution_count": null,
   "metadata": {
    "colab": {
     "base_uri": "https://localhost:8080/",
     "height": 35
    },
    "executionInfo": {
     "elapsed": 512,
     "status": "ok",
     "timestamp": 1674338132538,
     "user": {
      "displayName": "Chennaveer Jogur",
      "userId": "08412919184894538156"
     },
     "user_tz": -330
    },
    "id": "z4-qpGz7QxEk",
    "outputId": "7c0bfcef-ef05-4862-c9e6-e6e137e152c8"
   },
   "outputs": [],
   "source": [
    "# count() method returns the number of occurrences of the substring in the given string.\n",
    "\"Welcome to python basics to\".count(\"to\")"
   ]
  },
  {
   "cell_type": "code",
   "execution_count": null,
   "metadata": {
    "colab": {
     "base_uri": "https://localhost:8080/"
    },
    "executionInfo": {
     "elapsed": 633,
     "status": "ok",
     "timestamp": 1674338135856,
     "user": {
      "displayName": "Chennaveer Jogur",
      "userId": "08412919184894538156"
     },
     "user_tz": -330
    },
    "id": "MeeQ7E1UQxEk",
    "outputId": "786827f3-e3bf-449a-8652-7578aac459ed"
   },
   "outputs": [],
   "source": [
    "\"This is a python class\".count(\"o\")"
   ]
  },
  {
   "cell_type": "code",
   "execution_count": null,
   "metadata": {
    "colab": {
     "base_uri": "https://localhost:8080/",
     "height": 35
    },
    "executionInfo": {
     "elapsed": 483,
     "status": "ok",
     "timestamp": 1674338250212,
     "user": {
      "displayName": "Chennaveer Jogur",
      "userId": "08412919184894538156"
     },
     "user_tz": -330
    },
    "id": "D-cDBLMsQxEk",
    "outputId": "ec7c1014-2317-4768-86a2-7c5a9e64bbe5"
   },
   "outputs": [],
   "source": [
    "# define string\n",
    "string = \"Python is awesome, isn't it\"\n",
    "string"
   ]
  },
  {
   "cell_type": "code",
   "execution_count": null,
   "metadata": {
    "colab": {
     "base_uri": "https://localhost:8080/",
     "height": 35
    },
    "executionInfo": {
     "elapsed": 511,
     "status": "ok",
     "timestamp": 1674338260685,
     "user": {
      "displayName": "Chennaveer Jogur",
      "userId": "08412919184894538156"
     },
     "user_tz": -330
    },
    "id": "LMcAHS4eQxEk",
    "outputId": "ed3eda08-85ba-44d8-9f5b-e57b7ee30e84"
   },
   "outputs": [],
   "source": [
    "string[6]"
   ]
  },
  {
   "cell_type": "code",
   "execution_count": null,
   "metadata": {
    "colab": {
     "base_uri": "https://localhost:8080/",
     "height": 35
    },
    "executionInfo": {
     "elapsed": 502,
     "status": "ok",
     "timestamp": 1674338264284,
     "user": {
      "displayName": "Chennaveer Jogur",
      "userId": "08412919184894538156"
     },
     "user_tz": -330
    },
    "id": "lSYjK0ZgQxEk",
    "outputId": "e2fc665a-b8ea-4e2a-9e3c-305c59777c6c"
   },
   "outputs": [],
   "source": [
    "string[25]"
   ]
  },
  {
   "cell_type": "code",
   "execution_count": null,
   "metadata": {
    "id": "wliNukGEQxEl"
   },
   "outputs": [],
   "source": [
    "substring = \" \""
   ]
  },
  {
   "cell_type": "code",
   "execution_count": null,
   "metadata": {
    "colab": {
     "base_uri": "https://localhost:8080/"
    },
    "executionInfo": {
     "elapsed": 504,
     "status": "ok",
     "timestamp": 1674338376488,
     "user": {
      "displayName": "Chennaveer Jogur",
      "userId": "08412919184894538156"
     },
     "user_tz": -330
    },
    "id": "mKR50nX1QxEl",
    "outputId": "6c08db52-0981-4560-ef17-0b4149754c34"
   },
   "outputs": [],
   "source": [
    "# count after first 'i' and before the last 'i'\n",
    "count1 = string.count(substring, 4, 25)\n",
    "count1"
   ]
  },
  {
   "cell_type": "code",
   "execution_count": null,
   "metadata": {
    "colab": {
     "base_uri": "https://localhost:8080/",
     "height": 35
    },
    "executionInfo": {
     "elapsed": 503,
     "status": "ok",
     "timestamp": 1674338443110,
     "user": {
      "displayName": "Chennaveer Jogur",
      "userId": "08412919184894538156"
     },
     "user_tz": -330
    },
    "id": "IOHrCHTGQxEl",
    "outputId": "e130a199-dfff-4555-c190-60e0a77bb4e3"
   },
   "outputs": [],
   "source": [
    "# Replace \n",
    "x='It is very nice,it is excellent'\n",
    "x"
   ]
  },
  {
   "cell_type": "code",
   "execution_count": null,
   "metadata": {
    "colab": {
     "base_uri": "https://localhost:8080/",
     "height": 35
    },
    "executionInfo": {
     "elapsed": 577,
     "status": "ok",
     "timestamp": 1674338447639,
     "user": {
      "displayName": "Chennaveer Jogur",
      "userId": "08412919184894538156"
     },
     "user_tz": -330
    },
    "id": "ACyrydmhQxEl",
    "outputId": "cab05a21-d95a-4ecd-fc12-2de3910233ba"
   },
   "outputs": [],
   "source": [
    "y=x.replace(\"is\",\"was\")\n",
    "y"
   ]
  },
  {
   "cell_type": "code",
   "execution_count": null,
   "metadata": {},
   "outputs": [],
   "source": [
    "z =\"It is nice, It is great\"\n",
    "z.replace('is', 'was', 1)"
   ]
  },
  {
   "cell_type": "markdown",
   "metadata": {
    "id": "8Wk9-tmaQxEl"
   },
   "source": [
    "## Variable unpacking"
   ]
  },
  {
   "cell_type": "code",
   "execution_count": null,
   "metadata": {},
   "outputs": [],
   "source": [
    "a,b=6.7,8\n",
    "b"
   ]
  },
  {
   "cell_type": "code",
   "execution_count": null,
   "metadata": {
    "colab": {
     "base_uri": "https://localhost:8080/"
    },
    "executionInfo": {
     "elapsed": 511,
     "status": "ok",
     "timestamp": 1674338479801,
     "user": {
      "displayName": "Chennaveer Jogur",
      "userId": "08412919184894538156"
     },
     "user_tz": -330
    },
    "id": "gZ0oDPZWQxEl",
    "outputId": "5f187143-29e0-45ac-9dac-3e3a4248036f",
    "scrolled": true
   },
   "outputs": [],
   "source": [
    "x,y,z = [1,2,3]\n",
    "x,y,z"
   ]
  },
  {
   "cell_type": "code",
   "execution_count": null,
   "metadata": {},
   "outputs": [],
   "source": [
    "x"
   ]
  },
  {
   "cell_type": "code",
   "execution_count": null,
   "metadata": {
    "colab": {
     "base_uri": "https://localhost:8080/"
    },
    "executionInfo": {
     "elapsed": 679,
     "status": "ok",
     "timestamp": 1674338487237,
     "user": {
      "displayName": "Chennaveer Jogur",
      "userId": "08412919184894538156"
     },
     "user_tz": -330
    },
    "id": "o0J_uSLcQxEm",
    "outputId": "1e70699d-4424-4352-9c8c-f7d846aed6cf"
   },
   "outputs": [],
   "source": [
    "a,b,c = (5,6,7)\n",
    "a,b,c"
   ]
  },
  {
   "cell_type": "code",
   "execution_count": null,
   "metadata": {},
   "outputs": [],
   "source": [
    "c"
   ]
  },
  {
   "cell_type": "code",
   "execution_count": null,
   "metadata": {
    "colab": {
     "base_uri": "https://localhost:8080/"
    },
    "executionInfo": {
     "elapsed": 500,
     "status": "ok",
     "timestamp": 1674338491769,
     "user": {
      "displayName": "Chennaveer Jogur",
      "userId": "08412919184894538156"
     },
     "user_tz": -330
    },
    "id": "DGIMieGhQxEm",
    "outputId": "dcfcd3e4-579e-40e6-ddaa-0bb3b864da19"
   },
   "outputs": [],
   "source": [
    "x,y,z = 'abc'\n",
    "x,y,z"
   ]
  },
  {
   "cell_type": "markdown",
   "metadata": {
    "id": "oqrqE1EtQxEm"
   },
   "source": [
    "## Dictionaries"
   ]
  },
  {
   "cell_type": "code",
   "execution_count": null,
   "metadata": {
    "colab": {
     "base_uri": "https://localhost:8080/"
    },
    "executionInfo": {
     "elapsed": 386,
     "status": "ok",
     "timestamp": 1677289534692,
     "user": {
      "displayName": "ashutosh upadhyay",
      "userId": "04009039228362967146"
     },
     "user_tz": -330
    },
    "id": "v1pu_eJMQxEm",
    "outputId": "11e84b4a-f610-4195-d9f8-7faaf2d0f8fc"
   },
   "outputs": [],
   "source": [
    "dict1 = {'Name':'shafi','Age':35}\n",
    "dict1"
   ]
  },
  {
   "cell_type": "code",
   "execution_count": null,
   "metadata": {},
   "outputs": [],
   "source": [
    "dict1.keys()"
   ]
  },
  {
   "cell_type": "code",
   "execution_count": null,
   "metadata": {},
   "outputs": [],
   "source": [
    "dict1.values()"
   ]
  },
  {
   "cell_type": "code",
   "execution_count": null,
   "metadata": {},
   "outputs": [],
   "source": [
    "dict1.items()"
   ]
  },
  {
   "cell_type": "code",
   "execution_count": null,
   "metadata": {
    "colab": {
     "base_uri": "https://localhost:8080/",
     "height": 36
    },
    "executionInfo": {
     "elapsed": 38,
     "status": "ok",
     "timestamp": 1677289535499,
     "user": {
      "displayName": "ashutosh upadhyay",
      "userId": "04009039228362967146"
     },
     "user_tz": -330
    },
    "id": "p6i6wo7WQxEm",
    "outputId": "2e46cd35-f301-46be-e678-0c8d9d974531"
   },
   "outputs": [],
   "source": [
    "# Accessing values in a dictionary\n",
    "dict1['Name']"
   ]
  },
  {
   "cell_type": "code",
   "execution_count": null,
   "metadata": {
    "colab": {
     "base_uri": "https://localhost:8080/"
    },
    "executionInfo": {
     "elapsed": 34,
     "status": "ok",
     "timestamp": 1677289535500,
     "user": {
      "displayName": "ashutosh upadhyay",
      "userId": "04009039228362967146"
     },
     "user_tz": -330
    },
    "id": "415NQNuiQxEm",
    "outputId": "c74f24cc-4986-440d-91f1-7cd6df7f3224"
   },
   "outputs": [],
   "source": [
    "dict1['Age']"
   ]
  },
  {
   "cell_type": "code",
   "execution_count": null,
   "metadata": {
    "colab": {
     "base_uri": "https://localhost:8080/"
    },
    "executionInfo": {
     "elapsed": 32,
     "status": "ok",
     "timestamp": 1677289535501,
     "user": {
      "displayName": "ashutosh upadhyay",
      "userId": "04009039228362967146"
     },
     "user_tz": -330
    },
    "id": "x5grjSKUQxEm",
    "outputId": "b169696d-34ad-4d8e-b7ee-39a20a2937ce"
   },
   "outputs": [],
   "source": [
    "## Updating dictionary\n",
    "dict1['Name']='adam'\n",
    "dict1"
   ]
  },
  {
   "cell_type": "code",
   "execution_count": null,
   "metadata": {
    "colab": {
     "base_uri": "https://localhost:8080/"
    },
    "executionInfo": {
     "elapsed": 30,
     "status": "ok",
     "timestamp": 1677289535501,
     "user": {
      "displayName": "ashutosh upadhyay",
      "userId": "04009039228362967146"
     },
     "user_tz": -330
    },
    "id": "RLj4JbugQxEm",
    "outputId": "14850f16-932c-49ca-9313-51322d4c6098"
   },
   "outputs": [],
   "source": [
    "dict1['location']= 'Bengalore'\n",
    "dict1"
   ]
  },
  {
   "cell_type": "code",
   "execution_count": null,
   "metadata": {
    "executionInfo": {
     "elapsed": 28,
     "status": "ok",
     "timestamp": 1677289535501,
     "user": {
      "displayName": "ashutosh upadhyay",
      "userId": "04009039228362967146"
     },
     "user_tz": -330
    },
    "id": "Jq8n6LGVQxEn"
   },
   "outputs": [],
   "source": [
    "## Delete dictionary elements\n",
    "del(dict1['Name'])"
   ]
  },
  {
   "cell_type": "code",
   "execution_count": null,
   "metadata": {
    "colab": {
     "base_uri": "https://localhost:8080/"
    },
    "executionInfo": {
     "elapsed": 27,
     "status": "ok",
     "timestamp": 1677289535502,
     "user": {
      "displayName": "ashutosh upadhyay",
      "userId": "04009039228362967146"
     },
     "user_tz": -330
    },
    "id": "LV0WGOdiQxEn",
    "outputId": "6057f0cf-6ddd-4fc8-91ff-a7c7853cbad7"
   },
   "outputs": [],
   "source": [
    "dict1"
   ]
  },
  {
   "cell_type": "code",
   "execution_count": null,
   "metadata": {
    "executionInfo": {
     "elapsed": 25,
     "status": "ok",
     "timestamp": 1677289535502,
     "user": {
      "displayName": "ashutosh upadhyay",
      "userId": "04009039228362967146"
     },
     "user_tz": -330
    },
    "id": "k-evMV3tQxEn"
   },
   "outputs": [],
   "source": [
    "dict1.clear()"
   ]
  },
  {
   "cell_type": "code",
   "execution_count": null,
   "metadata": {
    "colab": {
     "base_uri": "https://localhost:8080/"
    },
    "executionInfo": {
     "elapsed": 25,
     "status": "ok",
     "timestamp": 1677289535503,
     "user": {
      "displayName": "ashutosh upadhyay",
      "userId": "04009039228362967146"
     },
     "user_tz": -330
    },
    "id": "ML3cJVVoQxEn",
    "outputId": "a77f83fe-f646-4d57-dc2b-5bb24e17fdd2"
   },
   "outputs": [],
   "source": [
    "dict1"
   ]
  },
  {
   "cell_type": "code",
   "execution_count": null,
   "metadata": {
    "executionInfo": {
     "elapsed": 24,
     "status": "ok",
     "timestamp": 1677289535503,
     "user": {
      "displayName": "ashutosh upadhyay",
      "userId": "04009039228362967146"
     },
     "user_tz": -330
    },
    "id": "9KYjuts8QxEn"
   },
   "outputs": [],
   "source": [
    "del(dict1)"
   ]
  },
  {
   "cell_type": "code",
   "execution_count": null,
   "metadata": {
    "colab": {
     "base_uri": "https://localhost:8080/",
     "height": 165
    },
    "executionInfo": {
     "elapsed": 23,
     "status": "error",
     "timestamp": 1677289535503,
     "user": {
      "displayName": "ashutosh upadhyay",
      "userId": "04009039228362967146"
     },
     "user_tz": -330
    },
    "id": "xKekCWl1QxEn",
    "outputId": "544a46fc-1c3b-493f-a7bf-114f73a96c32"
   },
   "outputs": [],
   "source": [
    "dict1"
   ]
  },
  {
   "cell_type": "markdown",
   "metadata": {
    "id": "iPah1iREQxEn"
   },
   "source": [
    "## Sets"
   ]
  },
  {
   "cell_type": "code",
   "execution_count": 2,
   "metadata": {
    "id": "jNVgl1XrQxEn"
   },
   "outputs": [
    {
     "data": {
      "text/plain": [
       "{1, 2, 3, 4, 6, 8, 9}"
      ]
     },
     "execution_count": 2,
     "metadata": {},
     "output_type": "execute_result"
    }
   ],
   "source": [
    "## Sets have unique values\n",
    "## Sets doesnot have positional ordering\n",
    "s1 = {1,2,3,4,6,6,8,8,1,2,9}\n",
    "s1"
   ]
  },
  {
   "cell_type": "code",
   "execution_count": 3,
   "metadata": {
    "id": "OuCxHVAcQxEo"
   },
   "outputs": [
    {
     "ename": "TypeError",
     "evalue": "'set' object is not subscriptable",
     "output_type": "error",
     "traceback": [
      "\u001b[1;31m---------------------------------------------------------------------------\u001b[0m",
      "\u001b[1;31mTypeError\u001b[0m                                 Traceback (most recent call last)",
      "\u001b[1;32m~\\AppData\\Local\\Temp\\ipykernel_11676\\1846197149.py\u001b[0m in \u001b[0;36m<module>\u001b[1;34m\u001b[0m\n\u001b[1;32m----> 1\u001b[1;33m \u001b[0ms1\u001b[0m\u001b[1;33m[\u001b[0m\u001b[1;36m0\u001b[0m\u001b[1;33m]\u001b[0m    \u001b[1;31m# We can't access the elements with index\u001b[0m\u001b[1;33m\u001b[0m\u001b[1;33m\u001b[0m\u001b[0m\n\u001b[0m",
      "\u001b[1;31mTypeError\u001b[0m: 'set' object is not subscriptable"
     ]
    }
   ],
   "source": [
    "s1[0]    # We can't access the elements with index"
   ]
  },
  {
   "cell_type": "code",
   "execution_count": 4,
   "metadata": {},
   "outputs": [
    {
     "ename": "KeyError",
     "evalue": "0",
     "output_type": "error",
     "traceback": [
      "\u001b[1;31m---------------------------------------------------------------------------\u001b[0m",
      "\u001b[1;31mKeyError\u001b[0m                                  Traceback (most recent call last)",
      "\u001b[1;32m~\\AppData\\Local\\Temp\\ipykernel_11676\\3246723385.py\u001b[0m in \u001b[0;36m<module>\u001b[1;34m\u001b[0m\n\u001b[0;32m      1\u001b[0m \u001b[0md\u001b[0m\u001b[1;33m=\u001b[0m\u001b[1;33m{\u001b[0m\u001b[1;34m\"x\"\u001b[0m\u001b[1;33m:\u001b[0m\u001b[1;36m1\u001b[0m\u001b[1;33m,\u001b[0m \u001b[1;34m\"y\"\u001b[0m\u001b[1;33m:\u001b[0m\u001b[1;36m2\u001b[0m\u001b[1;33m}\u001b[0m\u001b[1;33m\u001b[0m\u001b[1;33m\u001b[0m\u001b[0m\n\u001b[1;32m----> 2\u001b[1;33m \u001b[0md\u001b[0m\u001b[1;33m[\u001b[0m\u001b[1;36m0\u001b[0m\u001b[1;33m]\u001b[0m\u001b[1;33m\u001b[0m\u001b[1;33m\u001b[0m\u001b[0m\n\u001b[0m",
      "\u001b[1;31mKeyError\u001b[0m: 0"
     ]
    }
   ],
   "source": [
    "d={\"x\":1, \"y\":2}\n",
    "d[0]"
   ]
  },
  {
   "cell_type": "code",
   "execution_count": 5,
   "metadata": {
    "id": "eVCnp8iDQxEo"
   },
   "outputs": [
    {
     "data": {
      "text/plain": [
       "{2, 8, 11, 55, 66}"
      ]
     },
     "execution_count": 5,
     "metadata": {},
     "output_type": "execute_result"
    }
   ],
   "source": [
    "s2 = {11,2,55,66,8}\n",
    "s2"
   ]
  },
  {
   "cell_type": "code",
   "execution_count": null,
   "metadata": {
    "id": "NMeHHTJQQxEo"
   },
   "outputs": [],
   "source": [
    "list1=[22,11,33,12,25]\n",
    "list1"
   ]
  },
  {
   "cell_type": "code",
   "execution_count": null,
   "metadata": {
    "id": "YlItyEzeQxEo"
   },
   "outputs": [],
   "source": [
    "for i in s2:\n",
    "    print(i)"
   ]
  },
  {
   "cell_type": "code",
   "execution_count": 6,
   "metadata": {
    "id": "FENh-mY2QxEo"
   },
   "outputs": [
    {
     "data": {
      "text/plain": [
       "dict"
      ]
     },
     "execution_count": 6,
     "metadata": {},
     "output_type": "execute_result"
    }
   ],
   "source": [
    "s1 = {}\n",
    "type(s1)"
   ]
  },
  {
   "cell_type": "code",
   "execution_count": 7,
   "metadata": {
    "id": "darsAuq7QxEo"
   },
   "outputs": [
    {
     "data": {
      "text/plain": [
       "set"
      ]
     },
     "execution_count": 7,
     "metadata": {},
     "output_type": "execute_result"
    }
   ],
   "source": [
    "s1 = set()\n",
    "type(s1)"
   ]
  },
  {
   "cell_type": "code",
   "execution_count": 8,
   "metadata": {
    "id": "OvS-u_tUQxEo"
   },
   "outputs": [
    {
     "data": {
      "text/plain": [
       "0"
      ]
     },
     "execution_count": 8,
     "metadata": {},
     "output_type": "execute_result"
    }
   ],
   "source": [
    "len(s1)"
   ]
  },
  {
   "cell_type": "code",
   "execution_count": 9,
   "metadata": {
    "colab": {
     "base_uri": "https://localhost:8080/"
    },
    "executionInfo": {
     "elapsed": 448,
     "status": "ok",
     "timestamp": 1677289558749,
     "user": {
      "displayName": "ashutosh upadhyay",
      "userId": "04009039228362967146"
     },
     "user_tz": -330
    },
    "id": "Bc2dnBp3QxEp",
    "outputId": "b2a01e3f-5c96-43f0-871b-2ef3634ef908"
   },
   "outputs": [
    {
     "data": {
      "text/plain": [
       "{(1, 2), 1, 9.9, 'a'}"
      ]
     },
     "execution_count": 9,
     "metadata": {},
     "output_type": "execute_result"
    }
   ],
   "source": [
    "s1 = {1,'a',(1,2),9.9} # it is taking only immutable data types\n",
    "s1"
   ]
  },
  {
   "cell_type": "code",
   "execution_count": 10,
   "metadata": {
    "colab": {
     "base_uri": "https://localhost:8080/",
     "height": 182
    },
    "executionInfo": {
     "elapsed": 394,
     "status": "error",
     "timestamp": 1677289572878,
     "user": {
      "displayName": "ashutosh upadhyay",
      "userId": "04009039228362967146"
     },
     "user_tz": -330
    },
    "id": "Hdbu07ubQxEp",
    "outputId": "d490e99c-ec31-40e3-951e-ed18a8e5c66c",
    "scrolled": true
   },
   "outputs": [
    {
     "ename": "TypeError",
     "evalue": "unhashable type: 'list'",
     "output_type": "error",
     "traceback": [
      "\u001b[1;31m---------------------------------------------------------------------------\u001b[0m",
      "\u001b[1;31mTypeError\u001b[0m                                 Traceback (most recent call last)",
      "\u001b[1;32m~\\AppData\\Local\\Temp\\ipykernel_11676\\3183550233.py\u001b[0m in \u001b[0;36m<module>\u001b[1;34m\u001b[0m\n\u001b[1;32m----> 1\u001b[1;33m \u001b[0ms3\u001b[0m \u001b[1;33m=\u001b[0m \u001b[1;33m{\u001b[0m\u001b[1;36m1\u001b[0m\u001b[1;33m,\u001b[0m\u001b[1;33m[\u001b[0m\u001b[1;36m1\u001b[0m\u001b[1;33m,\u001b[0m\u001b[1;36m2\u001b[0m\u001b[1;33m,\u001b[0m\u001b[1;36m3\u001b[0m\u001b[1;33m]\u001b[0m\u001b[1;33m,\u001b[0m\u001b[1;36m5.5\u001b[0m\u001b[1;33m,\u001b[0m\u001b[1;33m(\u001b[0m\u001b[1;36m1\u001b[0m\u001b[1;33m,\u001b[0m\u001b[1;36m3\u001b[0m\u001b[1;33m)\u001b[0m\u001b[1;33m}\u001b[0m \u001b[1;31m# it is not taking mutable data type list\u001b[0m\u001b[1;33m\u001b[0m\u001b[1;33m\u001b[0m\u001b[0m\n\u001b[0m\u001b[0;32m      2\u001b[0m \u001b[0ms3\u001b[0m\u001b[1;33m\u001b[0m\u001b[1;33m\u001b[0m\u001b[0m\n",
      "\u001b[1;31mTypeError\u001b[0m: unhashable type: 'list'"
     ]
    }
   ],
   "source": [
    "s3 = {1,[1,2,3],5.5,(1,3)} # it is not taking mutable data type list\n",
    "s3"
   ]
  },
  {
   "cell_type": "code",
   "execution_count": 11,
   "metadata": {},
   "outputs": [
    {
     "ename": "TypeError",
     "evalue": "unhashable type: 'dict'",
     "output_type": "error",
     "traceback": [
      "\u001b[1;31m---------------------------------------------------------------------------\u001b[0m",
      "\u001b[1;31mTypeError\u001b[0m                                 Traceback (most recent call last)",
      "\u001b[1;32m~\\AppData\\Local\\Temp\\ipykernel_11676\\1315591856.py\u001b[0m in \u001b[0;36m<module>\u001b[1;34m\u001b[0m\n\u001b[1;32m----> 1\u001b[1;33m \u001b[0ms1\u001b[0m \u001b[1;33m=\u001b[0m \u001b[1;33m{\u001b[0m\u001b[1;36m1\u001b[0m\u001b[1;33m,\u001b[0m\u001b[1;36m2\u001b[0m\u001b[1;33m,\u001b[0m\u001b[1;33m{\u001b[0m\u001b[1;34m\"x\"\u001b[0m\u001b[1;33m:\u001b[0m\u001b[1;36m2\u001b[0m\u001b[1;33m,\u001b[0m \u001b[1;34m\"y\"\u001b[0m\u001b[1;33m:\u001b[0m\u001b[1;36m3\u001b[0m\u001b[1;33m}\u001b[0m\u001b[1;33m}\u001b[0m\u001b[1;33m\u001b[0m\u001b[1;33m\u001b[0m\u001b[0m\n\u001b[0m",
      "\u001b[1;31mTypeError\u001b[0m: unhashable type: 'dict'"
     ]
    }
   ],
   "source": [
    "s1 = {1,2,{\"x\":2, \"y\":3}}"
   ]
  },
  {
   "cell_type": "code",
   "execution_count": 12,
   "metadata": {},
   "outputs": [
    {
     "ename": "TypeError",
     "evalue": "unhashable type: 'list'",
     "output_type": "error",
     "traceback": [
      "\u001b[1;31m---------------------------------------------------------------------------\u001b[0m",
      "\u001b[1;31mTypeError\u001b[0m                                 Traceback (most recent call last)",
      "\u001b[1;32m~\\AppData\\Local\\Temp\\ipykernel_11676\\1671824419.py\u001b[0m in \u001b[0;36m<module>\u001b[1;34m\u001b[0m\n\u001b[1;32m----> 1\u001b[1;33m \u001b[0ms2\u001b[0m \u001b[1;33m=\u001b[0m\u001b[1;33m{\u001b[0m\u001b[1;36m1\u001b[0m\u001b[1;33m,\u001b[0m\u001b[1;36m2\u001b[0m\u001b[1;33m,\u001b[0m\u001b[1;36m3\u001b[0m\u001b[1;33m,\u001b[0m\u001b[1;33m[\u001b[0m\u001b[1;36m1\u001b[0m\u001b[1;33m,\u001b[0m\u001b[1;36m2\u001b[0m\u001b[1;33m,\u001b[0m\u001b[1;36m3\u001b[0m\u001b[1;33m]\u001b[0m\u001b[1;33m}\u001b[0m\u001b[1;33m\u001b[0m\u001b[1;33m\u001b[0m\u001b[0m\n\u001b[0m",
      "\u001b[1;31mTypeError\u001b[0m: unhashable type: 'list'"
     ]
    }
   ],
   "source": [
    "s2 ={1,2,3,[1,2,3]}"
   ]
  },
  {
   "cell_type": "code",
   "execution_count": 13,
   "metadata": {
    "id": "euCFXMvgQxEp"
   },
   "outputs": [],
   "source": [
    "s1 = set([10,33,4,5])\n"
   ]
  },
  {
   "cell_type": "code",
   "execution_count": 14,
   "metadata": {},
   "outputs": [
    {
     "data": {
      "text/plain": [
       "{4, 5, 10, 33}"
      ]
     },
     "execution_count": 14,
     "metadata": {},
     "output_type": "execute_result"
    }
   ],
   "source": [
    "s1"
   ]
  },
  {
   "cell_type": "code",
   "execution_count": 15,
   "metadata": {
    "id": "qbkKOe2gQxEp"
   },
   "outputs": [
    {
     "data": {
      "text/plain": [
       "{2, 4, 11, 35}"
      ]
     },
     "execution_count": 15,
     "metadata": {},
     "output_type": "execute_result"
    }
   ],
   "source": [
    "s2 = set((11,2,35,4))\n",
    "s2"
   ]
  },
  {
   "cell_type": "code",
   "execution_count": 16,
   "metadata": {
    "id": "zHu-j9j3QxEp"
   },
   "outputs": [
    {
     "data": {
      "text/plain": [
       "{'h', 'n', 'o', 'p', 't', 'y'}"
      ]
     },
     "execution_count": 16,
     "metadata": {},
     "output_type": "execute_result"
    }
   ],
   "source": [
    "s3 = set('python')\n",
    "s3"
   ]
  },
  {
   "cell_type": "code",
   "execution_count": 17,
   "metadata": {},
   "outputs": [
    {
     "data": {
      "text/plain": [
       "{'python'}"
      ]
     },
     "execution_count": 17,
     "metadata": {},
     "output_type": "execute_result"
    }
   ],
   "source": [
    "s6 ={\"python\"}\n",
    "s6"
   ]
  },
  {
   "cell_type": "code",
   "execution_count": 18,
   "metadata": {
    "colab": {
     "base_uri": "https://localhost:8080/"
    },
    "executionInfo": {
     "elapsed": 382,
     "status": "ok",
     "timestamp": 1677289581086,
     "user": {
      "displayName": "ashutosh upadhyay",
      "userId": "04009039228362967146"
     },
     "user_tz": -330
    },
    "id": "Xidd_8pzQxEp",
    "outputId": "f56c272d-26e5-40b9-9d55-e0257dbcd9ab"
   },
   "outputs": [
    {
     "data": {
      "text/plain": [
       "{'h', 'i'}"
      ]
     },
     "execution_count": 18,
     "metadata": {},
     "output_type": "execute_result"
    }
   ],
   "source": [
    "s4 = set('hiiiiiiiiiiii')\n",
    "s4"
   ]
  },
  {
   "cell_type": "markdown",
   "metadata": {
    "id": "UslnOtuAQxEp"
   },
   "source": [
    "## Range"
   ]
  },
  {
   "cell_type": "code",
   "execution_count": null,
   "metadata": {
    "id": "OHHJFCivQxEq"
   },
   "outputs": [],
   "source": [
    "for i in range(1,5):\n",
    "    print(i)"
   ]
  },
  {
   "cell_type": "code",
   "execution_count": null,
   "metadata": {},
   "outputs": [],
   "source": [
    "for i in range(5):\n",
    "    print(i)"
   ]
  },
  {
   "cell_type": "code",
   "execution_count": null,
   "metadata": {
    "id": "J6a8QaNRQxEq"
   },
   "outputs": [],
   "source": [
    "s5 = set(range(1,10))\n",
    "s5"
   ]
  },
  {
   "cell_type": "code",
   "execution_count": null,
   "metadata": {},
   "outputs": [],
   "source": []
  },
  {
   "cell_type": "code",
   "execution_count": null,
   "metadata": {},
   "outputs": [],
   "source": []
  }
 ],
 "metadata": {
  "colab": {
   "collapsed_sections": [
    "ssxcAskFQxEd",
    "n833VbCQQxEe",
    "wW9iIbWRQxEf",
    "W7b7GjPfQxEg",
    "_zMExwTGQxEh",
    "8Wk9-tmaQxEl",
    "oqrqE1EtQxEm",
    "iPah1iREQxEn",
    "UslnOtuAQxEp"
   ],
   "provenance": []
  },
  "kernelspec": {
   "display_name": "Python 3 (ipykernel)",
   "language": "python",
   "name": "python3"
  },
  "language_info": {
   "codemirror_mode": {
    "name": "ipython",
    "version": 3
   },
   "file_extension": ".py",
   "mimetype": "text/x-python",
   "name": "python",
   "nbconvert_exporter": "python",
   "pygments_lexer": "ipython3",
   "version": "3.11.3"
  }
 },
 "nbformat": 4,
 "nbformat_minor": 1
}
