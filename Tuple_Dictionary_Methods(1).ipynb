{
 "cells": [
  {
   "cell_type": "code",
   "execution_count": 1,
   "id": "c2c03027",
   "metadata": {},
   "outputs": [],
   "source": [
    "# Tuple Methods\n",
    "T1 =(3,8,\"Hello\",8+9j,90.78, True)"
   ]
  },
  {
   "cell_type": "code",
   "execution_count": 2,
   "id": "da41eb27",
   "metadata": {},
   "outputs": [
    {
     "data": {
      "text/plain": [
       "(3, 8, 'Hello', (8+9j), 90.78, True)"
      ]
     },
     "execution_count": 2,
     "metadata": {},
     "output_type": "execute_result"
    }
   ],
   "source": [
    "T1"
   ]
  },
  {
   "cell_type": "code",
   "execution_count": 3,
   "id": "d1573aa9",
   "metadata": {},
   "outputs": [
    {
     "data": {
      "text/plain": [
       "(8+9j)"
      ]
     },
     "execution_count": 3,
     "metadata": {},
     "output_type": "execute_result"
    }
   ],
   "source": [
    "# Use index values to access, slice the elements \n",
    "T1[3]"
   ]
  },
  {
   "cell_type": "code",
   "execution_count": 4,
   "id": "3fcba257",
   "metadata": {},
   "outputs": [
    {
     "data": {
      "text/plain": [
       "(3, 8, 'Hello')"
      ]
     },
     "execution_count": 4,
     "metadata": {},
     "output_type": "execute_result"
    }
   ],
   "source": [
    "T1[0:3]"
   ]
  },
  {
   "cell_type": "code",
   "execution_count": 5,
   "id": "4d0ed83d",
   "metadata": {},
   "outputs": [
    {
     "data": {
      "text/plain": [
       "(3, 8, 'Hello', (8+9j), 90.78, True)"
      ]
     },
     "execution_count": 5,
     "metadata": {},
     "output_type": "execute_result"
    }
   ],
   "source": [
    "T1"
   ]
  },
  {
   "cell_type": "code",
   "execution_count": 6,
   "id": "afc94980",
   "metadata": {},
   "outputs": [
    {
     "data": {
      "text/plain": [
       "(True, 90.78, (8+9j), 'Hello', 8, 3)"
      ]
     },
     "execution_count": 6,
     "metadata": {},
     "output_type": "execute_result"
    }
   ],
   "source": [
    "T1[::-1]"
   ]
  },
  {
   "cell_type": "code",
   "execution_count": 7,
   "id": "5638b3ee",
   "metadata": {},
   "outputs": [
    {
     "ename": "TypeError",
     "evalue": "'tuple' object does not support item assignment",
     "output_type": "error",
     "traceback": [
      "\u001b[1;31m---------------------------------------------------------------------------\u001b[0m",
      "\u001b[1;31mTypeError\u001b[0m                                 Traceback (most recent call last)",
      "Cell \u001b[1;32mIn[7], line 2\u001b[0m\n\u001b[0;32m      1\u001b[0m \u001b[38;5;66;03m# Tuples are immutable\u001b[39;00m\n\u001b[1;32m----> 2\u001b[0m T1[\u001b[38;5;241m2\u001b[39m] \u001b[38;5;241m=\u001b[39m \u001b[38;5;241m10\u001b[39m\n",
      "\u001b[1;31mTypeError\u001b[0m: 'tuple' object does not support item assignment"
     ]
    }
   ],
   "source": [
    "# Tuples are immutable\n",
    "T1[2] = 10"
   ]
  },
  {
   "cell_type": "code",
   "execution_count": 8,
   "id": "b5bca4d1",
   "metadata": {},
   "outputs": [
    {
     "data": {
      "text/plain": [
       "['__add__',\n",
       " '__class__',\n",
       " '__class_getitem__',\n",
       " '__contains__',\n",
       " '__delattr__',\n",
       " '__dir__',\n",
       " '__doc__',\n",
       " '__eq__',\n",
       " '__format__',\n",
       " '__ge__',\n",
       " '__getattribute__',\n",
       " '__getitem__',\n",
       " '__getnewargs__',\n",
       " '__getstate__',\n",
       " '__gt__',\n",
       " '__hash__',\n",
       " '__init__',\n",
       " '__init_subclass__',\n",
       " '__iter__',\n",
       " '__le__',\n",
       " '__len__',\n",
       " '__lt__',\n",
       " '__mul__',\n",
       " '__ne__',\n",
       " '__new__',\n",
       " '__reduce__',\n",
       " '__reduce_ex__',\n",
       " '__repr__',\n",
       " '__rmul__',\n",
       " '__setattr__',\n",
       " '__sizeof__',\n",
       " '__str__',\n",
       " '__subclasshook__',\n",
       " 'count',\n",
       " 'index']"
      ]
     },
     "execution_count": 8,
     "metadata": {},
     "output_type": "execute_result"
    }
   ],
   "source": [
    "dir(tuple)"
   ]
  },
  {
   "cell_type": "markdown",
   "id": "b9b1ba44",
   "metadata": {},
   "source": [
    "### Dictionary Methods"
   ]
  },
  {
   "cell_type": "code",
   "execution_count": 9,
   "id": "bef3fe17",
   "metadata": {},
   "outputs": [],
   "source": [
    "d1 = {'name':[\"Ramesh\", \"Rakesh\",\"John\"],'age':[25,27,23],\"height\":[175,165,181]}"
   ]
  },
  {
   "cell_type": "code",
   "execution_count": 10,
   "id": "3ba1171b",
   "metadata": {},
   "outputs": [
    {
     "data": {
      "text/plain": [
       "{'name': ['Ramesh', 'Rakesh', 'John'],\n",
       " 'age': [25, 27, 23],\n",
       " 'height': [175, 165, 181]}"
      ]
     },
     "execution_count": 10,
     "metadata": {},
     "output_type": "execute_result"
    }
   ],
   "source": [
    "d1"
   ]
  },
  {
   "cell_type": "code",
   "execution_count": 13,
   "id": "7ae95e43",
   "metadata": {},
   "outputs": [
    {
     "data": {
      "text/plain": [
       "['Ramesh', 'Rakesh', 'John']"
      ]
     },
     "execution_count": 13,
     "metadata": {},
     "output_type": "execute_result"
    }
   ],
   "source": [
    "# Access the element using key\n",
    "d1[\"name\"]"
   ]
  },
  {
   "cell_type": "code",
   "execution_count": 14,
   "id": "89072573",
   "metadata": {},
   "outputs": [],
   "source": [
    "# Change the value of a key in a dictionary\n",
    "d1[\"name\"]=['Ramesh', 'Sachin', 'John']"
   ]
  },
  {
   "cell_type": "code",
   "execution_count": 15,
   "id": "4d5d9d57",
   "metadata": {},
   "outputs": [
    {
     "data": {
      "text/plain": [
       "{'name': ['Ramesh', 'Sachin', 'John'],\n",
       " 'age': [25, 27, 23],\n",
       " 'height': [175, 165, 181]}"
      ]
     },
     "execution_count": 15,
     "metadata": {},
     "output_type": "execute_result"
    }
   ],
   "source": [
    "d1"
   ]
  },
  {
   "cell_type": "code",
   "execution_count": 16,
   "id": "20bcea2f",
   "metadata": {},
   "outputs": [],
   "source": [
    "d1[\"name\"][2]=\"Ramya\""
   ]
  },
  {
   "cell_type": "code",
   "execution_count": 17,
   "id": "9ac3d320",
   "metadata": {},
   "outputs": [
    {
     "data": {
      "text/plain": [
       "{'name': ['Ramesh', 'Sachin', 'Ramya'],\n",
       " 'age': [25, 27, 23],\n",
       " 'height': [175, 165, 181]}"
      ]
     },
     "execution_count": 17,
     "metadata": {},
     "output_type": "execute_result"
    }
   ],
   "source": [
    "d1"
   ]
  },
  {
   "cell_type": "code",
   "execution_count": 18,
   "id": "e367986b",
   "metadata": {},
   "outputs": [],
   "source": [
    "d1[\"name\"].append(\"Hardik\")"
   ]
  },
  {
   "cell_type": "code",
   "execution_count": 19,
   "id": "ed26acdd",
   "metadata": {},
   "outputs": [
    {
     "data": {
      "text/plain": [
       "{'name': ['Ramesh', 'Sachin', 'Ramya', 'Hardik'],\n",
       " 'age': [25, 27, 23],\n",
       " 'height': [175, 165, 181]}"
      ]
     },
     "execution_count": 19,
     "metadata": {},
     "output_type": "execute_result"
    }
   ],
   "source": [
    "d1"
   ]
  },
  {
   "cell_type": "code",
   "execution_count": 21,
   "id": "92a26f61",
   "metadata": {},
   "outputs": [
    {
     "data": {
      "text/plain": [
       "['__class__',\n",
       " '__class_getitem__',\n",
       " '__contains__',\n",
       " '__delattr__',\n",
       " '__delitem__',\n",
       " '__dir__',\n",
       " '__doc__',\n",
       " '__eq__',\n",
       " '__format__',\n",
       " '__ge__',\n",
       " '__getattribute__',\n",
       " '__getitem__',\n",
       " '__getstate__',\n",
       " '__gt__',\n",
       " '__hash__',\n",
       " '__init__',\n",
       " '__init_subclass__',\n",
       " '__ior__',\n",
       " '__iter__',\n",
       " '__le__',\n",
       " '__len__',\n",
       " '__lt__',\n",
       " '__ne__',\n",
       " '__new__',\n",
       " '__or__',\n",
       " '__reduce__',\n",
       " '__reduce_ex__',\n",
       " '__repr__',\n",
       " '__reversed__',\n",
       " '__ror__',\n",
       " '__setattr__',\n",
       " '__setitem__',\n",
       " '__sizeof__',\n",
       " '__str__',\n",
       " '__subclasshook__',\n",
       " 'clear',\n",
       " 'copy',\n",
       " 'fromkeys',\n",
       " 'get',\n",
       " 'items',\n",
       " 'keys',\n",
       " 'pop',\n",
       " 'popitem',\n",
       " 'setdefault',\n",
       " 'update',\n",
       " 'values']"
      ]
     },
     "execution_count": 21,
     "metadata": {},
     "output_type": "execute_result"
    }
   ],
   "source": [
    "# dictionary method\n",
    "dir(dict)"
   ]
  },
  {
   "cell_type": "code",
   "execution_count": 22,
   "id": "a64486bc",
   "metadata": {},
   "outputs": [
    {
     "data": {
      "text/plain": [
       "{'name': ['Ramesh', 'Sachin', 'Ramya', 'Hardik'],\n",
       " 'age': [25, 27, 23],\n",
       " 'height': [175, 165, 181]}"
      ]
     },
     "execution_count": 22,
     "metadata": {},
     "output_type": "execute_result"
    }
   ],
   "source": [
    "d1"
   ]
  },
  {
   "cell_type": "code",
   "execution_count": 23,
   "id": "5159f6e1",
   "metadata": {},
   "outputs": [],
   "source": [
    "# clear()\n",
    "d1.clear()"
   ]
  },
  {
   "cell_type": "code",
   "execution_count": 24,
   "id": "29dd0cb2",
   "metadata": {},
   "outputs": [
    {
     "data": {
      "text/plain": [
       "{}"
      ]
     },
     "execution_count": 24,
     "metadata": {},
     "output_type": "execute_result"
    }
   ],
   "source": [
    "d1"
   ]
  },
  {
   "cell_type": "code",
   "execution_count": 28,
   "id": "af8058e4",
   "metadata": {},
   "outputs": [
    {
     "data": {
      "text/plain": [
       "{'A': 0, 'B': 0, 'C': 0, 'D': 0}"
      ]
     },
     "execution_count": 28,
     "metadata": {},
     "output_type": "execute_result"
    }
   ],
   "source": [
    "# Use fromkeys() to create a new dict\n",
    "L1 = [\"A\",\"B\",\"C\",\"D\"]\n",
    "d2.fromkeys(L1,0)"
   ]
  },
  {
   "cell_type": "code",
   "execution_count": 27,
   "id": "8f5fec6a",
   "metadata": {},
   "outputs": [
    {
     "data": {
      "text/plain": [
       "{}"
      ]
     },
     "execution_count": 27,
     "metadata": {},
     "output_type": "execute_result"
    }
   ],
   "source": [
    "d2"
   ]
  },
  {
   "cell_type": "code",
   "execution_count": 29,
   "id": "0106248f",
   "metadata": {},
   "outputs": [],
   "source": [
    "# Use of get() method to print the value of key\n",
    "d3 = {'name':[\"Ramesh\", \"Rakesh\",\"John\"],'age':[25,27,23],\"height\":[175,165,181]}"
   ]
  },
  {
   "cell_type": "code",
   "execution_count": 30,
   "id": "a988ed82",
   "metadata": {},
   "outputs": [
    {
     "data": {
      "text/plain": [
       "{'name': ['Ramesh', 'Rakesh', 'John'],\n",
       " 'age': [25, 27, 23],\n",
       " 'height': [175, 165, 181]}"
      ]
     },
     "execution_count": 30,
     "metadata": {},
     "output_type": "execute_result"
    }
   ],
   "source": [
    "d3"
   ]
  },
  {
   "cell_type": "code",
   "execution_count": 32,
   "id": "2f5cd2f2",
   "metadata": {},
   "outputs": [
    {
     "data": {
      "text/plain": [
       "(['Ramesh', 'Rakesh', 'John'], ['Ramesh', 'Rakesh', 'John'])"
      ]
     },
     "execution_count": 32,
     "metadata": {},
     "output_type": "execute_result"
    }
   ],
   "source": [
    "d3.get(\"name\"), d3[\"name\"]"
   ]
  },
  {
   "cell_type": "code",
   "execution_count": 33,
   "id": "4f0ec296",
   "metadata": {},
   "outputs": [
    {
     "ename": "KeyError",
     "evalue": "'weight'",
     "output_type": "error",
     "traceback": [
      "\u001b[1;31m---------------------------------------------------------------------------\u001b[0m",
      "\u001b[1;31mKeyError\u001b[0m                                  Traceback (most recent call last)",
      "Cell \u001b[1;32mIn[33], line 1\u001b[0m\n\u001b[1;32m----> 1\u001b[0m d3[\u001b[38;5;124m\"\u001b[39m\u001b[38;5;124mweight\u001b[39m\u001b[38;5;124m\"\u001b[39m]\n",
      "\u001b[1;31mKeyError\u001b[0m: 'weight'"
     ]
    }
   ],
   "source": [
    "d3[\"weight\"]"
   ]
  },
  {
   "cell_type": "code",
   "execution_count": 34,
   "id": "547ee1f0",
   "metadata": {},
   "outputs": [],
   "source": [
    "d3.get(\"weight\")"
   ]
  },
  {
   "cell_type": "code",
   "execution_count": 35,
   "id": "63e31d0b",
   "metadata": {},
   "outputs": [
    {
     "data": {
      "text/plain": [
       "0"
      ]
     },
     "execution_count": 35,
     "metadata": {},
     "output_type": "execute_result"
    }
   ],
   "source": [
    "d3.get(\"weight\",0)"
   ]
  },
  {
   "cell_type": "code",
   "execution_count": 37,
   "id": "649d9d48",
   "metadata": {},
   "outputs": [
    {
     "name": "stdout",
     "output_type": "stream",
     "text": [
      "{'name': ['Ramesh', 'Rakesh', 'John'], 'age': [25, 27, 23], 'height': [175, 165, 181]}\n"
     ]
    },
    {
     "data": {
      "text/plain": [
       "dict_items([('name', ['Ramesh', 'Rakesh', 'John']), ('age', [25, 27, 23]), ('height', [175, 165, 181])])"
      ]
     },
     "execution_count": 37,
     "metadata": {},
     "output_type": "execute_result"
    }
   ],
   "source": [
    "# items(), keys(), values() methods\n",
    "print(d3)\n",
    "d3.items()"
   ]
  },
  {
   "cell_type": "code",
   "execution_count": 38,
   "id": "28eab31c",
   "metadata": {},
   "outputs": [
    {
     "data": {
      "text/plain": [
       "dict_keys(['name', 'age', 'height'])"
      ]
     },
     "execution_count": 38,
     "metadata": {},
     "output_type": "execute_result"
    }
   ],
   "source": [
    "d3.keys()"
   ]
  },
  {
   "cell_type": "code",
   "execution_count": 39,
   "id": "3d49b06e",
   "metadata": {},
   "outputs": [
    {
     "data": {
      "text/plain": [
       "dict_values([['Ramesh', 'Rakesh', 'John'], [25, 27, 23], [175, 165, 181]])"
      ]
     },
     "execution_count": 39,
     "metadata": {},
     "output_type": "execute_result"
    }
   ],
   "source": [
    "d3.values()"
   ]
  },
  {
   "cell_type": "code",
   "execution_count": 40,
   "id": "9d436b07",
   "metadata": {},
   "outputs": [
    {
     "data": {
      "text/plain": [
       "{'name': ['Ramesh', 'Rakesh', 'John'],\n",
       " 'age': [25, 27, 23],\n",
       " 'height': [175, 165, 181]}"
      ]
     },
     "execution_count": 40,
     "metadata": {},
     "output_type": "execute_result"
    }
   ],
   "source": [
    "# Use of pop() and popitem() methods\n",
    "d3"
   ]
  },
  {
   "cell_type": "code",
   "execution_count": 42,
   "id": "049e650b",
   "metadata": {},
   "outputs": [
    {
     "data": {
      "text/plain": [
       "['Ramesh', 'Rakesh', 'John']"
      ]
     },
     "execution_count": 42,
     "metadata": {},
     "output_type": "execute_result"
    }
   ],
   "source": [
    "d3.pop('name')"
   ]
  },
  {
   "cell_type": "code",
   "execution_count": 44,
   "id": "65f86d61",
   "metadata": {},
   "outputs": [
    {
     "data": {
      "text/plain": [
       "{'age': [25, 27, 23], 'height': [175, 165, 181]}"
      ]
     },
     "execution_count": 44,
     "metadata": {},
     "output_type": "execute_result"
    }
   ],
   "source": [
    "d3"
   ]
  },
  {
   "cell_type": "code",
   "execution_count": 45,
   "id": "5c118bc7",
   "metadata": {},
   "outputs": [
    {
     "data": {
      "text/plain": [
       "('height', [175, 165, 181])"
      ]
     },
     "execution_count": 45,
     "metadata": {},
     "output_type": "execute_result"
    }
   ],
   "source": [
    "d3.popitem()"
   ]
  },
  {
   "cell_type": "code",
   "execution_count": 46,
   "id": "7089eb0f",
   "metadata": {},
   "outputs": [
    {
     "data": {
      "text/plain": [
       "{'age': [25, 27, 23]}"
      ]
     },
     "execution_count": 46,
     "metadata": {},
     "output_type": "execute_result"
    }
   ],
   "source": [
    "d3"
   ]
  },
  {
   "cell_type": "code",
   "execution_count": 47,
   "id": "b0312fb2",
   "metadata": {},
   "outputs": [],
   "source": [
    "# Add element to a dictionary\n",
    "d4 = {'name':[\"Ramesh\", \"Rakesh\",\"John\"],'age':[25,27,23],\"height\":[175,165,181]}\n",
    "d4[\"weight\"]=[60,76,81]"
   ]
  },
  {
   "cell_type": "code",
   "execution_count": 48,
   "id": "a5d2269f",
   "metadata": {},
   "outputs": [
    {
     "data": {
      "text/plain": [
       "{'name': ['Ramesh', 'Rakesh', 'John'],\n",
       " 'age': [25, 27, 23],\n",
       " 'height': [175, 165, 181],\n",
       " 'weight': [60, 76, 81]}"
      ]
     },
     "execution_count": 48,
     "metadata": {},
     "output_type": "execute_result"
    }
   ],
   "source": [
    "d4"
   ]
  },
  {
   "cell_type": "code",
   "execution_count": 49,
   "id": "02d7dc09",
   "metadata": {},
   "outputs": [
    {
     "data": {
      "text/plain": [
       "[60, 76, 81]"
      ]
     },
     "execution_count": 49,
     "metadata": {},
     "output_type": "execute_result"
    }
   ],
   "source": [
    "d4.setdefault(\"weight\")"
   ]
  },
  {
   "cell_type": "code",
   "execution_count": 51,
   "id": "fe19bf0c",
   "metadata": {},
   "outputs": [],
   "source": [
    "d4.setdefault(\"bmi\",23)"
   ]
  },
  {
   "cell_type": "code",
   "execution_count": 52,
   "id": "6cb98061",
   "metadata": {},
   "outputs": [
    {
     "data": {
      "text/plain": [
       "{'name': ['Ramesh', 'Rakesh', 'John'],\n",
       " 'age': [25, 27, 23],\n",
       " 'height': [175, 165, 181],\n",
       " 'weight': [60, 76, 81],\n",
       " 'bmi': None}"
      ]
     },
     "execution_count": 52,
     "metadata": {},
     "output_type": "execute_result"
    }
   ],
   "source": [
    "d4"
   ]
  },
  {
   "cell_type": "code",
   "execution_count": 54,
   "id": "38ff639b",
   "metadata": {},
   "outputs": [
    {
     "data": {
      "text/plain": [
       "('bmi', None)"
      ]
     },
     "execution_count": 54,
     "metadata": {},
     "output_type": "execute_result"
    }
   ],
   "source": [
    "# Updating the dictionary\n",
    "d4.popitem()"
   ]
  },
  {
   "cell_type": "code",
   "execution_count": 55,
   "id": "fca92626",
   "metadata": {},
   "outputs": [
    {
     "data": {
      "text/plain": [
       "{'name': ['Ramesh', 'Rakesh', 'John'],\n",
       " 'age': [25, 27, 23],\n",
       " 'height': [175, 165, 181],\n",
       " 'weight': [60, 76, 81]}"
      ]
     },
     "execution_count": 55,
     "metadata": {},
     "output_type": "execute_result"
    }
   ],
   "source": [
    "d4"
   ]
  },
  {
   "cell_type": "code",
   "execution_count": 56,
   "id": "29dba0a2",
   "metadata": {},
   "outputs": [
    {
     "data": {
      "text/plain": [
       "{'name': ['Ramesh', 'Rakesh', 'John'],\n",
       " 'age': [25, 27, 23],\n",
       " 'height': [175, 165, 181],\n",
       " 'weight': [70, 80, 60]}"
      ]
     },
     "execution_count": 56,
     "metadata": {},
     "output_type": "execute_result"
    }
   ],
   "source": [
    "d4.update({\"weight\":[70,80,60]})\n",
    "d4"
   ]
  },
  {
   "cell_type": "code",
   "execution_count": 57,
   "id": "58b4047d",
   "metadata": {},
   "outputs": [
    {
     "data": {
      "text/plain": [
       "{'name': ['Ramesh', 'Rakesh', 'John'],\n",
       " 'age': [25, 27, 23],\n",
       " 'height': [175, 165, 181],\n",
       " 'weight': [70, 80, 60],\n",
       " 'bmi': [24, 25, 27]}"
      ]
     },
     "execution_count": 57,
     "metadata": {},
     "output_type": "execute_result"
    }
   ],
   "source": [
    "d4.update({'bmi':[24,25,27]})\n",
    "d4"
   ]
  },
  {
   "cell_type": "code",
   "execution_count": null,
   "id": "15eacd96",
   "metadata": {},
   "outputs": [],
   "source": []
  }
 ],
 "metadata": {
  "kernelspec": {
   "display_name": "Python 3 (ipykernel)",
   "language": "python",
   "name": "python3"
  },
  "language_info": {
   "codemirror_mode": {
    "name": "ipython",
    "version": 3
   },
   "file_extension": ".py",
   "mimetype": "text/x-python",
   "name": "python",
   "nbconvert_exporter": "python",
   "pygments_lexer": "ipython3",
   "version": "3.11.3"
  }
 },
 "nbformat": 4,
 "nbformat_minor": 5
}
