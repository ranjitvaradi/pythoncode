{
 "cells": [
  {
   "cell_type": "markdown",
   "id": "fd6572e5",
   "metadata": {},
   "source": [
    "## Descriptive Statistics\n",
    "### Mean\n",
    "The **mean**, often referred to as the average, is a measure of central tendency that is calculated by adding up all the numbers in a data set and then dividing by the count of those numbers. The mean provides a quick snapshot of the central location for a dataset, but it can be significantly affected by outliers or skewed distributions.\n",
    "\n",
    "### Median\n",
    "The **median** is the middle value in a dataset when the values are arranged in ascending or descending order. If the dataset has an odd number of observations, the median is the middle number. If the dataset has an even number of observations, the median is the average of the two middle numbers. The median is a better measure than the mean for skewed distributions because it is not influenced by outliers.\n",
    "\n",
    "### Mode\n",
    "The **mode** is the value that appears most frequently in a dataset. A dataset may have one mode, more than one mode (bimodal or multimodal), or no mode at all. The mode is particularly useful for categorical data, where we wish to know which is the most common category.\n",
    "\n",
    "### When is Median Preferred Over Mean?\n",
    "\n",
    "The median is preferred over the mean in the following situations:\n",
    "\n",
    "1. **Skewed Distributions**: In distributions that are not symmetrical, especially those that are significantly skewed to the right or left, the median provides a better representation of the central location of the data because it is not as influenced by outliers as the mean.\n",
    "\n",
    "2. **Outliers Present**: When the dataset contains outliers (extremely high or low values compared to the rest of the dataset), the median is a more accurate reflection of the dataset's central tendency. The mean can be misleading because it gets dragged towards the outliers.\n",
    "\n",
    "3. **Ordinal Data**: For ordinal data (data that can be categorized and ordered but not numerically operated on), the median can indicate the midpoint of the data, while the mean is not a valid measure.\n",
    "\n",
    "4. **Open-ended Distributions**: When dealing with distributions where one end is open (for example, incomes where there is no upper limit to how high an income can be), the median is preferred as it gives a more realistic measure of the central tendency.\n",
    "\n",
    "5. **Real Estate and Income Data**: In fields like real estate or studies involving income, where the distribution often skews and contains outliers (e.g., a few very expensive houses or very high incomes), the median is commonly reported as it provides a more realistic picture of what is \"typical\" for the dataset.\n",
    "\n",
    "In summary, the median is often preferred in practical situations where the data is skewed, contains outliers, or is ordinal, providing a more robust measure of central tendency under these conditions."
   ]
  },
  {
   "cell_type": "code",
   "execution_count": 1,
   "id": "c3d19b4e",
   "metadata": {},
   "outputs": [],
   "source": [
    "import numpy as np\n",
    "from scipy import stats\n",
    "import pandas as pd\n",
    "import random"
   ]
  },
  {
   "cell_type": "code",
   "execution_count": 3,
   "id": "e7ceda75",
   "metadata": {},
   "outputs": [
    {
     "data": {
      "text/plain": [
       "[183, 184, 145, 179, 155, 156, 150, 184, 179, 168]"
      ]
     },
     "execution_count": 3,
     "metadata": {},
     "output_type": "execute_result"
    }
   ],
   "source": [
    "# Generate a list heights for 10 people\n",
    "Heights = [random.randint(140,185) for i in range(10)]\n",
    "Heights"
   ]
  },
  {
   "cell_type": "code",
   "execution_count": 4,
   "id": "f4a3658d",
   "metadata": {},
   "outputs": [
    {
     "name": "stdout",
     "output_type": "stream",
     "text": [
      "Mean:  168.3\n",
      "Median:  173.5\n",
      "Standard Deviation  14.642745644174797\n",
      "Variance:  214.41\n"
     ]
    }
   ],
   "source": [
    "# Use numpy to compute descriptive statistical parameters\n",
    "print(\"Mean: \",np.mean(Heights))\n",
    "print(\"Median: \",np.median(Heights))\n",
    "print(\"Standard Deviation \",np.std(Heights))\n",
    "print(\"Variance: \",np.var(Heights))"
   ]
  },
  {
   "cell_type": "code",
   "execution_count": 5,
   "id": "7f18eed6",
   "metadata": {},
   "outputs": [],
   "source": [
    "# Add extreme value to the Heights\n",
    "Heights.append(2000)"
   ]
  },
  {
   "cell_type": "code",
   "execution_count": 6,
   "id": "4b6e88bd",
   "metadata": {},
   "outputs": [
    {
     "data": {
      "text/plain": [
       "[183, 184, 145, 179, 155, 156, 150, 184, 179, 168, 2000]"
      ]
     },
     "execution_count": 6,
     "metadata": {},
     "output_type": "execute_result"
    }
   ],
   "source": [
    "Heights"
   ]
  },
  {
   "cell_type": "code",
   "execution_count": 7,
   "id": "6e6a5d32",
   "metadata": {},
   "outputs": [
    {
     "name": "stdout",
     "output_type": "stream",
     "text": [
      "Mean:  334.8181818181818\n",
      "Median:  179.0\n",
      "Standard Deviation  526.7617743744783\n",
      "Variance:  277477.96694214875\n"
     ]
    }
   ],
   "source": [
    "# Use numpy to compute descriptive statistical parameters\n",
    "print(\"Mean: \",np.mean(Heights))\n",
    "print(\"Median: \",np.median(Heights))\n",
    "print(\"Standard Deviation \",np.std(Heights))\n",
    "print(\"Variance: \",np.var(Heights))"
   ]
  },
  {
   "cell_type": "markdown",
   "id": "441ab9bb",
   "metadata": {},
   "source": [
    "#### It is observed that adding extreme values caused the mean to change drastically while median is slightly affected."
   ]
  },
  {
   "cell_type": "code",
   "execution_count": 12,
   "id": "59bb1ffd",
   "metadata": {},
   "outputs": [
    {
     "name": "stdout",
     "output_type": "stream",
     "text": [
      "Sample Statndard Deviation: 552.4724098417618\n",
      "Sample Variance: 305225.7636363636\n"
     ]
    }
   ],
   "source": [
    "# Computing the standard deviation assuming the heights are sample data taken from a population\n",
    "print(\"Sample Statndard Deviation:\",np.std(Heights,ddof=1))\n",
    "print(\"Sample Variance:\",np.var(Heights, ddof=1))"
   ]
  },
  {
   "cell_type": "code",
   "execution_count": 15,
   "id": "4c07c94c",
   "metadata": {
    "scrolled": false
   },
   "outputs": [
    {
     "name": "stderr",
     "output_type": "stream",
     "text": [
      "C:\\Users\\shiva\\AppData\\Local\\Temp\\ipykernel_13912\\888336248.py:2: FutureWarning: Unlike other reduction functions (e.g. `skew`, `kurtosis`), the default behavior of `mode` typically preserves the axis it acts along. In SciPy 1.11.0, this behavior will change: the default value of `keepdims` will become False, the `axis` over which the statistic is taken will be eliminated, and the value None will no longer be accepted. Set `keepdims` to True or False to avoid this warning.\n",
      "  stats.mode([10,20,10,30,60,40,10,20,20])\n"
     ]
    },
    {
     "data": {
      "text/plain": [
       "ModeResult(mode=array([10]), count=array([3]))"
      ]
     },
     "execution_count": 15,
     "metadata": {},
     "output_type": "execute_result"
    }
   ],
   "source": [
    "# Use stats module to compute mode\n",
    "stats.mode([10,20,10,30,60,40,10,20,20])"
   ]
  },
  {
   "cell_type": "code",
   "execution_count": 16,
   "id": "e1881064",
   "metadata": {},
   "outputs": [
    {
     "data": {
      "text/html": [
       "<div>\n",
       "<style scoped>\n",
       "    .dataframe tbody tr th:only-of-type {\n",
       "        vertical-align: middle;\n",
       "    }\n",
       "\n",
       "    .dataframe tbody tr th {\n",
       "        vertical-align: top;\n",
       "    }\n",
       "\n",
       "    .dataframe thead th {\n",
       "        text-align: right;\n",
       "    }\n",
       "</style>\n",
       "<table border=\"1\" class=\"dataframe\">\n",
       "  <thead>\n",
       "    <tr style=\"text-align: right;\">\n",
       "      <th></th>\n",
       "      <th>rank</th>\n",
       "      <th>discipline</th>\n",
       "      <th>phd</th>\n",
       "      <th>service</th>\n",
       "      <th>sex</th>\n",
       "      <th>salary</th>\n",
       "    </tr>\n",
       "  </thead>\n",
       "  <tbody>\n",
       "    <tr>\n",
       "      <th>0</th>\n",
       "      <td>Prof</td>\n",
       "      <td>B</td>\n",
       "      <td>56</td>\n",
       "      <td>49</td>\n",
       "      <td>Male</td>\n",
       "      <td>186960</td>\n",
       "    </tr>\n",
       "    <tr>\n",
       "      <th>1</th>\n",
       "      <td>Prof</td>\n",
       "      <td>A</td>\n",
       "      <td>12</td>\n",
       "      <td>6</td>\n",
       "      <td>Male</td>\n",
       "      <td>93000</td>\n",
       "    </tr>\n",
       "    <tr>\n",
       "      <th>2</th>\n",
       "      <td>Prof</td>\n",
       "      <td>A</td>\n",
       "      <td>23</td>\n",
       "      <td>20</td>\n",
       "      <td>Male</td>\n",
       "      <td>110515</td>\n",
       "    </tr>\n",
       "    <tr>\n",
       "      <th>3</th>\n",
       "      <td>Prof</td>\n",
       "      <td>A</td>\n",
       "      <td>40</td>\n",
       "      <td>31</td>\n",
       "      <td>Male</td>\n",
       "      <td>131205</td>\n",
       "    </tr>\n",
       "    <tr>\n",
       "      <th>4</th>\n",
       "      <td>Prof</td>\n",
       "      <td>B</td>\n",
       "      <td>20</td>\n",
       "      <td>18</td>\n",
       "      <td>Male</td>\n",
       "      <td>104800</td>\n",
       "    </tr>\n",
       "    <tr>\n",
       "      <th>...</th>\n",
       "      <td>...</td>\n",
       "      <td>...</td>\n",
       "      <td>...</td>\n",
       "      <td>...</td>\n",
       "      <td>...</td>\n",
       "      <td>...</td>\n",
       "    </tr>\n",
       "    <tr>\n",
       "      <th>73</th>\n",
       "      <td>Prof</td>\n",
       "      <td>B</td>\n",
       "      <td>18</td>\n",
       "      <td>10</td>\n",
       "      <td>Female</td>\n",
       "      <td>105450</td>\n",
       "    </tr>\n",
       "    <tr>\n",
       "      <th>74</th>\n",
       "      <td>AssocProf</td>\n",
       "      <td>B</td>\n",
       "      <td>19</td>\n",
       "      <td>6</td>\n",
       "      <td>Female</td>\n",
       "      <td>104542</td>\n",
       "    </tr>\n",
       "    <tr>\n",
       "      <th>75</th>\n",
       "      <td>Prof</td>\n",
       "      <td>B</td>\n",
       "      <td>17</td>\n",
       "      <td>17</td>\n",
       "      <td>Female</td>\n",
       "      <td>124312</td>\n",
       "    </tr>\n",
       "    <tr>\n",
       "      <th>76</th>\n",
       "      <td>Prof</td>\n",
       "      <td>A</td>\n",
       "      <td>28</td>\n",
       "      <td>14</td>\n",
       "      <td>Female</td>\n",
       "      <td>109954</td>\n",
       "    </tr>\n",
       "    <tr>\n",
       "      <th>77</th>\n",
       "      <td>Prof</td>\n",
       "      <td>A</td>\n",
       "      <td>23</td>\n",
       "      <td>15</td>\n",
       "      <td>Female</td>\n",
       "      <td>109646</td>\n",
       "    </tr>\n",
       "  </tbody>\n",
       "</table>\n",
       "<p>78 rows × 6 columns</p>\n",
       "</div>"
      ],
      "text/plain": [
       "         rank discipline  phd  service     sex  salary\n",
       "0        Prof          B   56       49    Male  186960\n",
       "1        Prof          A   12        6    Male   93000\n",
       "2        Prof          A   23       20    Male  110515\n",
       "3        Prof          A   40       31    Male  131205\n",
       "4        Prof          B   20       18    Male  104800\n",
       "..        ...        ...  ...      ...     ...     ...\n",
       "73       Prof          B   18       10  Female  105450\n",
       "74  AssocProf          B   19        6  Female  104542\n",
       "75       Prof          B   17       17  Female  124312\n",
       "76       Prof          A   28       14  Female  109954\n",
       "77       Prof          A   23       15  Female  109646\n",
       "\n",
       "[78 rows x 6 columns]"
      ]
     },
     "execution_count": 16,
     "metadata": {},
     "output_type": "execute_result"
    }
   ],
   "source": [
    "# Use pandas to compute the descriptive statistical parameters\n",
    "\n",
    "# Read a sample dataframe in to pandas\n",
    "df = pd.read_csv(\"Salaries.csv\")\n",
    "df"
   ]
  },
  {
   "cell_type": "code",
   "execution_count": 17,
   "id": "ced4d4d6",
   "metadata": {},
   "outputs": [
    {
     "data": {
      "text/plain": [
       "count        78.000000\n",
       "mean     108023.782051\n",
       "std       28293.661022\n",
       "min       57800.000000\n",
       "25%       88612.500000\n",
       "50%      104671.000000\n",
       "75%      126774.750000\n",
       "max      186960.000000\n",
       "Name: salary, dtype: float64"
      ]
     },
     "execution_count": 17,
     "metadata": {},
     "output_type": "execute_result"
    }
   ],
   "source": [
    "df[\"salary\"].describe()"
   ]
  },
  {
   "cell_type": "code",
   "execution_count": 18,
   "id": "b0b55a9b",
   "metadata": {},
   "outputs": [
    {
     "data": {
      "text/plain": [
       "790268032.8371136"
      ]
     },
     "execution_count": 18,
     "metadata": {},
     "output_type": "execute_result"
    }
   ],
   "source": [
    "np.var(df[\"salary\"])"
   ]
  },
  {
   "cell_type": "code",
   "execution_count": 19,
   "id": "c3f081af",
   "metadata": {},
   "outputs": [
    {
     "data": {
      "text/html": [
       "<div>\n",
       "<style scoped>\n",
       "    .dataframe tbody tr th:only-of-type {\n",
       "        vertical-align: middle;\n",
       "    }\n",
       "\n",
       "    .dataframe tbody tr th {\n",
       "        vertical-align: top;\n",
       "    }\n",
       "\n",
       "    .dataframe thead th {\n",
       "        text-align: right;\n",
       "    }\n",
       "</style>\n",
       "<table border=\"1\" class=\"dataframe\">\n",
       "  <thead>\n",
       "    <tr style=\"text-align: right;\">\n",
       "      <th></th>\n",
       "      <th>phd</th>\n",
       "      <th>service</th>\n",
       "      <th>salary</th>\n",
       "    </tr>\n",
       "  </thead>\n",
       "  <tbody>\n",
       "    <tr>\n",
       "      <th>count</th>\n",
       "      <td>78.000000</td>\n",
       "      <td>78.000000</td>\n",
       "      <td>78.000000</td>\n",
       "    </tr>\n",
       "    <tr>\n",
       "      <th>mean</th>\n",
       "      <td>19.705128</td>\n",
       "      <td>15.051282</td>\n",
       "      <td>108023.782051</td>\n",
       "    </tr>\n",
       "    <tr>\n",
       "      <th>std</th>\n",
       "      <td>12.498425</td>\n",
       "      <td>12.139768</td>\n",
       "      <td>28293.661022</td>\n",
       "    </tr>\n",
       "    <tr>\n",
       "      <th>min</th>\n",
       "      <td>1.000000</td>\n",
       "      <td>0.000000</td>\n",
       "      <td>57800.000000</td>\n",
       "    </tr>\n",
       "    <tr>\n",
       "      <th>25%</th>\n",
       "      <td>10.250000</td>\n",
       "      <td>5.250000</td>\n",
       "      <td>88612.500000</td>\n",
       "    </tr>\n",
       "    <tr>\n",
       "      <th>50%</th>\n",
       "      <td>18.500000</td>\n",
       "      <td>14.500000</td>\n",
       "      <td>104671.000000</td>\n",
       "    </tr>\n",
       "    <tr>\n",
       "      <th>75%</th>\n",
       "      <td>27.750000</td>\n",
       "      <td>20.750000</td>\n",
       "      <td>126774.750000</td>\n",
       "    </tr>\n",
       "    <tr>\n",
       "      <th>max</th>\n",
       "      <td>56.000000</td>\n",
       "      <td>51.000000</td>\n",
       "      <td>186960.000000</td>\n",
       "    </tr>\n",
       "  </tbody>\n",
       "</table>\n",
       "</div>"
      ],
      "text/plain": [
       "             phd    service         salary\n",
       "count  78.000000  78.000000      78.000000\n",
       "mean   19.705128  15.051282  108023.782051\n",
       "std    12.498425  12.139768   28293.661022\n",
       "min     1.000000   0.000000   57800.000000\n",
       "25%    10.250000   5.250000   88612.500000\n",
       "50%    18.500000  14.500000  104671.000000\n",
       "75%    27.750000  20.750000  126774.750000\n",
       "max    56.000000  51.000000  186960.000000"
      ]
     },
     "execution_count": 19,
     "metadata": {},
     "output_type": "execute_result"
    }
   ],
   "source": [
    "df.describe()"
   ]
  },
  {
   "cell_type": "markdown",
   "id": "6000cdec",
   "metadata": {},
   "source": [
    "### Random Sampling\n",
    "Random sampling is a fundamental concept in statistics and research methodology, referring to a way of selecting a sample from a population such that every member of the population has an equal chance of being included in the sample. This method ensures that the sample is representative of the population, making it possible to draw generalizations from the sample to the population with a known level of confidence. Random sampling is crucial for the validity and reliability of research findings because it minimizes bias in the selection process.\n",
    "\n",
    "### Key Points About Random Sampling:\n",
    "\n",
    "1. **Equal Probability**: Each member of the population has an equal probability of being selected. This characteristic is what makes the sample \"random\" and helps ensure its representativeness.\n",
    "\n",
    "2. **Variants of Random Sampling**:\n",
    "   - **Simple Random Sampling**: Every possible sample of the specified size has the same chance of being chosen. For example, drawing names from a hat.\n",
    "   - **Stratified Random Sampling**: The population is divided into strata (subgroups) based on shared characteristics, and random samples are taken from each stratum. This method ensures representation from all parts of the population.\n",
    "   - **Cluster Random Sampling**: The population is divided into clusters (groups), some of which are randomly selected. Then, either all members of each chosen cluster are included in the sample or random samples are taken from each selected cluster.\n",
    "   - **Systematic Sampling**: Every nth member of the population is selected after a random start point is chosen. While not purely random, if the list is not ordered in a way that biases the selection, it can approximate random sampling.\n",
    "\n",
    "3. **Reduction of Bias**: By giving each member an equal chance of selection, random sampling attempts to reduce selection bias, increasing the likelihood that the sample accurately reflects the wider population.\n",
    "\n",
    "4. **Statistical Analysis**: Random samples allow for the use of probability theory to express the likelihood that any difference observed between the sample and the population is due to chance. This is essential for hypothesis testing and confidence intervals.\n",
    "\n",
    "5. **Practical Challenges**: In practice, achieving perfect random sampling can be challenging due to limitations in identifying all members of a population, response bias (not everyone selected chooses to participate), and operational constraints. Various techniques, including the use of random number generators and software, help in implementing random sampling methods.\n",
    "\n",
    "Random sampling is a cornerstone of statistical inference and research design, providing a foundation for the objective analysis of data and the generation of findings that are broadly applicable beyond the specific sample used in a study."
   ]
  },
  {
   "cell_type": "code",
   "execution_count": 10,
   "id": "08a73b4b",
   "metadata": {},
   "outputs": [
    {
     "name": "stdout",
     "output_type": "stream",
     "text": [
      "Population data points: [1, 2, 3, 4, 5, 6, 7, 8, 9, 10, 11, 12, 13, 14, 15, 16, 17, 18, 19, 20, 21, 22, 23, 24, 25, 26, 27, 28, 29, 30, 31, 32, 33, 34, 35, 36, 37, 38, 39, 40, 41, 42, 43, 44, 45, 46, 47, 48, 49, 50]\n",
      "\n",
      "\n",
      "Random samples: [22, 27, 20, 5, 43]\n"
     ]
    }
   ],
   "source": [
    "# Random Sampling from population\n",
    "\n",
    "import random\n",
    "\n",
    "# Assuming your population is a list of numbers from 1 to 100\n",
    "population = list(range(1, 51))\n",
    "\n",
    "# Select 5 random samples from the population\n",
    "samples = random.sample(population, 5)\n",
    "print(\"Population data points:\",population)\n",
    "print(\"\\n\")\n",
    "print(\"Random samples:\", samples)\n"
   ]
  },
  {
   "cell_type": "markdown",
   "id": "f94fde8c",
   "metadata": {},
   "source": [
    "### Population Standard Deviation and Sample Standard Deviation\n",
    "The distinction between population standard deviation and sample standard deviation lies in their respective purposes, formulas, and the data sets they are used to describe. Both measure the spread or variability of data, but they apply to different scenarios.\n",
    "\n",
    "#### Population Standard Deviation\n",
    "\n",
    "The population standard deviation is used when you are considering the entire set of data points in a population. It measures how much variation or dispersion exists from the average (mean) value in that complete population. \n",
    "\n",
    "In this context, the population refers to the entire group you're interested in studying, such as all the apples in a large orchard.\n",
    "\n",
    "#### Sample Standard Deviation\n",
    "\n",
    "The sample standard deviation, on the other hand, is used when analyzing a sample (a subset) taken from a larger population. Since samples are used to make inferences about the population, the formula for the sample standard deviation (\\(s\\)) includes a correction factor (using \\(N-1\\) instead of \\(N\\) in the denominator) to account for the variability in estimating the population variance from a sample. This correction is known as Bessel's correction. \n",
    "\n",
    "### Key Differences\n",
    "\n",
    "1. **Purpose**: The population standard deviation is used when dealing with the entire population, while the sample standard deviation is used when working with a sample from that population.\n",
    "\n",
    "2. **Formula**: The denominator in the formula for the sample standard deviation is \\(N-1\\) instead of \\(N\\), incorporating Bessel's correction to provide an unbiased estimate of the population variance.\n",
    "\n",
    "3. **Application**: When you have access to all data points of interest, you use the population standard deviation. When you're making inferences about a population based on a sample, you use the sample standard deviation.\n",
    "\n",
    "4. **Implication for Variability**: Using \\(N-1\\) in the denominator usually results in a slightly larger standard deviation compared to using \\(N\\), reflecting the added uncertainty when estimating population parameters from a sample.\n",
    "\n",
    "Understanding whether to use the population or sample standard deviation is crucial in statistics, as it affects the accuracy of your analysis and the validity of your conclusions when making inferences about a larger group based on a sample."
   ]
  },
  {
   "cell_type": "code",
   "execution_count": 29,
   "id": "576ed80d",
   "metadata": {},
   "outputs": [],
   "source": [
    "# Sample and population standard deviation\n",
    "weights = [random.randint(50,85) for i in range(10)]"
   ]
  },
  {
   "cell_type": "code",
   "execution_count": 39,
   "id": "7cc8902d",
   "metadata": {},
   "outputs": [
    {
     "data": {
      "text/plain": [
       "[57, 50, 50, 69, 68, 73, 62, 74, 61, 75]"
      ]
     },
     "execution_count": 39,
     "metadata": {},
     "output_type": "execute_result"
    }
   ],
   "source": [
    "weights"
   ]
  },
  {
   "cell_type": "code",
   "execution_count": 31,
   "id": "8996c298",
   "metadata": {},
   "outputs": [
    {
     "data": {
      "text/plain": [
       "8.926925562588723"
      ]
     },
     "execution_count": 31,
     "metadata": {},
     "output_type": "execute_result"
    }
   ],
   "source": [
    "# population std\n",
    "np.std(weights)"
   ]
  },
  {
   "cell_type": "code",
   "execution_count": 33,
   "id": "836c8da8",
   "metadata": {},
   "outputs": [
    {
     "data": {
      "text/plain": [
       "9.409805760186787"
      ]
     },
     "execution_count": 33,
     "metadata": {},
     "output_type": "execute_result"
    }
   ],
   "source": [
    "# sample std\n",
    "np.std(weights, ddof=1)  # ddof mentions that the data is a sample taken from a population"
   ]
  },
  {
   "cell_type": "code",
   "execution_count": 34,
   "id": "74be69a0",
   "metadata": {},
   "outputs": [],
   "source": [
    "# Use statistics module\n",
    "import statistics as st"
   ]
  },
  {
   "cell_type": "code",
   "execution_count": 35,
   "id": "cec8e982",
   "metadata": {},
   "outputs": [
    {
     "data": {
      "text/plain": [
       "63.9"
      ]
     },
     "execution_count": 35,
     "metadata": {},
     "output_type": "execute_result"
    }
   ],
   "source": [
    "st.mean(weights)"
   ]
  },
  {
   "cell_type": "code",
   "execution_count": 36,
   "id": "417d5e66",
   "metadata": {},
   "outputs": [
    {
     "data": {
      "text/plain": [
       "65.0"
      ]
     },
     "execution_count": 36,
     "metadata": {},
     "output_type": "execute_result"
    }
   ],
   "source": [
    "st.median(weights)"
   ]
  },
  {
   "cell_type": "code",
   "execution_count": 37,
   "id": "d1dd16b9",
   "metadata": {},
   "outputs": [
    {
     "data": {
      "text/plain": [
       "50"
      ]
     },
     "execution_count": 37,
     "metadata": {},
     "output_type": "execute_result"
    }
   ],
   "source": [
    "st.mode(weights)"
   ]
  },
  {
   "cell_type": "code",
   "execution_count": 40,
   "id": "f8062775",
   "metadata": {},
   "outputs": [
    {
     "data": {
      "text/plain": [
       "(9.409805760186787, 8.926925562588723)"
      ]
     },
     "execution_count": 40,
     "metadata": {},
     "output_type": "execute_result"
    }
   ],
   "source": [
    "st.stdev(weights), st.pstdev(weights)"
   ]
  },
  {
   "cell_type": "code",
   "execution_count": 11,
   "id": "0db40049",
   "metadata": {},
   "outputs": [
    {
     "name": "stdout",
     "output_type": "stream",
     "text": [
      "25\n"
     ]
    }
   ],
   "source": [
    "# Computation of range\n",
    "weights = [57, 50, 50, 69, 68, 73, 62, 74, 61, 75]\n",
    "r = np.max(weights)-np.min(weights)\n",
    "print(r)"
   ]
  },
  {
   "cell_type": "markdown",
   "id": "2e9f92bb",
   "metadata": {},
   "source": [
    "### Percentiles\n",
    "\n",
    "Percentiles are statistical measures that divide a dataset into 100 equal parts, providing a way to compare individual data points to the larger distribution. Each percentile represents a value below which a certain percentage of the data falls. For example, the 50th percentile (also known as the median) is the value below which 50% of the data points can be found. Similarly, the 25th percentile is the value below which 25% of the data points lie, and so on.\n",
    "\n",
    "The concept of percentiles is widely used in various fields, including statistics, education, and health, to provide a relative standing of a particular value within a dataset. For instance, in standardized testing, a student's percentile rank indicates the percentage of students who scored lower than that student.\n",
    "\n",
    "\n",
    "### Quartiles\n",
    "\n",
    "Quartiles are a special type of percentile that divide a dataset into four equal parts, or quarters, using three points called the first quartile (Q1), the second quartile (Q2), and the third quartile (Q3).\n",
    "\n",
    "- **First Quartile (Q1)**: This is the 25th percentile of the dataset, meaning 25% of the data points fall below this value. It divides the lowest 25% of data from the rest.\n",
    "- **Second Quartile (Q2)**: This is the 50th percentile, also known as the median. It divides the dataset into two equal halves, with 50% of the data falling below this value.\n",
    "- **Third Quartile (Q3)**: This is the 75th percentile, meaning 75% of the data points are below this value. It separates the highest 25% of data from the rest.\n",
    "\n",
    "### Importance of Percentiles and Quartiles\n",
    "\n",
    "Percentiles and quartiles are important tools in descriptive statistics for understanding the distribution and spread of data. They are particularly useful for identifying outliers, understanding variability, and comparing different datasets or groups within a dataset. They also help in summarizing large datasets with a few meaningful values, making it easier to communicate and visualize data distribution characteristics."
   ]
  },
  {
   "cell_type": "code",
   "execution_count": 20,
   "id": "a36c1ffa",
   "metadata": {},
   "outputs": [
    {
     "data": {
      "text/plain": [
       "58.0"
      ]
     },
     "execution_count": 20,
     "metadata": {},
     "output_type": "execute_result"
    }
   ],
   "source": [
    "# Computation of percentiles\n",
    "weights = [57, 50, 50, 69, 68, 73, 62, 74, 61, 75]\n",
    "np.percentile(weights, 25)"
   ]
  },
  {
   "cell_type": "code",
   "execution_count": 21,
   "id": "009f8520",
   "metadata": {},
   "outputs": [
    {
     "data": {
      "text/plain": [
       "(65.0, 65.0)"
      ]
     },
     "execution_count": 21,
     "metadata": {},
     "output_type": "execute_result"
    }
   ],
   "source": [
    "# 50 th percentile is same as median\n",
    "np.percentile(weights, 50),np.median(weights)"
   ]
  },
  {
   "cell_type": "code",
   "execution_count": 45,
   "id": "2de5fe90",
   "metadata": {},
   "outputs": [
    {
     "data": {
      "text/plain": [
       "(58.0, 72.0)"
      ]
     },
     "execution_count": 45,
     "metadata": {},
     "output_type": "execute_result"
    }
   ],
   "source": [
    "# 25th percentile is first quartile(Q1) and 75th percentile is third quartile(Q3)\n",
    "np.percentile(weights, 25), np.percentile(weights, 75)"
   ]
  },
  {
   "cell_type": "markdown",
   "id": "26f93ae5",
   "metadata": {},
   "source": [
    "### Visualizations\n",
    "#### 1. Bar  charts:\n",
    "A bar chart is a type of graph that represents categorical data with rectangular bars. Each bar's height or length is proportional to the values it represents, offering a visual comparison between different categories."
   ]
  },
  {
   "cell_type": "code",
   "execution_count": 26,
   "id": "487cac70",
   "metadata": {},
   "outputs": [
    {
     "data": {
      "image/png": "[encoded data removed]",
      "text/plain": [
       "<Figure size 500x300 with 1 Axes>"
      ]
     },
     "metadata": {},
     "output_type": "display_data"
    }
   ],
   "source": [
    "import matplotlib.pyplot as plt\n",
    "\n",
    "# Data for plotting\n",
    "categories = ['Category A', 'Category B', 'Category C', 'Category D']\n",
    "values = [23, 45, 56, 78]\n",
    "\n",
    "# Creating the bar chart\n",
    "plt.figure(figsize=(5,3))\n",
    "plt.bar(categories, values)\n",
    "\n",
    "# Adding title and labels\n",
    "plt.title('Bar Chart Example')\n",
    "plt.xlabel('Categories')\n",
    "plt.ylabel('Values')\n",
    "\n",
    "# Displaying the chart\n",
    "plt.show()"
   ]
  },
  {
   "cell_type": "markdown",
   "id": "de973598",
   "metadata": {},
   "source": [
    "### 2.Histogram\n",
    "A histogram is a type of graph that represents the distribution of numerical data by dividing the data into bins (intervals) and counting the number of observations in each bin. It's particularly useful for understanding the distribution, central tendency, and variability of the data, as well as the presence of any outliers. Histograms are similar to bar charts, but while bar charts represent categorical data, histograms are used for quantitative data."
   ]
  },
  {
   "cell_type": "code",
   "execution_count": 30,
   "id": "5c53081c",
   "metadata": {},
   "outputs": [
    {
     "name": "stdout",
     "output_type": "stream",
     "text": [
      "[ 0.64978683 -0.91214776 -0.13969821  0.07686072 -0.4606513   0.81610545\n",
      "  0.30275901  0.93682182 -0.0074953   1.47498579 -0.38077835  0.09263112\n",
      "  1.33716463  1.18673099  0.30702236  1.6613509   0.59459267 -0.274239\n",
      " -0.77364391 -0.56420843 -0.72640477  0.21040955  0.96410372  1.37810808\n",
      "  1.28526141 -0.82406551 -1.90914848  0.57025724  1.31213551 -1.9712401\n",
      "  1.12553493 -1.61883509 -1.56726198 -1.41730145 -0.58954298 -1.33246479\n",
      " -0.19157555  0.34652921  0.06195203  1.32141481 -1.54964139 -1.57573151\n",
      "  0.98081733 -1.25661688  1.50391098 -0.44362458  0.16020041 -0.81625976\n",
      " -1.05289022 -0.79036231  0.16511809 -1.91107156 -0.56039407  1.59149874\n",
      " -1.18043238 -2.08783128 -0.31881685  0.12291767  2.19921724 -0.34738322\n",
      " -0.36030671 -0.57257877  1.41130734 -0.44694169  0.43491197  0.73807924\n",
      "  0.28072604 -0.45272792  0.21065723 -0.18946264  1.13753123  0.18963075\n",
      " -1.22403043 -0.76999335 -0.76391536  0.12465251 -0.1158487   1.10919535\n",
      " -0.84116104  0.57808334 -1.89503527 -0.60983134  0.38662085 -0.24169825\n",
      "  0.54367039 -1.31679248 -1.50037148 -1.18748466  1.95291848  0.57482797\n",
      " -0.54487681  0.66821515 -0.88671678  0.81165465 -1.03665949  0.03320745\n",
      " -2.01104174  1.76801668  0.82035307  0.40485164]\n"
     ]
    },
    {
     "data": {
      "image/png": "[encoded data removed]",
      "text/plain": [
       "<Figure size 600x300 with 1 Axes>"
      ]
     },
     "metadata": {},
     "output_type": "display_data"
    }
   ],
   "source": [
    "import matplotlib.pyplot as plt\n",
    "import numpy as np\n",
    "\n",
    "# Generating some random data\n",
    "data = np.random.randn(100)  # 100 random numbers from a normal distribution\n",
    "print(data)\n",
    "# Creating the histogram\n",
    "plt.figure(figsize=(6,3))\n",
    "plt.hist(data, bins=20, edgecolor='black')  # 'bins' defines the number of intervals or bars\n",
    "# plt.hist(data, bins=20, edgecolor='black')\n",
    "# Adding title and labels\n",
    "plt.title('Histogram Example')\n",
    "plt.xlabel('Value')\n",
    "plt.ylabel('Frequency')\n",
    "\n",
    "# Displaying the histogram\n",
    "plt.show()\n"
   ]
  },
  {
   "cell_type": "code",
   "execution_count": 31,
   "id": "c34e5411",
   "metadata": {},
   "outputs": [
    {
     "data": {
      "image/png": "[encoded data removed]",
      "text/plain": [
       "<Figure size 600x300 with 1 Axes>"
      ]
     },
     "metadata": {},
     "output_type": "display_data"
    }
   ],
   "source": [
    "# Histogram with density on y-axis\n",
    "plt.figure(figsize=(6,3))\n",
    "plt.hist(data, bins=20, edgecolor='black', density = True)\n",
    "plt.title('Histogram Example')\n",
    "plt.xlabel('Value')\n",
    "plt.ylabel('Density')\n",
    "plt.show()"
   ]
  },
  {
   "cell_type": "code",
   "execution_count": 32,
   "id": "9af5e70e",
   "metadata": {},
   "outputs": [
    {
     "data": {
      "text/html": [
       "<div>\n",
       "<style scoped>\n",
       "    .dataframe tbody tr th:only-of-type {\n",
       "        vertical-align: middle;\n",
       "    }\n",
       "\n",
       "    .dataframe tbody tr th {\n",
       "        vertical-align: top;\n",
       "    }\n",
       "\n",
       "    .dataframe thead th {\n",
       "        text-align: right;\n",
       "    }\n",
       "</style>\n",
       "<table border=\"1\" class=\"dataframe\">\n",
       "  <thead>\n",
       "    <tr style=\"text-align: right;\">\n",
       "      <th></th>\n",
       "      <th>rank</th>\n",
       "      <th>discipline</th>\n",
       "      <th>phd</th>\n",
       "      <th>service</th>\n",
       "      <th>sex</th>\n",
       "      <th>salary</th>\n",
       "    </tr>\n",
       "  </thead>\n",
       "  <tbody>\n",
       "    <tr>\n",
       "      <th>0</th>\n",
       "      <td>Prof</td>\n",
       "      <td>B</td>\n",
       "      <td>56</td>\n",
       "      <td>49</td>\n",
       "      <td>Male</td>\n",
       "      <td>186960</td>\n",
       "    </tr>\n",
       "    <tr>\n",
       "      <th>1</th>\n",
       "      <td>Prof</td>\n",
       "      <td>A</td>\n",
       "      <td>12</td>\n",
       "      <td>6</td>\n",
       "      <td>Male</td>\n",
       "      <td>93000</td>\n",
       "    </tr>\n",
       "    <tr>\n",
       "      <th>2</th>\n",
       "      <td>Prof</td>\n",
       "      <td>A</td>\n",
       "      <td>23</td>\n",
       "      <td>20</td>\n",
       "      <td>Male</td>\n",
       "      <td>110515</td>\n",
       "    </tr>\n",
       "    <tr>\n",
       "      <th>3</th>\n",
       "      <td>Prof</td>\n",
       "      <td>A</td>\n",
       "      <td>40</td>\n",
       "      <td>31</td>\n",
       "      <td>Male</td>\n",
       "      <td>131205</td>\n",
       "    </tr>\n",
       "    <tr>\n",
       "      <th>4</th>\n",
       "      <td>Prof</td>\n",
       "      <td>B</td>\n",
       "      <td>20</td>\n",
       "      <td>18</td>\n",
       "      <td>Male</td>\n",
       "      <td>104800</td>\n",
       "    </tr>\n",
       "    <tr>\n",
       "      <th>...</th>\n",
       "      <td>...</td>\n",
       "      <td>...</td>\n",
       "      <td>...</td>\n",
       "      <td>...</td>\n",
       "      <td>...</td>\n",
       "      <td>...</td>\n",
       "    </tr>\n",
       "    <tr>\n",
       "      <th>73</th>\n",
       "      <td>Prof</td>\n",
       "      <td>B</td>\n",
       "      <td>18</td>\n",
       "      <td>10</td>\n",
       "      <td>Female</td>\n",
       "      <td>105450</td>\n",
       "    </tr>\n",
       "    <tr>\n",
       "      <th>74</th>\n",
       "      <td>AssocProf</td>\n",
       "      <td>B</td>\n",
       "      <td>19</td>\n",
       "      <td>6</td>\n",
       "      <td>Female</td>\n",
       "      <td>104542</td>\n",
       "    </tr>\n",
       "    <tr>\n",
       "      <th>75</th>\n",
       "      <td>Prof</td>\n",
       "      <td>B</td>\n",
       "      <td>17</td>\n",
       "      <td>17</td>\n",
       "      <td>Female</td>\n",
       "      <td>124312</td>\n",
       "    </tr>\n",
       "    <tr>\n",
       "      <th>76</th>\n",
       "      <td>Prof</td>\n",
       "      <td>A</td>\n",
       "      <td>28</td>\n",
       "      <td>14</td>\n",
       "      <td>Female</td>\n",
       "      <td>109954</td>\n",
       "    </tr>\n",
       "    <tr>\n",
       "      <th>77</th>\n",
       "      <td>Prof</td>\n",
       "      <td>A</td>\n",
       "      <td>23</td>\n",
       "      <td>15</td>\n",
       "      <td>Female</td>\n",
       "      <td>109646</td>\n",
       "    </tr>\n",
       "  </tbody>\n",
       "</table>\n",
       "<p>78 rows × 6 columns</p>\n",
       "</div>"
      ],
      "text/plain": [
       "         rank discipline  phd  service     sex  salary\n",
       "0        Prof          B   56       49    Male  186960\n",
       "1        Prof          A   12        6    Male   93000\n",
       "2        Prof          A   23       20    Male  110515\n",
       "3        Prof          A   40       31    Male  131205\n",
       "4        Prof          B   20       18    Male  104800\n",
       "..        ...        ...  ...      ...     ...     ...\n",
       "73       Prof          B   18       10  Female  105450\n",
       "74  AssocProf          B   19        6  Female  104542\n",
       "75       Prof          B   17       17  Female  124312\n",
       "76       Prof          A   28       14  Female  109954\n",
       "77       Prof          A   23       15  Female  109646\n",
       "\n",
       "[78 rows x 6 columns]"
      ]
     },
     "execution_count": 32,
     "metadata": {},
     "output_type": "execute_result"
    }
   ],
   "source": [
    "df"
   ]
  },
  {
   "cell_type": "code",
   "execution_count": 38,
   "id": "af441553",
   "metadata": {},
   "outputs": [
    {
     "data": {
      "text/plain": [
       "(array([2.97782119e-06, 1.48891059e-05, 1.19112848e-05, 1.38964989e-05,\n",
       "        8.93346356e-06, 1.09186777e-05, 3.97042825e-06, 7.94085650e-06,\n",
       "        9.92607063e-07, 9.92607063e-07]),\n",
       " array([ 57800.,  70716.,  83632.,  96548., 109464., 122380., 135296.,\n",
       "        148212., 161128., 174044., 186960.]),\n",
       " <BarContainer object of 10 artists>)"
      ]
     },
     "execution_count": 38,
     "metadata": {},
     "output_type": "execute_result"
    },
    {
     "data": {
      "image/png": "[encoded data removed]",
      "text/plain": [
       "<Figure size 640x480 with 1 Axes>"
      ]
     },
     "metadata": {},
     "output_type": "display_data"
    }
   ],
   "source": [
    "plt.hist(df[\"salary\"], density = True)"
   ]
  },
  {
   "cell_type": "code",
   "execution_count": 43,
   "id": "2b4d022b",
   "metadata": {},
   "outputs": [
    {
     "data": {
      "text/plain": [
       "<seaborn.axisgrid.FacetGrid at 0x27a917f8ed0>"
      ]
     },
     "execution_count": 43,
     "metadata": {},
     "output_type": "execute_result"
    },
    {
     "data": {
      "image/png": "[encoded data removed]",
      "text/plain": [
       "<Figure size 500x500 with 1 Axes>"
      ]
     },
     "metadata": {},
     "output_type": "display_data"
    }
   ],
   "source": [
    "import seaborn as sns\n",
    "sns.displot(df[\"salary\"], kde =True)"
   ]
  },
  {
   "cell_type": "code",
   "execution_count": 44,
   "id": "32b601d1",
   "metadata": {},
   "outputs": [
    {
     "data": {
      "text/plain": [
       "<Axes: xlabel='salary', ylabel='Count'>"
      ]
     },
     "execution_count": 44,
     "metadata": {},
     "output_type": "execute_result"
    },
    {
     "data": {
      "image/png": "[encoded data removed]",
      "text/plain": [
       "<Figure size 640x480 with 1 Axes>"
      ]
     },
     "metadata": {},
     "output_type": "display_data"
    }
   ],
   "source": [
    "sns.histplot(df[\"salary\"])"
   ]
  },
  {
   "cell_type": "markdown",
   "id": "88589512",
   "metadata": {},
   "source": [
    "### Box plot\n",
    "A boxplot, also known as a box-and-whisker plot, is a standardized way of displaying the distribution of data based on a five-number summary: minimum, first quartile (Q1), median (second quartile, Q2), third quartile (Q3), and maximum. It can also include \"whiskers\" that extend to show the range of the data (often 1.5 times the interquartile range from Q1 and Q3), and it may display outliers as individual points that fall outside the whiskers."
   ]
  },
  {
   "cell_type": "code",
   "execution_count": 45,
   "id": "e2e076d6",
   "metadata": {
    "scrolled": true
   },
   "outputs": [
    {
     "name": "stdout",
     "output_type": "stream",
     "text": [
      "4.5\n"
     ]
    },
    {
     "data": {
      "text/plain": [
       "{'whiskers': [<matplotlib.lines.Line2D at 0x27a922dd610>,\n",
       "  <matplotlib.lines.Line2D at 0x27a922ddf50>],\n",
       " 'caps': [<matplotlib.lines.Line2D at 0x27a922de550>,\n",
       "  <matplotlib.lines.Line2D at 0x27a922dee90>],\n",
       " 'boxes': [<matplotlib.lines.Line2D at 0x27a922dcd50>],\n",
       " 'medians': [<matplotlib.lines.Line2D at 0x27a922df650>],\n",
       " 'fliers': [<matplotlib.lines.Line2D at 0x27a91933a50>],\n",
       " 'means': []}"
      ]
     },
     "execution_count": 45,
     "metadata": {},
     "output_type": "execute_result"
    },
    {
     "data": {
      "image/png": "[encoded data removed]",
      "text/plain": [
       "<Figure size 640x480 with 1 Axes>"
      ]
     },
     "metadata": {},
     "output_type": "display_data"
    }
   ],
   "source": [
    "L = [2,3,6,10,15,20,25]\n",
    "print(np.percentile(L,25))\n",
    "plt.boxplot(L, vert = False)"
   ]
  },
  {
   "cell_type": "code",
   "execution_count": 46,
   "id": "48aa6eb7",
   "metadata": {},
   "outputs": [
    {
     "data": {
      "text/plain": [
       "(4.5, 10.0, 17.5)"
      ]
     },
     "execution_count": 46,
     "metadata": {},
     "output_type": "execute_result"
    }
   ],
   "source": [
    "np.percentile(L,25),np.percentile(L,50),np.percentile(L,75)"
   ]
  },
  {
   "cell_type": "code",
   "execution_count": 18,
   "id": "9b44b213",
   "metadata": {},
   "outputs": [
    {
     "name": "stdout",
     "output_type": "stream",
     "text": [
      "[69.46307904 88.75821748 61.33349129 55.29714793 11.34586624 76.5883621\n",
      " 15.46031246 94.38949205 53.66879368 84.8524797  54.06809324 46.88510411\n",
      " 80.94765543 41.7218978  60.69762381 66.23959561 45.37014868  0.11859976\n",
      " 41.7868771  38.98062092 39.13651588 85.11696993 44.73484984 60.85622219\n",
      " 29.99416697 29.73900483 56.05261489 56.1055214  41.57550371 21.39175661\n",
      " 73.76274953 89.16755606 65.00720631  9.02138704  2.57754858 62.09834074\n",
      " 23.01727293 30.27028062 56.30116091 27.87542782 85.89413402 25.25163763\n",
      " 95.27931131 19.46265889 15.21723628 97.82711489 74.71271706 16.91397852\n",
      " 89.37670517 79.87861307 43.11202082 87.34805334 29.29394331 95.81104834\n",
      " 34.84482763 35.10931093 21.51980063 50.61688146 54.25352059 56.04029526\n",
      " 25.13474295 91.01632675 39.06603663 29.64958301 29.96377928 93.1457085\n",
      " 51.56021069  2.98241732 33.05844928 23.68613853 98.62825353 81.42899907\n",
      " 23.3536899  52.27848246 31.38290501  8.43964413 14.93549589 65.41566849\n",
      " 16.10433355 55.85796775 95.43928587 78.30610314 29.3632528  55.57286313\n",
      "  5.39535219 98.32754776 47.32425632 65.67779846 86.39188595 35.70157524\n",
      " 36.41244762 54.6742363  58.94890775 26.92103102 52.24644194 30.81610517\n",
      " 97.64326703 14.11505456 76.02544069 78.25981599]\n"
     ]
    },
    {
     "data": {
      "image/png": "[encoded data removed]",
      "text/plain": [
       "<Figure size 640x480 with 1 Axes>"
      ]
     },
     "metadata": {},
     "output_type": "display_data"
    }
   ],
   "source": [
    "import matplotlib.pyplot as plt\n",
    "import numpy as np\n",
    "\n",
    "# Generating some random data\n",
    "data = np.random.rand(100) * 100\n",
    "print(data)\n",
    "# Creating a boxplot\n",
    "plt.boxplot(data)\n",
    "\n",
    "# Adding title and labels\n",
    "plt.title('Boxplot Example')\n",
    "plt.ylabel('Values')\n",
    "\n",
    "# Displaying the plot\n",
    "plt.show()"
   ]
  },
  {
   "cell_type": "code",
   "execution_count": 37,
   "id": "edae9546",
   "metadata": {},
   "outputs": [
    {
     "data": {
      "text/plain": [
       "1.6025641025641026e-05"
      ]
     },
     "execution_count": 37,
     "metadata": {},
     "output_type": "execute_result"
    }
   ],
   "source": [
    "(15/12000)/78"
   ]
  },
  {
   "cell_type": "code",
   "execution_count": 48,
   "id": "6309a7c4",
   "metadata": {},
   "outputs": [
    {
     "data": {
      "text/plain": [
       "<seaborn.axisgrid.FacetGrid at 0x27a92270d50>"
      ]
     },
     "execution_count": 48,
     "metadata": {},
     "output_type": "execute_result"
    },
    {
     "data": {
      "image/png": "[encoded data removed]",
      "text/plain": [
       "<Figure size 500x500 with 1 Axes>"
      ]
     },
     "metadata": {},
     "output_type": "display_data"
    }
   ],
   "source": [
    "L2 = [100,50,75,150,125,175,200,186,220,95,157,2000,1800,1300,300,400,700]\n",
    "sns.displot(L2, kde =True)"
   ]
  },
  {
   "cell_type": "code",
   "execution_count": 50,
   "id": "19d5a8a4",
   "metadata": {},
   "outputs": [
    {
     "data": {
      "text/plain": [
       "{'whiskers': [<matplotlib.lines.Line2D at 0x27a934e2e90>,\n",
       "  <matplotlib.lines.Line2D at 0x27a934e3ad0>],\n",
       " 'caps': [<matplotlib.lines.Line2D at 0x27a934f0590>,\n",
       "  <matplotlib.lines.Line2D at 0x27a934f1050>],\n",
       " 'boxes': [<matplotlib.lines.Line2D at 0x27a934e2250>],\n",
       " 'medians': [<matplotlib.lines.Line2D at 0x27a934f1c50>],\n",
       " 'fliers': [<matplotlib.lines.Line2D at 0x27a934b94d0>],\n",
       " 'means': []}"
      ]
     },
     "execution_count": 50,
     "metadata": {},
     "output_type": "execute_result"
    },
    {
     "data": {
      "image/png": "[encoded data removed]",
      "text/plain": [
       "<Figure size 640x480 with 1 Axes>"
      ]
     },
     "metadata": {},
     "output_type": "display_data"
    }
   ],
   "source": [
    "plt.boxplot(L2, vert = False)"
   ]
  },
  {
   "cell_type": "code",
   "execution_count": null,
   "id": "dada84f4",
   "metadata": {},
   "outputs": [],
   "source": []
  }
 ],
 "metadata": {
  "kernelspec": {
   "display_name": "Python 3 (ipykernel)",
   "language": "python",
   "name": "python3"
  },
  "language_info": {
   "codemirror_mode": {
    "name": "ipython",
    "version": 3
   },
   "file_extension": ".py",
   "mimetype": "text/x-python",
   "name": "python",
   "nbconvert_exporter": "python",
   "pygments_lexer": "ipython3",
   "version": "3.11.3"
  }
 },
 "nbformat": 4,
 "nbformat_minor": 5
}
