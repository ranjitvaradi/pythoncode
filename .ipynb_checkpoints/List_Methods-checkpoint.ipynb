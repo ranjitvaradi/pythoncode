{
 "cells": [
  {
   "cell_type": "code",
   "execution_count": 2,
   "id": "078dd843",
   "metadata": {},
   "outputs": [
    {
     "data": {
      "text/plain": [
       "[3, 5, True, 'Hello', 9.8, (3+5j)]"
      ]
     },
     "execution_count": 2,
     "metadata": {},
     "output_type": "execute_result"
    }
   ],
   "source": [
    "# define a a list\n",
    "L1 = [3,5,True,'Hello',9.8,3+5j]\n",
    "L1"
   ]
  },
  {
   "cell_type": "code",
   "execution_count": null,
   "id": "04caaea3-5b50-4c80-9b53-a518b2d74e7f",
   "metadata": {},
   "outputs": [],
   "source": []
  },
  {
   "cell_type": "code",
   "execution_count": 3,
   "id": "3db96c47",
   "metadata": {},
   "outputs": [
    {
     "data": {
      "text/plain": [
       "list"
      ]
     },
     "execution_count": 3,
     "metadata": {},
     "output_type": "execute_result"
    }
   ],
   "source": [
    "type(L1)"
   ]
  },
  {
   "cell_type": "code",
   "execution_count": null,
   "id": "b1c6c20d",
   "metadata": {},
   "outputs": [],
   "source": [
    "L1[3] = 45\n",
    "L1"
   ]
  },
  {
   "cell_type": "code",
   "execution_count": 6,
   "id": "9f8cc7e8",
   "metadata": {},
   "outputs": [
    {
     "data": {
      "text/plain": [
       "54.8"
      ]
     },
     "execution_count": 6,
     "metadata": {},
     "output_type": "execute_result"
    }
   ],
   "source": [
    "L1[3] + L1[4]"
   ]
  },
  {
   "cell_type": "code",
   "execution_count": 9,
   "id": "c11f4b66",
   "metadata": {},
   "outputs": [
    {
     "data": {
      "text/plain": [
       "[3, 5, True, 45, 9.8, (3+5j)]"
      ]
     },
     "execution_count": 9,
     "metadata": {},
     "output_type": "execute_result"
    }
   ],
   "source": [
    "L1"
   ]
  },
  {
   "cell_type": "code",
   "execution_count": 11,
   "id": "57a8235e",
   "metadata": {},
   "outputs": [
    {
     "data": {
      "text/plain": [
       "([3, 5, True, 45], [3, 5, True, 45])"
      ]
     },
     "execution_count": 11,
     "metadata": {},
     "output_type": "execute_result"
    }
   ],
   "source": [
    "L1[0:4], L1[-6:-2]"
   ]
  },
  {
   "cell_type": "code",
   "execution_count": 2,
   "id": "38991153",
   "metadata": {},
   "outputs": [
    {
     "data": {
      "text/plain": [
       "(3, 'Hello')"
      ]
     },
     "execution_count": 2,
     "metadata": {},
     "output_type": "execute_result"
    }
   ],
   "source": [
    "# Access the elements using index\n",
    "L1[0],L1[3]"
   ]
  },
  {
   "cell_type": "code",
   "execution_count": 3,
   "id": "e246f099",
   "metadata": {},
   "outputs": [
    {
     "data": {
      "text/plain": [
       "[3, 5, True, 'Hello', 100, (3+5j)]"
      ]
     },
     "execution_count": 3,
     "metadata": {},
     "output_type": "execute_result"
    }
   ],
   "source": [
    "# Modify element value in the list\n",
    "L1[4] = 100\n",
    "L1"
   ]
  },
  {
   "cell_type": "code",
   "execution_count": 4,
   "id": "02b5ea6e",
   "metadata": {},
   "outputs": [
    {
     "data": {
      "text/plain": [
       "((3+5j), True, 3)"
      ]
     },
     "execution_count": 4,
     "metadata": {},
     "output_type": "execute_result"
    }
   ],
   "source": [
    "# using negative indexing\n",
    "L1[-1], L1[-4],L1[-6]"
   ]
  },
  {
   "cell_type": "code",
   "execution_count": 5,
   "id": "fb6ca956",
   "metadata": {},
   "outputs": [
    {
     "data": {
      "text/plain": [
       "[3, 5, True, 'Hello', 100, 10]"
      ]
     },
     "execution_count": 5,
     "metadata": {},
     "output_type": "execute_result"
    }
   ],
   "source": [
    "L1[-1] = 10\n",
    "L1"
   ]
  },
  {
   "cell_type": "code",
   "execution_count": 6,
   "id": "f7d24761",
   "metadata": {},
   "outputs": [
    {
     "data": {
      "text/plain": [
       "[3, 5, True, 'Hello', 100, 10, 20]"
      ]
     },
     "execution_count": 6,
     "metadata": {},
     "output_type": "execute_result"
    }
   ],
   "source": [
    "# adding an element at the end of the list using append()\n",
    "L1 = [3, 5, True, 'Hello', 100, 10]\n",
    "L1.append(20)\n",
    "L1"
   ]
  },
  {
   "cell_type": "code",
   "execution_count": 7,
   "id": "9d244c0f",
   "metadata": {},
   "outputs": [
    {
     "data": {
      "text/plain": [
       "['__add__',\n",
       " '__class__',\n",
       " '__class_getitem__',\n",
       " '__contains__',\n",
       " '__delattr__',\n",
       " '__delitem__',\n",
       " '__dir__',\n",
       " '__doc__',\n",
       " '__eq__',\n",
       " '__format__',\n",
       " '__ge__',\n",
       " '__getattribute__',\n",
       " '__getitem__',\n",
       " '__getstate__',\n",
       " '__gt__',\n",
       " '__hash__',\n",
       " '__iadd__',\n",
       " '__imul__',\n",
       " '__init__',\n",
       " '__init_subclass__',\n",
       " '__iter__',\n",
       " '__le__',\n",
       " '__len__',\n",
       " '__lt__',\n",
       " '__mul__',\n",
       " '__ne__',\n",
       " '__new__',\n",
       " '__reduce__',\n",
       " '__reduce_ex__',\n",
       " '__repr__',\n",
       " '__reversed__',\n",
       " '__rmul__',\n",
       " '__setattr__',\n",
       " '__setitem__',\n",
       " '__sizeof__',\n",
       " '__str__',\n",
       " '__subclasshook__',\n",
       " 'append',\n",
       " 'clear',\n",
       " 'copy',\n",
       " 'count',\n",
       " 'extend',\n",
       " 'index',\n",
       " 'insert',\n",
       " 'pop',\n",
       " 'remove',\n",
       " 'reverse',\n",
       " 'sort']"
      ]
     },
     "execution_count": 7,
     "metadata": {},
     "output_type": "execute_result"
    }
   ],
   "source": [
    "dir(list)"
   ]
  },
  {
   "cell_type": "code",
   "execution_count": 8,
   "id": "f69243b7",
   "metadata": {},
   "outputs": [
    {
     "data": {
      "text/plain": [
       "[3, 5, True, 'Hello', 100, 10, 20]"
      ]
     },
     "execution_count": 8,
     "metadata": {},
     "output_type": "execute_result"
    }
   ],
   "source": [
    "L1"
   ]
  },
  {
   "cell_type": "code",
   "execution_count": 9,
   "id": "ed1657a7",
   "metadata": {},
   "outputs": [
    {
     "data": {
      "text/plain": [
       "[]"
      ]
     },
     "execution_count": 9,
     "metadata": {},
     "output_type": "execute_result"
    }
   ],
   "source": [
    "# Apply clear()\n",
    "L1.clear()\n",
    "L1"
   ]
  },
  {
   "cell_type": "code",
   "execution_count": 3,
   "id": "843359e6-0ebb-479e-8d29-53f7f5246ffd",
   "metadata": {},
   "outputs": [
    {
     "name": "stdout",
     "output_type": "stream",
     "text": [
      "5\n"
     ]
    }
   ],
   "source": [
    "print(2+3)"
   ]
  },
  {
   "cell_type": "code",
   "execution_count": 4,
   "id": "5078e6b4",
   "metadata": {},
   "outputs": [
    {
     "data": {
      "text/plain": [
       "2"
      ]
     },
     "execution_count": 4,
     "metadata": {},
     "output_type": "execute_result"
    }
   ],
   "source": [
    "L2 = [30,10,40,\"Hello\",30,40,False]\n",
    "L2.count(30)"
   ]
  },
  {
   "cell_type": "code",
   "execution_count": 11,
   "id": "ffd74592",
   "metadata": {},
   "outputs": [
    {
     "data": {
      "text/plain": [
       "[30, 10, 40, 'Hello', False]"
      ]
     },
     "execution_count": 11,
     "metadata": {},
     "output_type": "execute_result"
    }
   ],
   "source": [
    "L3 = L2\n",
    "L3"
   ]
  },
  {
   "cell_type": "code",
   "execution_count": null,
   "id": "c3cb3aa6-20ef-46d6-8a33-3a2f3d9c8c6c",
   "metadata": {},
   "outputs": [],
   "source": []
  },
  {
   "cell_type": "code",
   "execution_count": 12,
   "id": "61fdfe68",
   "metadata": {},
   "outputs": [
    {
     "data": {
      "text/plain": [
       "[]"
      ]
     },
     "execution_count": 12,
     "metadata": {},
     "output_type": "execute_result"
    }
   ],
   "source": [
    "L2.clear()\n",
    "L3"
   ]
  },
  {
   "cell_type": "code",
   "execution_count": 13,
   "id": "c16cc6b0",
   "metadata": {},
   "outputs": [
    {
     "data": {
      "text/plain": [
       "[10, 80, 10, 70, 10, 70, 100, 100, 100]"
      ]
     },
     "execution_count": 13,
     "metadata": {},
     "output_type": "execute_result"
    }
   ],
   "source": [
    "L4 = [10,80,10,70,10,70,100,100,100]\n",
    "L4"
   ]
  },
  {
   "cell_type": "code",
   "execution_count": 14,
   "id": "b01c8c82",
   "metadata": {},
   "outputs": [
    {
     "data": {
      "text/plain": [
       "3"
      ]
     },
     "execution_count": 14,
     "metadata": {},
     "output_type": "execute_result"
    }
   ],
   "source": [
    "L4.count(100)"
   ]
  },
  {
   "cell_type": "code",
   "execution_count": 15,
   "id": "0aa819dd",
   "metadata": {},
   "outputs": [
    {
     "data": {
      "text/plain": [
       "[10, 80, 10, 70, 10, 70, 100, 100, 100, 'a', 100, True]"
      ]
     },
     "execution_count": 15,
     "metadata": {},
     "output_type": "execute_result"
    }
   ],
   "source": [
    "# Extend the list L4 with more elements\n",
    "L4.extend(['a',100,True])\n",
    "L4"
   ]
  },
  {
   "cell_type": "code",
   "execution_count": 8,
   "id": "224d372b-fbcd-4225-9050-8d8f51f86733",
   "metadata": {},
   "outputs": [
    {
     "data": {
      "text/plain": [
       "[123, 456]"
      ]
     },
     "execution_count": 8,
     "metadata": {},
     "output_type": "execute_result"
    }
   ],
   "source": [
    "L1=[1,2,3]\n",
    "L2=[4,5,6]\n",
    "L1+L2\n",
    "\n"
   ]
  },
  {
   "cell_type": "code",
   "execution_count": 16,
   "id": "6f51ff08",
   "metadata": {},
   "outputs": [
    {
     "data": {
      "text/plain": [
       "11"
      ]
     },
     "execution_count": 16,
     "metadata": {},
     "output_type": "execute_result"
    }
   ],
   "source": [
    "# Use index method to know the index of an element\n",
    "L4.index(True)"
   ]
  },
  {
   "cell_type": "code",
   "execution_count": 17,
   "id": "aa692c31",
   "metadata": {},
   "outputs": [
    {
     "data": {
      "text/plain": [
       "100"
      ]
     },
     "execution_count": 17,
     "metadata": {},
     "output_type": "execute_result"
    }
   ],
   "source": [
    "L4[10]"
   ]
  },
  {
   "cell_type": "code",
   "execution_count": 18,
   "id": "de6148c2",
   "metadata": {},
   "outputs": [
    {
     "data": {
      "text/plain": [
       "[10, 80, 10, 70, 10, 70, 100, 100, 100, 'a', 100, True]"
      ]
     },
     "execution_count": 18,
     "metadata": {},
     "output_type": "execute_result"
    }
   ],
   "source": [
    "L4"
   ]
  },
  {
   "cell_type": "code",
   "execution_count": 19,
   "id": "1a6ca276",
   "metadata": {},
   "outputs": [
    {
     "data": {
      "text/plain": [
       "[10, 80, 'Good', 10, 70, 10, 70, 100, 100, 100, 'a', 100, True]"
      ]
     },
     "execution_count": 19,
     "metadata": {},
     "output_type": "execute_result"
    }
   ],
   "source": [
    "# Use insert() method to insert an element at the desired index value\n",
    "L4.insert(2,\"Good\")\n",
    "L4"
   ]
  },
  {
   "cell_type": "code",
   "execution_count": 21,
   "id": "0d5bbfbb",
   "metadata": {},
   "outputs": [],
   "source": [
    "# Use of extend() to add many no of elements at a time\n",
    "L5 = [23.8,\"Good\",100,3+9j]\n",
    "L5.extend([45,200.8,\"Hello\"])"
   ]
  },
  {
   "cell_type": "code",
   "execution_count": 22,
   "id": "8f069338",
   "metadata": {},
   "outputs": [
    {
     "data": {
      "text/plain": [
       "[23.8, 'Good', 100, (3+9j), 45, 200.8, 'Hello']"
      ]
     },
     "execution_count": 22,
     "metadata": {},
     "output_type": "execute_result"
    }
   ],
   "source": [
    "L5"
   ]
  },
  {
   "cell_type": "code",
   "execution_count": 23,
   "id": "5f29fd7f",
   "metadata": {},
   "outputs": [],
   "source": [
    "L5.insert(2,50)"
   ]
  },
  {
   "cell_type": "code",
   "execution_count": 24,
   "id": "309c3211",
   "metadata": {},
   "outputs": [
    {
     "data": {
      "text/plain": [
       "[23.8, 'Good', 50, 100, (3+9j), 45, 200.8, 'Hello']"
      ]
     },
     "execution_count": 24,
     "metadata": {},
     "output_type": "execute_result"
    }
   ],
   "source": [
    "L5"
   ]
  },
  {
   "cell_type": "code",
   "execution_count": 25,
   "id": "7194e818",
   "metadata": {},
   "outputs": [
    {
     "data": {
      "text/plain": [
       "'Hello'"
      ]
     },
     "execution_count": 25,
     "metadata": {},
     "output_type": "execute_result"
    }
   ],
   "source": [
    "L5.pop()"
   ]
  },
  {
   "cell_type": "code",
   "execution_count": 26,
   "id": "8b98330c",
   "metadata": {},
   "outputs": [
    {
     "data": {
      "text/plain": [
       "[23.8, 'Good', 50, 100, (3+9j), 45, 200.8]"
      ]
     },
     "execution_count": 26,
     "metadata": {},
     "output_type": "execute_result"
    }
   ],
   "source": [
    "L5"
   ]
  },
  {
   "cell_type": "code",
   "execution_count": 27,
   "id": "4f2deb0a",
   "metadata": {},
   "outputs": [
    {
     "data": {
      "text/plain": [
       "200.8"
      ]
     },
     "execution_count": 27,
     "metadata": {},
     "output_type": "execute_result"
    }
   ],
   "source": [
    "L5.pop()"
   ]
  },
  {
   "cell_type": "code",
   "execution_count": 28,
   "id": "fb32e964",
   "metadata": {},
   "outputs": [
    {
     "data": {
      "text/plain": [
       "[23.8, 'Good', 50, 100, (3+9j), 45]"
      ]
     },
     "execution_count": 28,
     "metadata": {},
     "output_type": "execute_result"
    }
   ],
   "source": [
    "L5"
   ]
  },
  {
   "cell_type": "code",
   "execution_count": 29,
   "id": "49f03bad",
   "metadata": {},
   "outputs": [
    {
     "data": {
      "text/plain": [
       "100"
      ]
     },
     "execution_count": 29,
     "metadata": {},
     "output_type": "execute_result"
    }
   ],
   "source": [
    "L5.pop(-3)"
   ]
  },
  {
   "cell_type": "code",
   "execution_count": 33,
   "id": "e00693c9",
   "metadata": {},
   "outputs": [
    {
     "data": {
      "text/plain": [
       "'Good'"
      ]
     },
     "execution_count": 33,
     "metadata": {},
     "output_type": "execute_result"
    }
   ],
   "source": [
    "L6 = L5.copy()\n",
    "L6.pop(1)"
   ]
  },
  {
   "cell_type": "code",
   "execution_count": 34,
   "id": "344d6c57",
   "metadata": {},
   "outputs": [
    {
     "data": {
      "text/plain": [
       "[23.8, 'Good', 50, (3+9j), 45]"
      ]
     },
     "execution_count": 34,
     "metadata": {},
     "output_type": "execute_result"
    }
   ],
   "source": [
    "L5"
   ]
  },
  {
   "cell_type": "code",
   "execution_count": 35,
   "id": "50d3adb3",
   "metadata": {},
   "outputs": [
    {
     "data": {
      "text/plain": [
       "[23.8, 50, (3+9j), 45]"
      ]
     },
     "execution_count": 35,
     "metadata": {},
     "output_type": "execute_result"
    }
   ],
   "source": [
    "L6"
   ]
  },
  {
   "cell_type": "code",
   "execution_count": 36,
   "id": "eeac16db",
   "metadata": {},
   "outputs": [
    {
     "data": {
      "text/plain": [
       "[23.8, 50, 45]"
      ]
     },
     "execution_count": 36,
     "metadata": {},
     "output_type": "execute_result"
    }
   ],
   "source": [
    "L7 = L6.pop(2)\n",
    "L6"
   ]
  },
  {
   "cell_type": "code",
   "execution_count": 37,
   "id": "3d61ddcf",
   "metadata": {},
   "outputs": [
    {
     "data": {
      "text/plain": [
       "(3+9j)"
      ]
     },
     "execution_count": 37,
     "metadata": {},
     "output_type": "execute_result"
    }
   ],
   "source": [
    "L7"
   ]
  },
  {
   "cell_type": "code",
   "execution_count": 38,
   "id": "c9c4be84",
   "metadata": {},
   "outputs": [
    {
     "data": {
      "text/plain": [
       "[3, 9, 6, 90, 12, 45, -78, -100, 365]"
      ]
     },
     "execution_count": 38,
     "metadata": {},
     "output_type": "execute_result"
    }
   ],
   "source": [
    "# Use of remove method()\n",
    "L8 = [3,9,6,90,12,45,-78,-100,365]\n",
    "L8"
   ]
  },
  {
   "cell_type": "code",
   "execution_count": 39,
   "id": "65313c69",
   "metadata": {},
   "outputs": [],
   "source": [
    "L8.remove(90)"
   ]
  },
  {
   "cell_type": "code",
   "execution_count": 40,
   "id": "2281be64",
   "metadata": {},
   "outputs": [
    {
     "data": {
      "text/plain": [
       "[3, 9, 6, 12, 45, -78, -100, 365]"
      ]
     },
     "execution_count": 40,
     "metadata": {},
     "output_type": "execute_result"
    }
   ],
   "source": [
    "L8"
   ]
  },
  {
   "cell_type": "code",
   "execution_count": 43,
   "id": "ddbb8797",
   "metadata": {},
   "outputs": [
    {
     "data": {
      "text/plain": [
       "[3, 9, 6, 12, 45, -78, -100, 365, 12, -78, 6]"
      ]
     },
     "execution_count": 43,
     "metadata": {},
     "output_type": "execute_result"
    }
   ],
   "source": [
    "L8.extend([12,-78,6])\n",
    "L8"
   ]
  },
  {
   "cell_type": "code",
   "execution_count": 44,
   "id": "ecb5ba95",
   "metadata": {},
   "outputs": [],
   "source": [
    "L8.remove(12)"
   ]
  },
  {
   "cell_type": "code",
   "execution_count": 45,
   "id": "d789aff1",
   "metadata": {},
   "outputs": [
    {
     "data": {
      "text/plain": [
       "[3, 9, 6, 45, -78, -100, 365, 12, -78, 6]"
      ]
     },
     "execution_count": 45,
     "metadata": {},
     "output_type": "execute_result"
    }
   ],
   "source": [
    "L8"
   ]
  },
  {
   "cell_type": "code",
   "execution_count": 47,
   "id": "ce16df29",
   "metadata": {},
   "outputs": [],
   "source": [
    "L8.remove(-78)"
   ]
  },
  {
   "cell_type": "code",
   "execution_count": 48,
   "id": "f9e96bed",
   "metadata": {},
   "outputs": [
    {
     "data": {
      "text/plain": [
       "[3, 9, 6, 45, -100, 365, 12, -78, 6]"
      ]
     },
     "execution_count": 48,
     "metadata": {},
     "output_type": "execute_result"
    }
   ],
   "source": [
    "L8"
   ]
  },
  {
   "cell_type": "code",
   "execution_count": 49,
   "id": "f5806f73",
   "metadata": {},
   "outputs": [
    {
     "data": {
      "text/plain": [
       "[3, 9, 6, 45, -100, 365, 12, -78, 6]"
      ]
     },
     "execution_count": 49,
     "metadata": {},
     "output_type": "execute_result"
    }
   ],
   "source": [
    "L8"
   ]
  },
  {
   "cell_type": "code",
   "execution_count": 50,
   "id": "ec6c2d69",
   "metadata": {},
   "outputs": [],
   "source": [
    "# Sorting of list in ascending order\n",
    "L8.sort()"
   ]
  },
  {
   "cell_type": "code",
   "execution_count": 51,
   "id": "4caefc08",
   "metadata": {},
   "outputs": [
    {
     "data": {
      "text/plain": [
       "[-100, -78, 3, 6, 6, 9, 12, 45, 365]"
      ]
     },
     "execution_count": 51,
     "metadata": {},
     "output_type": "execute_result"
    }
   ],
   "source": [
    "L8"
   ]
  },
  {
   "cell_type": "code",
   "execution_count": 52,
   "id": "c094b301",
   "metadata": {},
   "outputs": [],
   "source": [
    "# Sort the list in descending order\n",
    "L9 = [-100,90,345,1050,-2000,890]\n"
   ]
  },
  {
   "cell_type": "code",
   "execution_count": 53,
   "id": "df1fb3ef",
   "metadata": {},
   "outputs": [],
   "source": [
    "L9.sort(reverse=True)"
   ]
  },
  {
   "cell_type": "code",
   "execution_count": 54,
   "id": "5cd0deb8",
   "metadata": {},
   "outputs": [
    {
     "data": {
      "text/plain": [
       "[1050, 890, 345, 90, -100, -2000]"
      ]
     },
     "execution_count": 54,
     "metadata": {},
     "output_type": "execute_result"
    }
   ],
   "source": [
    "L9"
   ]
  },
  {
   "cell_type": "code",
   "execution_count": 56,
   "id": "55415682",
   "metadata": {},
   "outputs": [
    {
     "data": {
      "text/plain": [
       "[1050, 890, 345, 90, -100, -2000]"
      ]
     },
     "execution_count": 56,
     "metadata": {},
     "output_type": "execute_result"
    }
   ],
   "source": [
    "# Reversing a list\n",
    "L9"
   ]
  },
  {
   "cell_type": "code",
   "execution_count": 57,
   "id": "0fab6f0e",
   "metadata": {},
   "outputs": [],
   "source": [
    "L9.reverse()"
   ]
  },
  {
   "cell_type": "code",
   "execution_count": 58,
   "id": "93385a9d",
   "metadata": {},
   "outputs": [
    {
     "data": {
      "text/plain": [
       "[-2000, -100, 90, 345, 890, 1050]"
      ]
     },
     "execution_count": 58,
     "metadata": {},
     "output_type": "execute_result"
    }
   ],
   "source": [
    "L9"
   ]
  },
  {
   "cell_type": "code",
   "execution_count": 59,
   "id": "3e8d963f",
   "metadata": {},
   "outputs": [],
   "source": [
    "#  Slicing operator : to slice a list\n",
    "L10 = [5,90,67,23,-98,10,1000,-900,679,123,654]"
   ]
  },
  {
   "cell_type": "code",
   "execution_count": 60,
   "id": "8fbdb2cf",
   "metadata": {},
   "outputs": [
    {
     "data": {
      "text/plain": [
       "[-98, 10, 1000, -900]"
      ]
     },
     "execution_count": 60,
     "metadata": {},
     "output_type": "execute_result"
    }
   ],
   "source": [
    "L10[4:8]"
   ]
  },
  {
   "cell_type": "code",
   "execution_count": 61,
   "id": "b9f847ac",
   "metadata": {},
   "outputs": [
    {
     "data": {
      "text/plain": [
       "[5, 90, 67, 23, -98, 10, 1000, -900, 679, 123, 654]"
      ]
     },
     "execution_count": 61,
     "metadata": {},
     "output_type": "execute_result"
    }
   ],
   "source": [
    "L10"
   ]
  },
  {
   "cell_type": "code",
   "execution_count": 62,
   "id": "5375d3c8",
   "metadata": {},
   "outputs": [
    {
     "data": {
      "text/plain": [
       "[5, 90, 67, 23, -98, 10]"
      ]
     },
     "execution_count": 62,
     "metadata": {},
     "output_type": "execute_result"
    }
   ],
   "source": [
    "L10[:6]"
   ]
  },
  {
   "cell_type": "code",
   "execution_count": 63,
   "id": "c5065c53",
   "metadata": {},
   "outputs": [
    {
     "data": {
      "text/plain": [
       "[23, -98, 10, 1000, -900, 679, 123, 654]"
      ]
     },
     "execution_count": 63,
     "metadata": {},
     "output_type": "execute_result"
    }
   ],
   "source": [
    "L10[3:]"
   ]
  },
  {
   "cell_type": "code",
   "execution_count": 64,
   "id": "1c9b2160",
   "metadata": {},
   "outputs": [
    {
     "data": {
      "text/plain": [
       "[5, 90, 67, 23, -98, 10, 1000, -900, 679, 123, 654]"
      ]
     },
     "execution_count": 64,
     "metadata": {},
     "output_type": "execute_result"
    }
   ],
   "source": [
    "L10"
   ]
  },
  {
   "cell_type": "code",
   "execution_count": 65,
   "id": "dcbec307",
   "metadata": {},
   "outputs": [
    {
     "data": {
      "text/plain": [
       "[-98, 10, 1000, -900, 679]"
      ]
     },
     "execution_count": 65,
     "metadata": {},
     "output_type": "execute_result"
    }
   ],
   "source": [
    "L10[-7:-2]"
   ]
  },
  {
   "cell_type": "code",
   "execution_count": 66,
   "id": "0f99cc15",
   "metadata": {},
   "outputs": [
    {
     "data": {
      "text/plain": [
       "[5, 90, 67, 23, -98, 10, 1000, -900, 679, 123, 654]"
      ]
     },
     "execution_count": 66,
     "metadata": {},
     "output_type": "execute_result"
    }
   ],
   "source": [
    "L10"
   ]
  },
  {
   "cell_type": "code",
   "execution_count": 67,
   "id": "2ff7bb98",
   "metadata": {},
   "outputs": [
    {
     "data": {
      "text/plain": [
       "[5, 67, -98, 1000]"
      ]
     },
     "execution_count": 67,
     "metadata": {},
     "output_type": "execute_result"
    }
   ],
   "source": [
    "L10[0:7:2]"
   ]
  },
  {
   "cell_type": "code",
   "execution_count": 68,
   "id": "2568e5c2",
   "metadata": {},
   "outputs": [
    {
     "data": {
      "text/plain": [
       "[5, 90, 67, 23, -98, 10, 1000, -900, 679, 123, 654]"
      ]
     },
     "execution_count": 68,
     "metadata": {},
     "output_type": "execute_result"
    }
   ],
   "source": [
    "L10"
   ]
  },
  {
   "cell_type": "code",
   "execution_count": 69,
   "id": "6bb42375",
   "metadata": {},
   "outputs": [
    {
     "data": {
      "text/plain": [
       "[654, 123, 679, -900, 1000, 10, -98, 23, 67, 90, 5]"
      ]
     },
     "execution_count": 69,
     "metadata": {},
     "output_type": "execute_result"
    }
   ],
   "source": [
    "# Reverse the list using slicing operator\n",
    "L10[::-1]"
   ]
  },
  {
   "cell_type": "code",
   "execution_count": 70,
   "id": "6007b1dd",
   "metadata": {},
   "outputs": [
    {
     "data": {
      "text/plain": [
       "[654, 679, 1000, -98, 67, 5]"
      ]
     },
     "execution_count": 70,
     "metadata": {},
     "output_type": "execute_result"
    }
   ],
   "source": [
    "L10[::-2]"
   ]
  },
  {
   "cell_type": "code",
   "execution_count": 71,
   "id": "f6890f50",
   "metadata": {},
   "outputs": [
    {
     "data": {
      "text/plain": [
       "[5, 90, 67, 23, -98, 10, 1000, -900, 679, 123, 654]"
      ]
     },
     "execution_count": 71,
     "metadata": {},
     "output_type": "execute_result"
    }
   ],
   "source": [
    "L10"
   ]
  },
  {
   "cell_type": "code",
   "execution_count": null,
   "id": "79ea48b9",
   "metadata": {},
   "outputs": [],
   "source": []
  }
 ],
 "metadata": {
  "kernelspec": {
   "display_name": "Python 3 (ipykernel)",
   "language": "python",
   "name": "python3"
  },
  "language_info": {
   "codemirror_mode": {
    "name": "ipython",
    "version": 3
   },
   "file_extension": ".py",
   "mimetype": "text/x-python",
   "name": "python",
   "nbconvert_exporter": "python",
   "pygments_lexer": "ipython3",
   "version": "3.11.7"
  }
 },
 "nbformat": 4,
 "nbformat_minor": 5
}
