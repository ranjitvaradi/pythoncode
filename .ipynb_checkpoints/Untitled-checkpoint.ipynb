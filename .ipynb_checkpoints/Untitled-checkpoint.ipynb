{
 "cells": [
  {
   "cell_type": "code",
   "execution_count": 4,
   "id": "cf0800f9-829a-4174-bc25-71e6758cd792",
   "metadata": {},
   "outputs": [
    {
     "name": "stdin",
     "output_type": "stream",
     "text": [
      "enter the number os students:  5\n",
      "enter the name of the student: a\n",
      "enter the marks: 23\n",
      "enter the name of the student: b\n",
      "enter the marks: 34\n",
      "enter the name of the student: c\n",
      "enter the marks: 45\n",
      "enter the name of the student: d\n",
      "enter the marks: 34\n"
     ]
    },
    {
     "name": "stdout",
     "output_type": "stream",
     "text": [
      "a : 23\n",
      "b : 34\n",
      "c : 45\n",
      "d : 34\n"
     ]
    }
   ],
   "source": [
    "s=int(input(\"enter the number os students: \"))\n",
    "rec={}\n",
    "i=1\n",
    "while i<s:\n",
    "    name=input(\"enter the name of the student:\")\n",
    "    marks=int(input(\"enter the marks:\"))\n",
    "    rec[name]=marks\n",
    "    i=i+1\n",
    "for x in rec:\n",
    "    print(x,\":\",rec[x])\n",
    "\n",
    "    "
   ]
  },
  {
   "cell_type": "code",
   "execution_count": 16,
   "id": "7c549e31-2b75-4d46-978a-71550c40fc13",
   "metadata": {},
   "outputs": [
    {
     "data": {
      "text/plain": [
       "0.6988021422297268"
      ]
     },
     "execution_count": 16,
     "metadata": {},
     "output_type": "execute_result"
    }
   ],
   "source": [
    "from scipy import stats\n",
    "stats.norm.cdf(740,711,29)-stats.norm.cdf(680,711,29)"
   ]
  },
  {
   "cell_type": "code",
   "execution_count": 18,
   "id": "c0559eb7-4517-49fd-9c73-fe49d54c64bf",
   "metadata": {},
   "outputs": [
    {
     "name": "stdout",
     "output_type": "stream",
     "text": [
      "hello\n",
      "None\n"
     ]
    }
   ],
   "source": [
    "def f1():\n",
    "    print(\"hello\")\n",
    "print(f1())"
   ]
  },
  {
   "cell_type": "code",
   "execution_count": null,
   "id": "013e6193-d9f2-48d6-bfbe-16f4631ace7f",
   "metadata": {},
   "outputs": [],
   "source": []
  }
 ],
 "metadata": {
  "kernelspec": {
   "display_name": "Python 3 (ipykernel)",
   "language": "python",
   "name": "python3"
  },
  "language_info": {
   "codemirror_mode": {
    "name": "ipython",
    "version": 3
   },
   "file_extension": ".py",
   "mimetype": "text/x-python",
   "name": "python",
   "nbconvert_exporter": "python",
   "pygments_lexer": "ipython3",
   "version": "3.11.7"
  }
 },
 "nbformat": 4,
 "nbformat_minor": 5
}
