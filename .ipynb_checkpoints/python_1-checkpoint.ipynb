{
 "cells": [
  {
   "cell_type": "code",
   "execution_count": 1,
   "id": "ab5fa814",
   "metadata": {},
   "outputs": [
    {
     "name": "stdout",
     "output_type": "stream",
     "text": [
      "10 20\n"
     ]
    }
   ],
   "source": [
    "x = 10\n",
    "y = 20\n",
    "print(x,y)"
   ]
  },
  {
   "cell_type": "code",
   "execution_count": 10,
   "id": "65f7628c",
   "metadata": {},
   "outputs": [
    {
     "name": "stdout",
     "output_type": "stream",
     "text": [
      "10000\n",
      "20000\n"
     ]
    }
   ],
   "source": [
    "print(10000)\n",
    "print(20000)"
   ]
  },
  {
   "cell_type": "code",
   "execution_count": 6,
   "id": "f0ed0533",
   "metadata": {},
   "outputs": [
    {
     "name": "stdout",
     "output_type": "stream",
     "text": [
      "Hello World!\n",
      "10000\n"
     ]
    }
   ],
   "source": [
    "# Print Hello World!\n",
    "string = \"Hello World!\"\n",
    "print(string)\n",
    "print(10000)"
   ]
  },
  {
   "cell_type": "code",
   "execution_count": 13,
   "id": "4db75b24",
   "metadata": {},
   "outputs": [
    {
     "name": "stdout",
     "output_type": "stream",
     "text": [
      "30\n",
      "110\n"
     ]
    }
   ],
   "source": [
    "print(40-10)\n",
    "print(20+90)"
   ]
  },
  {
   "cell_type": "code",
   "execution_count": 5,
   "id": "1786e354",
   "metadata": {},
   "outputs": [
    {
     "name": "stdout",
     "output_type": "stream",
     "text": [
      "20\n"
     ]
    }
   ],
   "source": [
    "# Declare a variable and print it's value\n",
    "var1 = 20\n",
    "print(var1)"
   ]
  },
  {
   "cell_type": "code",
   "execution_count": 7,
   "id": "24b51da2",
   "metadata": {},
   "outputs": [
    {
     "name": "stdout",
     "output_type": "stream",
     "text": [
      "20 50\n",
      "The values of variables var1 and var2 are equal to  20 and 50 respectively\n"
     ]
    }
   ],
   "source": [
    "# Print variable value with a line of text\n",
    "var2= 50\n",
    "print(var1,var2)\n",
    "print(\"The values of variables var1 and var2 are equal to \", var1, \"and\",var2, \"respectively\")"
   ]
  },
  {
   "cell_type": "code",
   "execution_count": 15,
   "id": "8cfd7e00",
   "metadata": {},
   "outputs": [
    {
     "name": "stdout",
     "output_type": "stream",
     "text": [
      "10 , 20\n"
     ]
    }
   ],
   "source": [
    "print(10,20)"
   ]
  },
  {
   "cell_type": "code",
   "execution_count": 9,
   "id": "cb84142b",
   "metadata": {},
   "outputs": [
    {
     "name": "stdout",
     "output_type": "stream",
     "text": [
      "My name is Waqar and Iam 25 years old\n"
     ]
    }
   ],
   "source": [
    "name1 = \"Waqar\"\n",
    "age = 25\n",
    "print(\"My name is\", name1, \"and Iam\", age, \"years old\")"
   ]
  },
  {
   "cell_type": "code",
   "execution_count": 17,
   "id": "8970eeee",
   "metadata": {},
   "outputs": [
    {
     "name": "stdout",
     "output_type": "stream",
     "text": [
      "Sum =  23\n",
      "Subtraction:  17\n",
      "Multiplication:  60\n",
      "Division:  6.666666666666667\n",
      "Floor Division:  6\n",
      "Modulo:  2\n",
      "Power:  8000\n"
     ]
    }
   ],
   "source": [
    "x = 20\n",
    "y = 3\n",
    "\n",
    "# addition operation\n",
    "print ('Sum = ', x + y)  \n",
    "\n",
    "# subtraction operation\n",
    "print ('Subtraction: ', x - y)   \n",
    "\n",
    "# multiplication operation\n",
    "print ('Multiplication: ', x * y)  \n",
    "\n",
    "# division operation\n",
    "print ('Division: ', x / y )\n",
    "\n",
    "# floor division operation (gives quotient)\n",
    "print ('Floor Division: ', x // y)\n",
    "\n",
    "# modulo operation (gives remainder)\n",
    "print ('Modulo: ', x % y)  \n",
    "\n",
    "# x to the power y\n",
    "print ('Power: ', x ** y)   "
   ]
  },
  {
   "cell_type": "code",
   "execution_count": 25,
   "id": "b05056f7",
   "metadata": {},
   "outputs": [
    {
     "name": "stdout",
     "output_type": "stream",
     "text": [
      "1.5\n"
     ]
    }
   ],
   "source": [
    "print(round(3/2,2))"
   ]
  },
  {
   "cell_type": "code",
   "execution_count": 22,
   "id": "b559a8be",
   "metadata": {},
   "outputs": [
    {
     "data": {
      "text/plain": [
       "6.2346"
      ]
     },
     "execution_count": 22,
     "metadata": {},
     "output_type": "execute_result"
    }
   ],
   "source": [
    "round(6.234579876543,4)"
   ]
  },
  {
   "cell_type": "code",
   "execution_count": 16,
   "id": "2957bd5c",
   "metadata": {},
   "outputs": [
    {
     "data": {
      "text/plain": [
       "39.333"
      ]
     },
     "execution_count": 16,
     "metadata": {},
     "output_type": "execute_result"
    }
   ],
   "source": [
    "z = round(2 * (x -(3/9)),3)\n",
    "z"
   ]
  },
  {
   "cell_type": "code",
   "execution_count": 23,
   "id": "8456b6c9",
   "metadata": {},
   "outputs": [
    {
     "data": {
      "text/plain": [
       "39.33"
      ]
     },
     "execution_count": 23,
     "metadata": {},
     "output_type": "execute_result"
    }
   ],
   "source": [
    "round(z,2)"
   ]
  },
  {
   "cell_type": "code",
   "execution_count": 25,
   "id": "262be6a7",
   "metadata": {},
   "outputs": [
    {
     "data": {
      "text/plain": [
       "30"
      ]
     },
     "execution_count": 25,
     "metadata": {},
     "output_type": "execute_result"
    }
   ],
   "source": [
    "var3 = 20\n",
    "var3 = var3 + 10\n",
    "var3"
   ]
  },
  {
   "cell_type": "code",
   "execution_count": null,
   "id": "583347ac",
   "metadata": {},
   "outputs": [],
   "source": [
    "# Assignment operators =, +=, -=, *=, /=, %=, **="
   ]
  },
  {
   "cell_type": "code",
   "execution_count": 31,
   "id": "2de9cf34",
   "metadata": {},
   "outputs": [
    {
     "data": {
      "text/plain": [
       "140729915380648"
      ]
     },
     "execution_count": 31,
     "metadata": {},
     "output_type": "execute_result"
    }
   ],
   "source": [
    "x = 5\n",
    "id(x)"
   ]
  },
  {
   "cell_type": "code",
   "execution_count": 32,
   "id": "5f175a50",
   "metadata": {},
   "outputs": [
    {
     "data": {
      "text/plain": [
       "140729915380776"
      ]
     },
     "execution_count": 32,
     "metadata": {},
     "output_type": "execute_result"
    }
   ],
   "source": [
    "x = x+4\n",
    "id(x)"
   ]
  },
  {
   "cell_type": "code",
   "execution_count": 33,
   "id": "60255eef",
   "metadata": {},
   "outputs": [
    {
     "data": {
      "text/plain": [
       "140729915380744"
      ]
     },
     "execution_count": 33,
     "metadata": {},
     "output_type": "execute_result"
    }
   ],
   "source": [
    "y = 8\n",
    "id(y)"
   ]
  },
  {
   "cell_type": "code",
   "execution_count": 34,
   "id": "52dfc702",
   "metadata": {},
   "outputs": [
    {
     "name": "stdout",
     "output_type": "stream",
     "text": [
      "12\n"
     ]
    },
    {
     "data": {
      "text/plain": [
       "140729915380872"
      ]
     },
     "execution_count": 34,
     "metadata": {},
     "output_type": "execute_result"
    }
   ],
   "source": [
    "y += 4\n",
    "print(y)\n",
    "id(y)"
   ]
  },
  {
   "cell_type": "code",
   "execution_count": 6,
   "id": "f511d3e0",
   "metadata": {},
   "outputs": [
    {
     "name": "stdout",
     "output_type": "stream",
     "text": [
      "6\n"
     ]
    }
   ],
   "source": [
    "a = 6\n",
    "b =a + 4\n",
    "print(a)"
   ]
  },
  {
   "cell_type": "code",
   "execution_count": 35,
   "id": "bdc551cf",
   "metadata": {},
   "outputs": [
    {
     "name": "stdout",
     "output_type": "stream",
     "text": [
      "10\n"
     ]
    }
   ],
   "source": [
    "x = 6\n",
    "# use of += as an assignment operator\n",
    "x += 4\n",
    "print(x)"
   ]
  },
  {
   "cell_type": "code",
   "execution_count": 18,
   "id": "1fc4f9a7",
   "metadata": {},
   "outputs": [
    {
     "name": "stdout",
     "output_type": "stream",
     "text": [
      "-5\n"
     ]
    }
   ],
   "source": [
    "y = 5\n",
    "y -= 10\n",
    "print(y)"
   ]
  },
  {
   "cell_type": "code",
   "execution_count": 4,
   "id": "6ba9f1c4",
   "metadata": {},
   "outputs": [
    {
     "name": "stdout",
     "output_type": "stream",
     "text": [
      "70\n"
     ]
    }
   ],
   "source": [
    "z = 7\n",
    "z *= 10\n",
    "print(z)"
   ]
  },
  {
   "cell_type": "code",
   "execution_count": 37,
   "id": "2b9d77b0",
   "metadata": {},
   "outputs": [
    {
     "data": {
      "text/plain": [
       "2"
      ]
     },
     "execution_count": 37,
     "metadata": {},
     "output_type": "execute_result"
    }
   ],
   "source": [
    "a = 20\n",
    "a = a % 3\n",
    "a"
   ]
  },
  {
   "cell_type": "code",
   "execution_count": 12,
   "id": "0b831f4a",
   "metadata": {},
   "outputs": [],
   "source": [
    "b = 25\n",
    "b %= 4"
   ]
  },
  {
   "cell_type": "code",
   "execution_count": 14,
   "id": "f9d3c9b4",
   "metadata": {},
   "outputs": [
    {
     "name": "stdout",
     "output_type": "stream",
     "text": [
      "1\n"
     ]
    }
   ],
   "source": [
    "print(b)"
   ]
  },
  {
   "cell_type": "code",
   "execution_count": null,
   "id": "6481d13c",
   "metadata": {},
   "outputs": [],
   "source": []
  },
  {
   "cell_type": "code",
   "execution_count": null,
   "id": "66a3832d",
   "metadata": {},
   "outputs": [],
   "source": [
    "# Comparison operators >, >=, <, <=, !=, =="
   ]
  },
  {
   "cell_type": "code",
   "execution_count": 30,
   "id": "c4781178",
   "metadata": {},
   "outputs": [
    {
     "data": {
      "text/plain": [
       "False"
      ]
     },
     "execution_count": 30,
     "metadata": {},
     "output_type": "execute_result"
    }
   ],
   "source": [
    "a = 9\n",
    "b = 6\n",
    "b > a"
   ]
  },
  {
   "cell_type": "code",
   "execution_count": 31,
   "id": "6e249bcf",
   "metadata": {},
   "outputs": [
    {
     "data": {
      "text/plain": [
       "True"
      ]
     },
     "execution_count": 31,
     "metadata": {},
     "output_type": "execute_result"
    }
   ],
   "source": [
    "b < a"
   ]
  },
  {
   "cell_type": "code",
   "execution_count": 38,
   "id": "7ffe081a",
   "metadata": {},
   "outputs": [
    {
     "data": {
      "text/plain": [
       "True"
      ]
     },
     "execution_count": 38,
     "metadata": {},
     "output_type": "execute_result"
    }
   ],
   "source": [
    "d =8\n",
    "e =8\n",
    "d >= e"
   ]
  },
  {
   "cell_type": "code",
   "execution_count": 39,
   "id": "a92d2b15",
   "metadata": {},
   "outputs": [
    {
     "data": {
      "text/plain": [
       "False"
      ]
     },
     "execution_count": 39,
     "metadata": {},
     "output_type": "execute_result"
    }
   ],
   "source": [
    "d != e"
   ]
  },
  {
   "cell_type": "code",
   "execution_count": 40,
   "id": "73345f7e",
   "metadata": {},
   "outputs": [
    {
     "data": {
      "text/plain": [
       "True"
      ]
     },
     "execution_count": 40,
     "metadata": {},
     "output_type": "execute_result"
    }
   ],
   "source": [
    "d >= e"
   ]
  },
  {
   "cell_type": "code",
   "execution_count": 41,
   "id": "99596255",
   "metadata": {},
   "outputs": [
    {
     "data": {
      "text/plain": [
       "True"
      ]
     },
     "execution_count": 41,
     "metadata": {},
     "output_type": "execute_result"
    }
   ],
   "source": [
    "d == e"
   ]
  },
  {
   "cell_type": "code",
   "execution_count": 24,
   "id": "3a519647",
   "metadata": {},
   "outputs": [
    {
     "name": "stdout",
     "output_type": "stream",
     "text": [
      "z= 100\n",
      "L= 3200000\n"
     ]
    },
    {
     "data": {
      "text/plain": [
       "True"
      ]
     },
     "execution_count": 24,
     "metadata": {},
     "output_type": "execute_result"
    }
   ],
   "source": [
    "x = 20\n",
    "y = 5\n",
    "z =x*y\n",
    "print(\"z=\",z)\n",
    "L = x**y\n",
    "print(\"L=\",L)\n",
    "z<L"
   ]
  },
  {
   "cell_type": "code",
   "execution_count": null,
   "id": "3edf5675",
   "metadata": {},
   "outputs": [],
   "source": [
    "# Logical operators and, or, not"
   ]
  },
  {
   "cell_type": "code",
   "execution_count": 42,
   "id": "eb485d93",
   "metadata": {},
   "outputs": [
    {
     "name": "stdout",
     "output_type": "stream",
     "text": [
      "False\n"
     ]
    }
   ],
   "source": [
    "a = 2\n",
    "b = 6\n",
    "print((a > 2) and (b >= 6))  "
   ]
  },
  {
   "cell_type": "code",
   "execution_count": 43,
   "id": "2842dd90",
   "metadata": {},
   "outputs": [
    {
     "name": "stdout",
     "output_type": "stream",
     "text": [
      "True\n"
     ]
    }
   ],
   "source": [
    "x = 10\n",
    "y= 6\n",
    "print((x > 9) or (y >8))"
   ]
  },
  {
   "cell_type": "code",
   "execution_count": 44,
   "id": "900ec914",
   "metadata": {},
   "outputs": [
    {
     "data": {
      "text/plain": [
       "False"
      ]
     },
     "execution_count": 44,
     "metadata": {},
     "output_type": "execute_result"
    }
   ],
   "source": [
    "not True"
   ]
  },
  {
   "cell_type": "code",
   "execution_count": 45,
   "id": "a372e97f",
   "metadata": {},
   "outputs": [
    {
     "data": {
      "text/plain": [
       "True"
      ]
     },
     "execution_count": 45,
     "metadata": {},
     "output_type": "execute_result"
    }
   ],
   "source": [
    "not False"
   ]
  },
  {
   "cell_type": "code",
   "execution_count": 3,
   "id": "c8f48d2c",
   "metadata": {},
   "outputs": [
    {
     "data": {
      "text/plain": [
       "False"
      ]
     },
     "execution_count": 3,
     "metadata": {},
     "output_type": "execute_result"
    }
   ],
   "source": [
    "x =15\n",
    "not(x>10)"
   ]
  },
  {
   "cell_type": "code",
   "execution_count": 4,
   "id": "379af28e",
   "metadata": {},
   "outputs": [
    {
     "name": "stdout",
     "output_type": "stream",
     "text": [
      "False\n"
     ]
    }
   ],
   "source": [
    "print(not(True and True))"
   ]
  },
  {
   "cell_type": "code",
   "execution_count": 23,
   "id": "85e8a777",
   "metadata": {},
   "outputs": [
    {
     "data": {
      "text/plain": [
       "True"
      ]
     },
     "execution_count": 23,
     "metadata": {},
     "output_type": "execute_result"
    }
   ],
   "source": [
    "a =0\n",
    "b=2\n",
    "not(a <0 and b >3)"
   ]
  },
  {
   "cell_type": "code",
   "execution_count": 7,
   "id": "7898f75f",
   "metadata": {
    "scrolled": true
   },
   "outputs": [
    {
     "name": "stdout",
     "output_type": "stream",
     "text": [
      "20\n"
     ]
    }
   ],
   "source": [
    "m = 20\n",
    "print(m)"
   ]
  },
  {
   "cell_type": "code",
   "execution_count": 49,
   "id": "33e462b3",
   "metadata": {},
   "outputs": [
    {
     "data": {
      "text/plain": [
       "'Hello John'"
      ]
     },
     "execution_count": 49,
     "metadata": {},
     "output_type": "execute_result"
    }
   ],
   "source": [
    "# Membership operators\n",
    "x = 'Hello John'\n",
    "x\n",
    "#print(x)"
   ]
  },
  {
   "cell_type": "code",
   "execution_count": 52,
   "id": "c282469e",
   "metadata": {},
   "outputs": [
    {
     "data": {
      "text/plain": [
       "True"
      ]
     },
     "execution_count": 52,
     "metadata": {},
     "output_type": "execute_result"
    }
   ],
   "source": [
    "'Hello' in x"
   ]
  },
  {
   "cell_type": "code",
   "execution_count": 53,
   "id": "295868d6",
   "metadata": {},
   "outputs": [
    {
     "name": "stdout",
     "output_type": "stream",
     "text": [
      "True\n",
      "True\n",
      "True\n",
      "True\n"
     ]
    }
   ],
   "source": [
    "# check if 'H' is present in x string\n",
    "print('H' in x)  # prints True\n",
    "\n",
    "# check if 'Hello' is present in x string\n",
    "print('Hello' in x)  # prints False\n",
    "\n",
    "print(' ' in x)\n",
    "print('hello' not in x)"
   ]
  },
  {
   "cell_type": "code",
   "execution_count": 14,
   "id": "7b3d367b",
   "metadata": {},
   "outputs": [
    {
     "data": {
      "text/plain": [
       "True"
      ]
     },
     "execution_count": 14,
     "metadata": {},
     "output_type": "execute_result"
    }
   ],
   "source": [
    "1 in [1,2,3]"
   ]
  },
  {
   "cell_type": "code",
   "execution_count": 36,
   "id": "49a6450b",
   "metadata": {},
   "outputs": [
    {
     "data": {
      "text/plain": [
       "False"
      ]
     },
     "execution_count": 36,
     "metadata": {},
     "output_type": "execute_result"
    }
   ],
   "source": [
    "5  in (2,3,4)"
   ]
  },
  {
   "cell_type": "code",
   "execution_count": 6,
   "id": "ada061d7",
   "metadata": {},
   "outputs": [
    {
     "data": {
      "text/plain": [
       "False"
      ]
     },
     "execution_count": 6,
     "metadata": {},
     "output_type": "execute_result"
    }
   ],
   "source": [
    "6 not in {1,2,3,6}"
   ]
  },
  {
   "cell_type": "code",
   "execution_count": null,
   "id": "3ded0679",
   "metadata": {},
   "outputs": [],
   "source": [
    "# Bitwise operators &, | , ^"
   ]
  },
  {
   "cell_type": "code",
   "execution_count": 33,
   "id": "f25287c6",
   "metadata": {},
   "outputs": [
    {
     "name": "stdout",
     "output_type": "stream",
     "text": [
      "0b10100\n",
      "0b1010\n"
     ]
    }
   ],
   "source": [
    "print(bin(20)); print(bin(10))"
   ]
  },
  {
   "cell_type": "code",
   "execution_count": 4,
   "id": "c2626255",
   "metadata": {},
   "outputs": [
    {
     "data": {
      "text/plain": [
       "0"
      ]
     },
     "execution_count": 4,
     "metadata": {},
     "output_type": "execute_result"
    }
   ],
   "source": [
    "20 & 10"
   ]
  },
  {
   "cell_type": "code",
   "execution_count": 5,
   "id": "203b67e8",
   "metadata": {},
   "outputs": [
    {
     "data": {
      "text/plain": [
       "30"
      ]
     },
     "execution_count": 5,
     "metadata": {},
     "output_type": "execute_result"
    }
   ],
   "source": [
    "20 | 10"
   ]
  },
  {
   "cell_type": "code",
   "execution_count": 7,
   "id": "b5bdadf7",
   "metadata": {},
   "outputs": [
    {
     "data": {
      "text/plain": [
       "30"
      ]
     },
     "execution_count": 7,
     "metadata": {},
     "output_type": "execute_result"
    }
   ],
   "source": [
    "20^10"
   ]
  },
  {
   "cell_type": "code",
   "execution_count": 6,
   "id": "912d66cd",
   "metadata": {},
   "outputs": [
    {
     "data": {
      "text/plain": [
       "'0b11110'"
      ]
     },
     "execution_count": 6,
     "metadata": {},
     "output_type": "execute_result"
    }
   ],
   "source": [
    "bin(30)"
   ]
  },
  {
   "cell_type": "code",
   "execution_count": 9,
   "id": "24ef2f6a",
   "metadata": {
    "scrolled": true
   },
   "outputs": [
    {
     "data": {
      "text/plain": [
       "'0b0'"
      ]
     },
     "execution_count": 9,
     "metadata": {},
     "output_type": "execute_result"
    }
   ],
   "source": [
    "bin(0)"
   ]
  },
  {
   "cell_type": "code",
   "execution_count": 54,
   "id": "6ded26a8",
   "metadata": {},
   "outputs": [
    {
     "data": {
      "text/plain": [
       "'0b1111'"
      ]
     },
     "execution_count": 54,
     "metadata": {},
     "output_type": "execute_result"
    }
   ],
   "source": [
    "bin(15)"
   ]
  },
  {
   "cell_type": "code",
   "execution_count": 10,
   "id": "086a59ef",
   "metadata": {},
   "outputs": [
    {
     "data": {
      "text/plain": [
       "8"
      ]
     },
     "execution_count": 10,
     "metadata": {},
     "output_type": "execute_result"
    }
   ],
   "source": [
    "10 & 8"
   ]
  },
  {
   "cell_type": "code",
   "execution_count": 11,
   "id": "99c72b36",
   "metadata": {},
   "outputs": [
    {
     "data": {
      "text/plain": [
       "('0b1010', '0b1000')"
      ]
     },
     "execution_count": 11,
     "metadata": {},
     "output_type": "execute_result"
    }
   ],
   "source": [
    "bin(10),bin(8)"
   ]
  },
  {
   "cell_type": "code",
   "execution_count": 40,
   "id": "38a1d916",
   "metadata": {
    "scrolled": true
   },
   "outputs": [
    {
     "data": {
      "text/plain": [
       "20"
      ]
     },
     "execution_count": 40,
     "metadata": {},
     "output_type": "execute_result"
    }
   ],
   "source": [
    "int('10100',2)"
   ]
  },
  {
   "cell_type": "code",
   "execution_count": 33,
   "id": "bc851090",
   "metadata": {},
   "outputs": [
    {
     "data": {
      "text/plain": [
       "'0b10111'"
      ]
     },
     "execution_count": 33,
     "metadata": {},
     "output_type": "execute_result"
    }
   ],
   "source": [
    "bin(23)"
   ]
  },
  {
   "cell_type": "code",
   "execution_count": 30,
   "id": "25c8c7a0",
   "metadata": {},
   "outputs": [
    {
     "data": {
      "text/plain": [
       "10"
      ]
     },
     "execution_count": 30,
     "metadata": {},
     "output_type": "execute_result"
    }
   ],
   "source": [
    "10 | 8"
   ]
  },
  {
   "cell_type": "code",
   "execution_count": 34,
   "id": "12506b2c",
   "metadata": {},
   "outputs": [
    {
     "data": {
      "text/plain": [
       "2"
      ]
     },
     "execution_count": 34,
     "metadata": {},
     "output_type": "execute_result"
    }
   ],
   "source": [
    "10^8"
   ]
  },
  {
   "cell_type": "code",
   "execution_count": 32,
   "id": "3ed69a3b",
   "metadata": {},
   "outputs": [
    {
     "data": {
      "text/plain": [
       "'0b10'"
      ]
     },
     "execution_count": 32,
     "metadata": {},
     "output_type": "execute_result"
    }
   ],
   "source": [
    "bin(2)"
   ]
  },
  {
   "cell_type": "code",
   "execution_count": 35,
   "id": "76ad3008",
   "metadata": {},
   "outputs": [
    {
     "data": {
      "text/plain": [
       "14"
      ]
     },
     "execution_count": 35,
     "metadata": {},
     "output_type": "execute_result"
    }
   ],
   "source": [
    "10|12"
   ]
  },
  {
   "cell_type": "code",
   "execution_count": 37,
   "id": "85619f9f",
   "metadata": {},
   "outputs": [
    {
     "data": {
      "text/plain": [
       "'0b1100'"
      ]
     },
     "execution_count": 37,
     "metadata": {},
     "output_type": "execute_result"
    }
   ],
   "source": [
    "bin(12)"
   ]
  },
  {
   "cell_type": "code",
   "execution_count": 18,
   "id": "7bfeb643",
   "metadata": {},
   "outputs": [
    {
     "data": {
      "text/plain": [
       "12"
      ]
     },
     "execution_count": 18,
     "metadata": {},
     "output_type": "execute_result"
    }
   ],
   "source": [
    "int('1100',2)"
   ]
  },
  {
   "cell_type": "code",
   "execution_count": 8,
   "id": "1b0f5c5f",
   "metadata": {
    "scrolled": true
   },
   "outputs": [
    {
     "data": {
      "text/plain": [
       "0"
      ]
     },
     "execution_count": 8,
     "metadata": {},
     "output_type": "execute_result"
    }
   ],
   "source": [
    "20 & 10"
   ]
  },
  {
   "cell_type": "code",
   "execution_count": 11,
   "id": "195627ab",
   "metadata": {},
   "outputs": [
    {
     "data": {
      "text/plain": [
       "False"
      ]
     },
     "execution_count": 11,
     "metadata": {},
     "output_type": "execute_result"
    }
   ],
   "source": [
    "3>10 and 4 <2"
   ]
  },
  {
   "cell_type": "code",
   "execution_count": 17,
   "id": "2e1f9e51",
   "metadata": {},
   "outputs": [
    {
     "data": {
      "text/plain": [
       "30"
      ]
     },
     "execution_count": 17,
     "metadata": {},
     "output_type": "execute_result"
    }
   ],
   "source": [
    "int('11110',2)"
   ]
  },
  {
   "cell_type": "code",
   "execution_count": null,
   "id": "e600e44b",
   "metadata": {},
   "outputs": [],
   "source": []
  }
 ],
 "metadata": {
  "kernelspec": {
   "display_name": "Python 3 (ipykernel)",
   "language": "python",
   "name": "python3"
  },
  "language_info": {
   "codemirror_mode": {
    "name": "ipython",
    "version": 3
   },
   "file_extension": ".py",
   "mimetype": "text/x-python",
   "name": "python",
   "nbconvert_exporter": "python",
   "pygments_lexer": "ipython3",
   "version": "3.11.3"
  }
 },
 "nbformat": 4,
 "nbformat_minor": 5
}
