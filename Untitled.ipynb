{
 "cells": [
  {
   "cell_type": "code",
   "execution_count": 22,
   "id": "013e6193-d9f2-48d6-bfbe-16f4631ace7f",
   "metadata": {},
   "outputs": [
    {
     "data": {
      "text/plain": [
       "120"
      ]
     },
     "execution_count": 22,
     "metadata": {},
     "output_type": "execute_result"
    }
   ],
   "source": [
    "def fact(num):\n",
    "    r=1\n",
    "    while num>1:\n",
    "        r=num*r\n",
    "        num=num-1\n",
    "    return r\n",
    "fact(5)\n",
    "        \n",
    "\n",
    "    \n",
    "    "
   ]
  },
  {
   "cell_type": "code",
   "execution_count": 28,
   "id": "ad603103-826b-48ed-8e22-2731d2fe5f4c",
   "metadata": {},
   "outputs": [
    {
     "data": {
      "text/plain": [
       "120"
      ]
     },
     "execution_count": 28,
     "metadata": {},
     "output_type": "execute_result"
    }
   ],
   "source": [
    "\n",
    "def fact(num):\n",
    "    r=1\n",
    "    for i in range(1,num+1):\n",
    "        r=num*r\n",
    "        num-=1\n",
    "    return r\n",
    "    \n",
    "fact(5)    "
   ]
  },
  {
   "cell_type": "code",
   "execution_count": 38,
   "id": "89939987-ce53-4a30-b79a-cbfd7be050c0",
   "metadata": {},
   "outputs": [
    {
     "name": "stdout",
     "output_type": "stream",
     "text": [
      "[1, 2, 3]\n"
     ]
    }
   ],
   "source": [
    "d={\"a\":1,\"b\":2,\"c\":3}\n",
    "k=list(d.values())\n",
    "print(k)\n"
   ]
  },
  {
   "cell_type": "code",
   "execution_count": 40,
   "id": "eaa52fac-19ff-4dca-b0c9-068b39633abf",
   "metadata": {},
   "outputs": [
    {
     "name": "stdout",
     "output_type": "stream",
     "text": [
      "a = 1\n",
      "b = 2\n",
      "c = 3\n"
     ]
    }
   ],
   "source": [
    "d={\"a\":1,\"b\":2,\"c\":3}\n",
    "\n",
    "for k,v in d.items():\n",
    "    print(k,'=',v)"
   ]
  },
  {
   "cell_type": "code",
   "execution_count": 42,
   "id": "1a80687e-c3bf-4012-bbe5-4c2c2629920b",
   "metadata": {},
   "outputs": [
    {
     "data": {
      "text/plain": [
       "120"
      ]
     },
     "execution_count": 42,
     "metadata": {},
     "output_type": "execute_result"
    }
   ],
   "source": [
    "def factorial(n):\n",
    "    if n==0:\n",
    "        result=1\n",
    "    else:\n",
    "        result=n*factorial(n-1)\n",
    "    return result\n",
    "\n",
    "factorial(5)\n",
    "    "
   ]
  },
  {
   "cell_type": "code",
   "execution_count": 4,
   "id": "cf0800f9-829a-4174-bc25-71e6758cd792",
   "metadata": {},
   "outputs": [
    {
     "name": "stdin",
     "output_type": "stream",
     "text": [
      "enter the number os students:  5\n",
      "enter the name of the student: a\n",
      "enter the marks: 23\n",
      "enter the name of the student: b\n",
      "enter the marks: 34\n",
      "enter the name of the student: c\n",
      "enter the marks: 45\n",
      "enter the name of the student: d\n",
      "enter the marks: 34\n"
     ]
    },
    {
     "name": "stdout",
     "output_type": "stream",
     "text": [
      "a : 23\n",
      "b : 34\n",
      "c : 45\n",
      "d : 34\n"
     ]
    }
   ],
   "source": [
    "s=int(input(\"enter the number os students: \"))\n",
    "rec={}\n",
    "i=1\n",
    "while i<s:\n",
    "    name=input(\"enter the name of the student:\")\n",
    "    marks=int(input(\"enter the marks:\"))\n",
    "    rec[name]=marks\n",
    "    i=i+1\n",
    "for x in rec:\n",
    "    print(x,\":\",rec[x])\n",
    "\n",
    "    "
   ]
  },
  {
   "cell_type": "code",
   "execution_count": 16,
   "id": "7c549e31-2b75-4d46-978a-71550c40fc13",
   "metadata": {},
   "outputs": [
    {
     "data": {
      "text/plain": [
       "0.6988021422297268"
      ]
     },
     "execution_count": 16,
     "metadata": {},
     "output_type": "execute_result"
    }
   ],
   "source": [
    "from scipy import stats\n",
    "stats.norm.cdf(740,711,29)-stats.norm.cdf(680,711,29)"
   ]
  },
  {
   "cell_type": "code",
   "execution_count": 18,
   "id": "c0559eb7-4517-49fd-9c73-fe49d54c64bf",
   "metadata": {},
   "outputs": [
    {
     "name": "stdout",
     "output_type": "stream",
     "text": [
      "hello\n",
      "None\n"
     ]
    }
   ],
   "source": [
    "def f1():\n",
    "    print(\"hello\")\n",
    "print(f1())"
   ]
  },
  {
   "cell_type": "code",
   "execution_count": null,
   "id": "1c333b05-fbdc-4243-8222-68a37bec7c7e",
   "metadata": {},
   "outputs": [],
   "source": []
  }
 ],
 "metadata": {
  "kernelspec": {
   "display_name": "Python 3 (ipykernel)",
   "language": "python",
   "name": "python3"
  },
  "language_info": {
   "codemirror_mode": {
    "name": "ipython",
    "version": 3
   },
   "file_extension": ".py",
   "mimetype": "text/x-python",
   "name": "python",
   "nbconvert_exporter": "python",
   "pygments_lexer": "ipython3",
   "version": "3.11.7"
  }
 },
 "nbformat": 4,
 "nbformat_minor": 5
}
