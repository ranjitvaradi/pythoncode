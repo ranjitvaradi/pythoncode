{
 "cells": [
  {
   "cell_type": "code",
   "execution_count": 8,
   "id": "317a9da8-4006-45d7-9616-e950be2d67bd",
   "metadata": {},
   "outputs": [
    {
     "name": "stdin",
     "output_type": "stream",
     "text": [
      "enter a number n to test prime or not:  9\n"
     ]
    },
    {
     "name": "stdout",
     "output_type": "stream",
     "text": [
      "it is not a prime number\n"
     ]
    }
   ],
   "source": [
    "#Exercise 1: Prime Numbers\n",
    "#Write a Python program that checks whether a given number is prime or not. A prime number is a natural number greater than 1 that has no positive divisors other than 1 and itself.\n",
    "\n",
    "def prime(n):                #function definition\n",
    "\n",
    "    for i in range(2,n):      # because we need to omit 1 and the n numbers for divisions\n",
    "       if n%i==0:              #if it is divided then the reminder will be 0, so it is not a prime\n",
    "           \n",
    "           print(\"it is not a prime number\")     #if it is divisible by any number it shows that it is not a prime\n",
    "           break                                  #if it is divisible then it is is ok to break the loop\n",
    "    else:\n",
    "        \n",
    "        print (n, \" is a prime number\")           #if it is not divisible then else state ment will be executed.\n",
    "\n",
    "prime(int(input(\"enter a number n to test prime or not: \")))  #We are calling function prime and asking user to enter input.\n"
   ]
  },
  {
   "cell_type": "code",
   "execution_count": 9,
   "id": "785e6445-99f8-45e1-bf61-0d983b8a0df8",
   "metadata": {},
   "outputs": [
    {
     "name": "stdin",
     "output_type": "stream",
     "text": [
      "Guess the product of a and b and enter:  78\n"
     ]
    },
    {
     "name": "stdout",
     "output_type": "stream",
     "text": [
      "Your guess is wrong, the product of a: 9 and b: 7 is  63\n"
     ]
    }
   ],
   "source": [
    "#Exercise 2: Product of Random Numbers\n",
    "#Develop a Python program that generates two random numbers and asks the user to enter the product of these numbers. The program should then check if the user's answer is correct and display an appropriate message.\n",
    "\n",
    "import random                      #to generate random numbers we need to import random package\n",
    "a=random.randint(1,10)             #generating 2 random numbers. \n",
    "b=random.randint(1,10)\n",
    "guess=int(input(\"Guess the product of a and b and enter: \"))     #asking user to guess and enter product of 2 random numbers\n",
    "if a*b==guess:\n",
    "   print(f\"Your guess is Correct, the product of a: {a} and b: {b} is \",a*b) #we are calculating actual product of random numbers and comparing with user guess.\n",
    "else:\n",
    "   print(f\"Your guess is wrong, the product of a: {a} and b: {b} is \",a*b)   \n",
    "   \n",
    "   "
   ]
  },
  {
   "cell_type": "code",
   "execution_count": 10,
   "id": "713fc35f-36d7-4378-8ee6-88f7ee80363d",
   "metadata": {},
   "outputs": [
    {
     "name": "stdin",
     "output_type": "stream",
     "text": [
      "Enter your choice Even/Odd:  Even\n"
     ]
    },
    {
     "name": "stdout",
     "output_type": "stream",
     "text": [
      "10000,10404,10816,11236,11664,12100,12544,12996,13456,13924,14400,14884,15376,15876,16384,16900,17424,17956,18496,19044,19600,20164,20736,21316,21904,22500,23104,23716,24336,24964,25600,26244,26896,27556,28224,28900,29584,30276,30976,31684,32400,33124,33856,34596,35344,36100,36864,37636,38416,39204,40000,"
     ]
    }
   ],
   "source": [
    "#Exercise 3: Squares of Even/Odd Numbers\n",
    "#Create a Python script that prints the squares of all even or odd numbers within the range of 100 to 200. Choose either even or odd numbers and document your choice in the code.\n",
    "\n",
    "choice=input(\"Enter your choice Even/Odd: \")    #asking user to enter the choice\n",
    "\n",
    "for i in range(100,201):                        # for loop for traversing through the given range of values\n",
    "   if choice==\"Even\":\n",
    "      if i%2==0:\n",
    "         print(i**2,end=\",\")                    #if choice is even then it checks the even values and squres and prints\n",
    "   else:\n",
    "      if i%2!=0:                                #if choice is odd if condition check for off values in the range and prints the squares of them.\n",
    "         print(i**2,end=\",\")"
   ]
  },
  {
   "cell_type": "code",
   "execution_count": 1,
   "id": "6da688a0-ab3b-411c-b967-b6da7faa3c11",
   "metadata": {},
   "outputs": [
    {
     "name": "stdout",
     "output_type": "stream",
     "text": [
      "This occured  1  times\n",
      "is occured  1  times\n",
      "good occured  2  times\n",
      "and occured  2  times\n",
      "very occured  1  times\n",
      "great occured  1  times\n"
     ]
    }
   ],
   "source": [
    "#Exercise 4: Word counter\n",
    "#write a program to count the number of words in a given text.\n",
    "\n",
    "\n",
    "text=\"This is good and very good and great\"  #given sample string, we are using the same\n",
    "p={}                                             #take empty dictionary\n",
    "l=text.split()                                    #split fuction split the string and make it as list.\n",
    "for i in l:                                        # traversing through the list with for loop\n",
    "   p[i]=p.get(i,0)+1                         #get method fetch values from dictionary, if it not present then give default value 0, p[i] adds value to the key i in the dictionary p. value is the count of number of occurences.\n",
    "for k,v in p.items():                        #listing out key and vlues in dictionary p\n",
    "   print(k,\"occured \",v,\" times\")"
   ]
  },
  {
   "cell_type": "code",
   "execution_count": 12,
   "id": "ecd7afbc-6eb3-47c7-9c11-0dd3d5d27cc4",
   "metadata": {},
   "outputs": [
    {
     "name": "stdin",
     "output_type": "stream",
     "text": [
      "enter a word:  racecar\n"
     ]
    },
    {
     "name": "stdout",
     "output_type": "stream",
     "text": [
      "True\n"
     ]
    }
   ],
   "source": [
    "def is_palindrome(word):       #function definition\n",
    "   l=[]                        #empty list diclaration\n",
    "   for x in word:              # we are adding the letters of the word in to list by using for loop\n",
    "      l.append(x)\n",
    "   k=list(l[::-1])              #making another list with the reverse of the letters.\n",
    "   if k==l:                    #comparing both the lists. if both are equls then it is palindrome\n",
    "      return True\n",
    "   else:\n",
    "      return False\n",
    "y=is_palindrome(input(\"enter a word: \"))       #calling function\n",
    "print(y)"
   ]
  },
  {
   "cell_type": "code",
   "execution_count": null,
   "id": "27793cfb-18de-4d7f-9049-df3607d4270d",
   "metadata": {},
   "outputs": [],
   "source": []
  }
 ],
 "metadata": {
  "kernelspec": {
   "display_name": "Python 3 (ipykernel)",
   "language": "python",
   "name": "python3"
  },
  "language_info": {
   "codemirror_mode": {
    "name": "ipython",
    "version": 3
   },
   "file_extension": ".py",
   "mimetype": "text/x-python",
   "name": "python",
   "nbconvert_exporter": "python",
   "pygments_lexer": "ipython3",
   "version": "3.11.7"
  }
 },
 "nbformat": 4,
 "nbformat_minor": 5
}
