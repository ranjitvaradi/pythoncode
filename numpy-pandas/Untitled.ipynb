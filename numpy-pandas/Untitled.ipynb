{
 "cells": [
  {
   "cell_type": "code",
   "execution_count": 11,
   "id": "8e05c1a0-866b-4f8e-8a85-df49c7d4b296",
   "metadata": {},
   "outputs": [],
   "source": [
    "from scipy import stats\n",
    "import pandas as pd\n",
    "import numpy as np\n"
   ]
  },
  {
   "cell_type": "code",
   "execution_count": 8,
   "id": "41e820bf-77ef-4cd3-b231-43217af7cbaf",
   "metadata": {},
   "outputs": [
    {
     "data": {
      "text/plain": [
       "28293.661022264165"
      ]
     },
     "execution_count": 8,
     "metadata": {},
     "output_type": "execute_result"
    }
   ],
   "source": [
    "df=pd.read_csv('Salaries.csv')\n",
    "df['salary'].std()"
   ]
  },
  {
   "cell_type": "code",
   "execution_count": null,
   "id": "b18635e4-6c72-48c7-8586-a92a6034966b",
   "metadata": {},
   "outputs": [],
   "source": [
    "#to find the area under the curve when percentile given"
   ]
  },
  {
   "cell_type": "code",
   "execution_count": 16,
   "id": "c032c378-3e17-4332-944c-5a436b4ec5ac",
   "metadata": {},
   "outputs": [
    {
     "data": {
      "text/plain": [
       "0.2463361549735285"
      ]
     },
     "execution_count": 16,
     "metadata": {},
     "output_type": "execute_result"
    }
   ],
   "source": [
    "\n",
    "stats.norm.cdf(df['salary'].quantile(0.25),df['salary'].mean(),df['salary'].std())"
   ]
  },
  {
   "cell_type": "code",
   "execution_count": 20,
   "id": "7abcaf59-2345-42d5-9524-15e987f69c25",
   "metadata": {},
   "outputs": [
    {
     "data": {
      "text/plain": [
       "0.2463361549735285"
      ]
     },
     "execution_count": 20,
     "metadata": {},
     "output_type": "execute_result"
    }
   ],
   "source": [
    "stats.norm.cdf(df['salary'].quantile(0.25),df['salary'].mean(),df['salary'].std())"
   ]
  },
  {
   "cell_type": "code",
   "execution_count": 22,
   "id": "c272d97e-219d-4d5b-a30f-d29b3697088c",
   "metadata": {},
   "outputs": [
    {
     "data": {
      "text/plain": [
       "0.25375276528691837"
      ]
     },
     "execution_count": 22,
     "metadata": {},
     "output_type": "execute_result"
    }
   ],
   "source": [
    "1-stats.norm.cdf(df['salary'].quantile(0.75),df['salary'].mean(),df['salary'].std())"
   ]
  },
  {
   "cell_type": "code",
   "execution_count": 23,
   "id": "db8104c2-7f8d-4a56-8fd0-e23bba295cb8",
   "metadata": {},
   "outputs": [
    {
     "data": {
      "text/plain": [
       "0.3318550772132152"
      ]
     },
     "execution_count": 23,
     "metadata": {},
     "output_type": "execute_result"
    }
   ],
   "source": [
    "stats.norm.cdf(df['salary'].quantile(0.8),df['salary'].mean(),df['salary'].std())-(stats.norm.cdf(df['salary'].quantile(0.5),df['salary'].mean(),df['salary'].std()))"
   ]
  },
  {
   "cell_type": "code",
   "execution_count": 17,
   "id": "95b2bda8-9cda-49a3-902f-ae93998dbecc",
   "metadata": {},
   "outputs": [
    {
     "data": {
      "text/html": [
       "<div>\n",
       "<style scoped>\n",
       "    .dataframe tbody tr th:only-of-type {\n",
       "        vertical-align: middle;\n",
       "    }\n",
       "\n",
       "    .dataframe tbody tr th {\n",
       "        vertical-align: top;\n",
       "    }\n",
       "\n",
       "    .dataframe thead th {\n",
       "        text-align: right;\n",
       "    }\n",
       "</style>\n",
       "<table border=\"1\" class=\"dataframe\">\n",
       "  <thead>\n",
       "    <tr style=\"text-align: right;\">\n",
       "      <th></th>\n",
       "      <th>phd</th>\n",
       "      <th>service</th>\n",
       "      <th>salary</th>\n",
       "    </tr>\n",
       "  </thead>\n",
       "  <tbody>\n",
       "    <tr>\n",
       "      <th>count</th>\n",
       "      <td>78.000000</td>\n",
       "      <td>78.000000</td>\n",
       "      <td>78.000000</td>\n",
       "    </tr>\n",
       "    <tr>\n",
       "      <th>mean</th>\n",
       "      <td>19.705128</td>\n",
       "      <td>15.051282</td>\n",
       "      <td>108023.782051</td>\n",
       "    </tr>\n",
       "    <tr>\n",
       "      <th>std</th>\n",
       "      <td>12.498425</td>\n",
       "      <td>12.139768</td>\n",
       "      <td>28293.661022</td>\n",
       "    </tr>\n",
       "    <tr>\n",
       "      <th>min</th>\n",
       "      <td>1.000000</td>\n",
       "      <td>0.000000</td>\n",
       "      <td>57800.000000</td>\n",
       "    </tr>\n",
       "    <tr>\n",
       "      <th>25%</th>\n",
       "      <td>10.250000</td>\n",
       "      <td>5.250000</td>\n",
       "      <td>88612.500000</td>\n",
       "    </tr>\n",
       "    <tr>\n",
       "      <th>50%</th>\n",
       "      <td>18.500000</td>\n",
       "      <td>14.500000</td>\n",
       "      <td>104671.000000</td>\n",
       "    </tr>\n",
       "    <tr>\n",
       "      <th>75%</th>\n",
       "      <td>27.750000</td>\n",
       "      <td>20.750000</td>\n",
       "      <td>126774.750000</td>\n",
       "    </tr>\n",
       "    <tr>\n",
       "      <th>max</th>\n",
       "      <td>56.000000</td>\n",
       "      <td>51.000000</td>\n",
       "      <td>186960.000000</td>\n",
       "    </tr>\n",
       "  </tbody>\n",
       "</table>\n",
       "</div>"
      ],
      "text/plain": [
       "             phd    service         salary\n",
       "count  78.000000  78.000000      78.000000\n",
       "mean   19.705128  15.051282  108023.782051\n",
       "std    12.498425  12.139768   28293.661022\n",
       "min     1.000000   0.000000   57800.000000\n",
       "25%    10.250000   5.250000   88612.500000\n",
       "50%    18.500000  14.500000  104671.000000\n",
       "75%    27.750000  20.750000  126774.750000\n",
       "max    56.000000  51.000000  186960.000000"
      ]
     },
     "execution_count": 17,
     "metadata": {},
     "output_type": "execute_result"
    }
   ],
   "source": [
    "df.describe()"
   ]
  },
  {
   "cell_type": "code",
   "execution_count": null,
   "id": "26cbc3f2-13f7-4869-8de0-25e488c549ab",
   "metadata": {},
   "outputs": [],
   "source": [
    "#Find the salary value corresponding cumilative probability is 80%\n",
    "stats.norm.ppf(p,mean,std)"
   ]
  },
  {
   "cell_type": "code",
   "execution_count": 24,
   "id": "d9f9515e-ffef-4bc9-844b-5a62944a9b92",
   "metadata": {},
   "outputs": [
    {
     "data": {
      "text/plain": [
       "131836.3279431339"
      ]
     },
     "execution_count": 24,
     "metadata": {},
     "output_type": "execute_result"
    }
   ],
   "source": [
    "stats.norm.ppf(0.8,df['salary'].mean(),df['salary'].std())"
   ]
  },
  {
   "cell_type": "code",
   "execution_count": 25,
   "id": "a63e9860-7519-4b36-b69f-44b38d879c67",
   "metadata": {},
   "outputs": [
    {
     "data": {
      "text/plain": [
       "0     2.789891\n",
       "1    -0.530995\n",
       "2     0.088049\n",
       "3     0.819308\n",
       "4    -0.113940\n",
       "        ...   \n",
       "73   -0.090967\n",
       "74   -0.123059\n",
       "75    0.575684\n",
       "76    0.068221\n",
       "77    0.057335\n",
       "Name: salary, Length: 78, dtype: float64"
      ]
     },
     "execution_count": 25,
     "metadata": {},
     "output_type": "execute_result"
    }
   ],
   "source": [
    "#with z scores\n",
    "zs=(df['salary']-df['salary'].mean())/df['salary'].std()\n",
    "zs"
   ]
  },
  {
   "cell_type": "code",
   "execution_count": 26,
   "id": "5dda6fb1-784b-40e4-b1d0-5db105d990f6",
   "metadata": {},
   "outputs": [
    {
     "data": {
      "text/plain": [
       "0.2463361549735285"
      ]
     },
     "execution_count": 26,
     "metadata": {},
     "output_type": "execute_result"
    }
   ],
   "source": [
    "stats.norm.cdf(zs.quantile(0.25),zs.mean(),zs.std())"
   ]
  },
  {
   "cell_type": "code",
   "execution_count": 30,
   "id": "f20055a2-d93b-409b-90b6-a51dc41e9b65",
   "metadata": {},
   "outputs": [
    {
     "data": {
      "text/plain": [
       "0.5244005127080407"
      ]
     },
     "execution_count": 30,
     "metadata": {},
     "output_type": "execute_result"
    }
   ],
   "source": [
    "#find the salary value corresponding to cumilative probability of 70 %\n",
    "stats.norm.ppf(0.7,0,1) # always mean and std are 0 and 1 for zscore"
   ]
  },
  {
   "cell_type": "code",
   "execution_count": 29,
   "id": "7320d892-e897-4ffb-9f16-286f14b5e635",
   "metadata": {},
   "outputs": [
    {
     "name": "stderr",
     "output_type": "stream",
     "text": [
      "/opt/anaconda3/lib/python3.11/site-packages/seaborn/_oldcore.py:1119: FutureWarning: use_inf_as_na option is deprecated and will be removed in a future version. Convert inf values to NaN before operating instead.\n",
      "  with pd.option_context('mode.use_inf_as_na', True):\n"
     ]
    },
    {
     "data": {
      "text/plain": [
       "<Axes: xlabel='salary', ylabel='Count'>"
      ]
     },
     "execution_count": 29,
     "metadata": {},
     "output_type": "execute_result"
    },
    {
     "data": {
      "image/png": "[encoded data removed]",
      "text/plain": [
       "<Figure size 640x480 with 1 Axes>"
      ]
     },
     "metadata": {},
     "output_type": "display_data"
    }
   ],
   "source": [
    "import seaborn as sns\n",
    "\n",
    "\n",
    "sns.histplot(zs, alpha=0.7, color='green',kde=True)"
   ]
  }
 ],
 "metadata": {
  "kernelspec": {
   "display_name": "Python 3 (ipykernel)",
   "language": "python",
   "name": "python3"
  },
  "language_info": {
   "codemirror_mode": {
    "name": "ipython",
    "version": 3
   },
   "file_extension": ".py",
   "mimetype": "text/x-python",
   "name": "python",
   "nbconvert_exporter": "python",
   "pygments_lexer": "ipython3",
   "version": "3.11.7"
  }
 },
 "nbformat": 4,
 "nbformat_minor": 5
}
