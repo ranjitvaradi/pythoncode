{
 "cells": [
  {
   "cell_type": "code",
   "execution_count": 2,
   "id": "1a46c3a4",
   "metadata": {},
   "outputs": [
    {
     "name": "stdin",
     "output_type": "stream",
     "text": [
      "Enter any integer:  4\n"
     ]
    },
    {
     "name": "stdout",
     "output_type": "stream",
     "text": [
      "4\n"
     ]
    },
    {
     "data": {
      "text/plain": [
       "str"
      ]
     },
     "execution_count": 2,
     "metadata": {},
     "output_type": "execute_result"
    }
   ],
   "source": [
    "# Interactive user input\n",
    "x = input(\"Enter any integer: \")\n",
    "print(x)\n",
    "type(x)"
   ]
  },
  {
   "cell_type": "code",
   "execution_count": 7,
   "id": "cfae767c",
   "metadata": {},
   "outputs": [
    {
     "name": "stdout",
     "output_type": "stream",
     "text": [
      "Enter your age 35\n",
      "Your age is 420 months\n"
     ]
    },
    {
     "data": {
      "text/plain": [
       "int"
      ]
     },
     "execution_count": 7,
     "metadata": {},
     "output_type": "execute_result"
    }
   ],
   "source": [
    "# Interactive user input\n",
    "x = int(input(\"Enter your age \"))\n",
    "print(\"Your age is\",x*12, \"months\")\n",
    "type(x)"
   ]
  },
  {
   "cell_type": "code",
   "execution_count": 4,
   "id": "ad33ec76",
   "metadata": {},
   "outputs": [
    {
     "name": "stdout",
     "output_type": "stream",
     "text": [
      "This is always printed\n"
     ]
    }
   ],
   "source": [
    "# If statement\n",
    "x = 27.5\n",
    "if x%2 == 0:\n",
    "    print(x,\"is an even number\")\n",
    "    print(2*x)\n",
    "print(\"This is always printed\")"
   ]
  },
  {
   "cell_type": "code",
   "execution_count": null,
   "id": "893ce7cf",
   "metadata": {},
   "outputs": [],
   "source": [
    "x = int(input(\"Enter any integer: \"))\n",
    "if x%2 == 0:\n",
    "    print(x,\"is an even number\")\n",
    "    print(2*x)\n",
    "print(\"This is always printed\")"
   ]
  },
  {
   "cell_type": "code",
   "execution_count": 13,
   "id": "5ebe1b5c",
   "metadata": {},
   "outputs": [
    {
     "name": "stdout",
     "output_type": "stream",
     "text": [
      "33 is an odd number\n"
     ]
    }
   ],
   "source": [
    "# If else statement\n",
    "x = 33\n",
    "if x%2 == 0:\n",
    "    print(x,\"is an even number\")\n",
    "else:\n",
    "    print(x,\"is an odd number\")"
   ]
  },
  {
   "cell_type": "code",
   "execution_count": 4,
   "id": "f4858585",
   "metadata": {},
   "outputs": [
    {
     "name": "stdout",
     "output_type": "stream",
     "text": [
      "32 is a positive even number\n"
     ]
    }
   ],
   "source": [
    "# Nested If else statement\n",
    "x = 32\n",
    "if x%2 == 0:\n",
    "    if x < 0:\n",
    "        print(x,\"is a negative even number\")\n",
    "    else:\n",
    "        print(x,\"is a positive even number\")\n",
    "else:\n",
    "    if x<0:\n",
    "        print(x,\"is a negative odd number\")\n",
    "    else:\n",
    "        print(x,\"is a positive odd number\")"
   ]
  },
  {
   "cell_type": "code",
   "execution_count": 25,
   "id": "38824e59",
   "metadata": {},
   "outputs": [
    {
     "name": "stdout",
     "output_type": "stream",
     "text": [
      "-33 is a negative odd number\n"
     ]
    }
   ],
   "source": [
    "# Use of if eliff else statement\n",
    "x =-33\n",
    "if (x%2 == 0 and x<0):\n",
    "    print(x,\"is a negative even number\")\n",
    "elif(x%2 == 0 and x>0):\n",
    "    print(x,\"is a positive even number\")\n",
    "elif(x%2 != 0 and x<0):\n",
    "    print(x,\"is a negative odd number\")\n",
    "else:\n",
    "    print(x,\"is a positive odd number\")"
   ]
  },
  {
   "cell_type": "code",
   "execution_count": 18,
   "id": "df8a1102",
   "metadata": {},
   "outputs": [
    {
     "name": "stdout",
     "output_type": "stream",
     "text": [
      "The Average Marks are: 82.5\n",
      "Excellent Performance\n"
     ]
    }
   ],
   "source": [
    "M =[90,60,100,80]\n",
    "Avg_marks = (M[0]+M[1]+M[2]+M[3])/4\n",
    "print(\"The Average Marks are:\", Avg_marks)\n",
    "\n",
    "if (Avg_marks<=80 and Avg_marks >60):\n",
    "    print(\"Good Performance\")\n",
    "elif (Avg_marks<=100 and Avg_marks >80):\n",
    "    print(\"Excellent Performance\")\n",
    "elif (Avg_marks<=60 and Avg_marks >40):\n",
    "    print(\"Average Performance\")\n",
    "else:\n",
    "    \"The student has failed in the exam\""
   ]
  },
  {
   "cell_type": "code",
   "execution_count": 12,
   "id": "fcc8ade2",
   "metadata": {},
   "outputs": [
    {
     "name": "stdout",
     "output_type": "stream",
     "text": [
      "2\n",
      "4\n",
      "10\n",
      "12\n",
      "134\n"
     ]
    }
   ],
   "source": [
    "for x in [1,2,5,6,67]:\n",
    "    print(2*x, end ='\\n')"
   ]
  },
  {
   "cell_type": "code",
   "execution_count": 9,
   "id": "acf804f1",
   "metadata": {},
   "outputs": [
    {
     "name": "stdout",
     "output_type": "stream",
     "text": [
      "-1 ,6 ,0 ,20 ,-20 ,"
     ]
    }
   ],
   "source": [
    "for each in (-1,6,0,20,-20):\n",
    "    print(each, end = \" ,\")"
   ]
  },
  {
   "cell_type": "code",
   "execution_count": 13,
   "id": "b828b010",
   "metadata": {},
   "outputs": [
    {
     "data": {
      "text/plain": [
       "{1, 5, 7, 100, 300}"
      ]
     },
     "execution_count": 13,
     "metadata": {},
     "output_type": "execute_result"
    }
   ],
   "source": [
    "set1 = {300,1,5,7,100}\n",
    "set1"
   ]
  },
  {
   "cell_type": "code",
   "execution_count": 15,
   "id": "589b5a4f",
   "metadata": {},
   "outputs": [
    {
     "name": "stdout",
     "output_type": "stream",
     "text": [
      "1 ,100 ,5 ,7 ,300 ,"
     ]
    }
   ],
   "source": [
    "for s in {300,1,5,7,100}:\n",
    "    print(s, end =' ,')"
   ]
  },
  {
   "cell_type": "code",
   "execution_count": 16,
   "id": "4c8f9346",
   "metadata": {},
   "outputs": [
    {
     "name": "stdout",
     "output_type": "stream",
     "text": [
      "3;4;5;6;7;8;9;"
     ]
    }
   ],
   "source": [
    "for x in range(3,10):\n",
    "    print(x, end =';')"
   ]
  },
  {
   "cell_type": "code",
   "execution_count": 27,
   "id": "2e4a5914",
   "metadata": {},
   "outputs": [
    {
     "name": "stdout",
     "output_type": "stream",
     "text": [
      "Index : 0\n",
      "Element : 20\n",
      "Index : 1\n",
      "Element : 80\n",
      "Index : 2\n",
      "Element : 60\n",
      "Index : 3\n",
      "Element : 45\n",
      "Index : 4\n",
      "Element : 89\n"
     ]
    }
   ],
   "source": [
    "L = [20,80,60,45,89]\n",
    "for i in range(len(L)):\n",
    "    print(\"Index :\", i)\n",
    "    print(\"Element :\", L[i])\n",
    "    "
   ]
  },
  {
   "cell_type": "code",
   "execution_count": 31,
   "id": "c6a652f6",
   "metadata": {},
   "outputs": [
    {
     "name": "stdout",
     "output_type": "stream",
     "text": [
      "20 80 60 45 89 \n",
      "\n",
      "20 80 60 45 89 "
     ]
    }
   ],
   "source": [
    "L = [20,80,60,45,89]\n",
    "\n",
    "# Access the element value and print it\n",
    "for i in L:\n",
    "    print(i, end =' ')\n",
    "    \n",
    "print(\"\\n\")\n",
    "# Access the element value with index and print the value\n",
    "for i in range (len(L)):\n",
    "    print(L[i], end =' ')"
   ]
  },
  {
   "cell_type": "code",
   "execution_count": 32,
   "id": "040cbb00",
   "metadata": {},
   "outputs": [
    {
     "name": "stdout",
     "output_type": "stream",
     "text": [
      "[100, 26, 98, -200]\n"
     ]
    }
   ],
   "source": [
    "# Print the even numbers as a new list\n",
    "L1 = [100,93,87,45,26,98,-200,-79]\n",
    "even = []\n",
    "for each in L1:\n",
    "    if each%2 == 0:\n",
    "        even.append(each)\n",
    "print(even)"
   ]
  },
  {
   "cell_type": "code",
   "execution_count": 34,
   "id": "2e007516",
   "metadata": {},
   "outputs": [
    {
     "name": "stdout",
     "output_type": "stream",
     "text": [
      "Welcome to the world of Python!"
     ]
    }
   ],
   "source": [
    "s1 = \"Welcome to the world of Python!\"\n",
    "for char in s1 :\n",
    "    print(char,end='')"
   ]
  },
  {
   "cell_type": "code",
   "execution_count": 8,
   "id": "b1cf7493",
   "metadata": {},
   "outputs": [
    {
     "name": "stdout",
     "output_type": "stream",
     "text": [
      "5\n",
      "7\n",
      "9\n",
      "11\n",
      "13\n"
     ]
    }
   ],
   "source": [
    "for i in range(5,15,2):\n",
    "    print(i)"
   ]
  },
  {
   "cell_type": "code",
   "execution_count": 48,
   "id": "5d5273e5",
   "metadata": {},
   "outputs": [
    {
     "name": "stdout",
     "output_type": "stream",
     "text": [
      "10,20,100,40,90,"
     ]
    }
   ],
   "source": [
    "list1 = [10,20,100,40,90]\n",
    "for i in range(len(list1)):\n",
    "    print(list1[i],end =\",\")"
   ]
  },
  {
   "cell_type": "code",
   "execution_count": 41,
   "id": "d88ac05f",
   "metadata": {},
   "outputs": [
    {
     "name": "stdout",
     "output_type": "stream",
     "text": [
      "{'Sky': 'Blue', 'Sun': 'Shine', 'Rose': 'Red'}\n",
      "\n",
      " Printing items of dict1\n",
      "Sky Blue\n",
      "Sun Shine\n",
      "Rose Red\n"
     ]
    }
   ],
   "source": [
    "dict1 = {\"Sky\":\"Blue\", \"Sun\":\"Shine\", \"Rose\":\"Red\"}\n",
    "print(dict1)\n",
    "print(\"\\n Printing items of dict1\")\n",
    "for i,j in dict1.items():\n",
    "    print(i,j)"
   ]
  },
  {
   "cell_type": "code",
   "execution_count": 42,
   "id": "51f639ac",
   "metadata": {},
   "outputs": [
    {
     "name": "stdout",
     "output_type": "stream",
     "text": [
      "Printing keys of dict1\n",
      "Sky,Sun,Rose,\n",
      "\n",
      "Printing values of dict1\n",
      "Blue,Shine,Red,"
     ]
    }
   ],
   "source": [
    "print(\"Printing keys of dict1\")\n",
    "for each in dict1.keys():\n",
    "    print(each, end = \",\")\n",
    "print(\"\\n\")\n",
    "print(\"Printing values of dict1\")\n",
    "for each in dict1.values():\n",
    "    print(each, end = \",\")"
   ]
  },
  {
   "cell_type": "code",
   "execution_count": 43,
   "id": "6e4ab8fe",
   "metadata": {},
   "outputs": [
    {
     "name": "stdout",
     "output_type": "stream",
     "text": [
      "0 0 0\n",
      "0 0 1\n",
      "0 0 2\n",
      "0 0 3\n",
      "0 0 4\n",
      "0 0 5\n",
      "0 0 6\n",
      "0 0 7\n",
      "0 0 8\n",
      "0 0 9\n",
      "0 1 0\n",
      "0 1 1\n",
      "0 1 2\n",
      "0 1 3\n",
      "0 1 4\n",
      "0 1 5\n",
      "0 1 6\n",
      "0 1 7\n",
      "0 1 8\n",
      "0 1 9\n",
      "0 2 0\n",
      "0 2 1\n",
      "0 2 2\n",
      "0 2 3\n",
      "0 2 4\n",
      "0 2 5\n",
      "0 2 6\n",
      "0 2 7\n",
      "0 2 8\n",
      "0 2 9\n",
      "0 3 0\n",
      "0 3 1\n",
      "0 3 2\n",
      "0 3 3\n",
      "0 3 4\n",
      "0 3 5\n",
      "0 3 6\n",
      "0 3 7\n",
      "0 3 8\n",
      "0 3 9\n",
      "0 4 0\n",
      "0 4 1\n",
      "0 4 2\n",
      "0 4 3\n",
      "0 4 4\n",
      "0 4 5\n",
      "0 4 6\n",
      "0 4 7\n",
      "0 4 8\n",
      "0 4 9\n",
      "0 5 0\n",
      "0 5 1\n",
      "0 5 2\n",
      "0 5 3\n",
      "0 5 4\n",
      "0 5 5\n",
      "0 5 6\n",
      "0 5 7\n",
      "0 5 8\n",
      "0 5 9\n",
      "0 6 0\n",
      "0 6 1\n",
      "0 6 2\n",
      "0 6 3\n",
      "0 6 4\n",
      "0 6 5\n",
      "0 6 6\n",
      "0 6 7\n",
      "0 6 8\n",
      "0 6 9\n",
      "0 7 0\n",
      "0 7 1\n",
      "0 7 2\n",
      "0 7 3\n",
      "0 7 4\n",
      "0 7 5\n",
      "0 7 6\n",
      "0 7 7\n",
      "0 7 8\n",
      "0 7 9\n",
      "0 8 0\n",
      "0 8 1\n",
      "0 8 2\n",
      "0 8 3\n",
      "0 8 4\n",
      "0 8 5\n",
      "0 8 6\n",
      "0 8 7\n",
      "0 8 8\n",
      "0 8 9\n",
      "0 9 0\n",
      "0 9 1\n",
      "0 9 2\n",
      "0 9 3\n",
      "0 9 4\n",
      "0 9 5\n",
      "0 9 6\n",
      "0 9 7\n",
      "0 9 8\n",
      "0 9 9\n",
      "1 0 0\n",
      "1 0 1\n",
      "1 0 2\n",
      "1 0 3\n",
      "1 0 4\n",
      "1 0 5\n",
      "1 0 6\n",
      "1 0 7\n",
      "1 0 8\n",
      "1 0 9\n",
      "1 1 0\n",
      "1 1 1\n",
      "1 1 2\n",
      "1 1 3\n",
      "1 1 4\n",
      "1 1 5\n",
      "1 1 6\n",
      "1 1 7\n",
      "1 1 8\n",
      "1 1 9\n",
      "1 2 0\n",
      "1 2 1\n",
      "1 2 2\n",
      "1 2 3\n",
      "1 2 4\n",
      "1 2 5\n",
      "1 2 6\n",
      "1 2 7\n",
      "1 2 8\n",
      "1 2 9\n",
      "1 3 0\n",
      "1 3 1\n",
      "1 3 2\n",
      "1 3 3\n",
      "1 3 4\n",
      "1 3 5\n",
      "1 3 6\n",
      "1 3 7\n",
      "1 3 8\n",
      "1 3 9\n",
      "1 4 0\n",
      "1 4 1\n",
      "1 4 2\n",
      "1 4 3\n",
      "1 4 4\n",
      "1 4 5\n",
      "1 4 6\n",
      "1 4 7\n",
      "1 4 8\n",
      "1 4 9\n",
      "1 5 0\n",
      "1 5 1\n",
      "1 5 2\n",
      "1 5 3\n",
      "1 5 4\n",
      "1 5 5\n",
      "1 5 6\n",
      "1 5 7\n",
      "1 5 8\n",
      "1 5 9\n",
      "1 6 0\n",
      "1 6 1\n",
      "1 6 2\n",
      "1 6 3\n",
      "1 6 4\n",
      "1 6 5\n",
      "1 6 6\n",
      "1 6 7\n",
      "1 6 8\n",
      "1 6 9\n",
      "1 7 0\n",
      "1 7 1\n",
      "1 7 2\n",
      "1 7 3\n",
      "1 7 4\n",
      "1 7 5\n",
      "1 7 6\n",
      "1 7 7\n",
      "1 7 8\n",
      "1 7 9\n",
      "1 8 0\n",
      "1 8 1\n",
      "1 8 2\n",
      "1 8 3\n",
      "1 8 4\n",
      "1 8 5\n",
      "1 8 6\n",
      "1 8 7\n",
      "1 8 8\n",
      "1 8 9\n",
      "1 9 0\n",
      "1 9 1\n",
      "1 9 2\n",
      "1 9 3\n",
      "1 9 4\n",
      "1 9 5\n",
      "1 9 6\n",
      "1 9 7\n",
      "1 9 8\n",
      "1 9 9\n",
      "2 0 0\n",
      "2 0 1\n",
      "2 0 2\n",
      "2 0 3\n",
      "2 0 4\n",
      "2 0 5\n",
      "2 0 6\n",
      "2 0 7\n",
      "2 0 8\n",
      "2 0 9\n",
      "2 1 0\n",
      "2 1 1\n",
      "2 1 2\n",
      "2 1 3\n",
      "2 1 4\n",
      "2 1 5\n",
      "2 1 6\n",
      "2 1 7\n",
      "2 1 8\n",
      "2 1 9\n",
      "2 2 0\n",
      "2 2 1\n",
      "2 2 2\n",
      "2 2 3\n",
      "2 2 4\n",
      "2 2 5\n",
      "2 2 6\n",
      "2 2 7\n",
      "2 2 8\n",
      "2 2 9\n",
      "2 3 0\n",
      "2 3 1\n",
      "2 3 2\n",
      "2 3 3\n",
      "2 3 4\n",
      "2 3 5\n",
      "2 3 6\n",
      "2 3 7\n",
      "2 3 8\n",
      "2 3 9\n",
      "2 4 0\n",
      "2 4 1\n",
      "2 4 2\n",
      "2 4 3\n",
      "2 4 4\n",
      "2 4 5\n",
      "2 4 6\n",
      "2 4 7\n",
      "2 4 8\n",
      "2 4 9\n",
      "2 5 0\n",
      "2 5 1\n",
      "2 5 2\n",
      "2 5 3\n",
      "2 5 4\n",
      "2 5 5\n",
      "2 5 6\n",
      "2 5 7\n",
      "2 5 8\n",
      "2 5 9\n",
      "2 6 0\n",
      "2 6 1\n",
      "2 6 2\n",
      "2 6 3\n",
      "2 6 4\n",
      "2 6 5\n",
      "2 6 6\n",
      "2 6 7\n",
      "2 6 8\n",
      "2 6 9\n",
      "2 7 0\n",
      "2 7 1\n",
      "2 7 2\n",
      "2 7 3\n",
      "2 7 4\n",
      "2 7 5\n",
      "2 7 6\n",
      "2 7 7\n",
      "2 7 8\n",
      "2 7 9\n",
      "2 8 0\n",
      "2 8 1\n",
      "2 8 2\n",
      "2 8 3\n",
      "2 8 4\n",
      "2 8 5\n",
      "2 8 6\n",
      "2 8 7\n",
      "2 8 8\n",
      "2 8 9\n",
      "2 9 0\n",
      "2 9 1\n",
      "2 9 2\n",
      "2 9 3\n",
      "2 9 4\n",
      "2 9 5\n",
      "2 9 6\n",
      "2 9 7\n",
      "2 9 8\n",
      "2 9 9\n",
      "3 0 0\n",
      "3 0 1\n",
      "3 0 2\n",
      "3 0 3\n",
      "3 0 4\n",
      "3 0 5\n",
      "3 0 6\n",
      "3 0 7\n",
      "3 0 8\n",
      "3 0 9\n",
      "3 1 0\n",
      "3 1 1\n",
      "3 1 2\n",
      "3 1 3\n",
      "3 1 4\n",
      "3 1 5\n",
      "3 1 6\n",
      "3 1 7\n",
      "3 1 8\n",
      "3 1 9\n",
      "3 2 0\n",
      "3 2 1\n",
      "3 2 2\n",
      "3 2 3\n",
      "3 2 4\n",
      "3 2 5\n",
      "3 2 6\n",
      "3 2 7\n",
      "3 2 8\n",
      "3 2 9\n",
      "3 3 0\n",
      "3 3 1\n",
      "3 3 2\n",
      "3 3 3\n",
      "3 3 4\n",
      "3 3 5\n",
      "3 3 6\n",
      "3 3 7\n",
      "3 3 8\n",
      "3 3 9\n",
      "3 4 0\n",
      "3 4 1\n",
      "3 4 2\n",
      "3 4 3\n",
      "3 4 4\n",
      "3 4 5\n",
      "3 4 6\n",
      "3 4 7\n",
      "3 4 8\n",
      "3 4 9\n",
      "3 5 0\n",
      "3 5 1\n",
      "3 5 2\n",
      "3 5 3\n",
      "3 5 4\n",
      "3 5 5\n",
      "3 5 6\n",
      "3 5 7\n",
      "3 5 8\n",
      "3 5 9\n",
      "3 6 0\n",
      "3 6 1\n",
      "3 6 2\n",
      "3 6 3\n",
      "3 6 4\n",
      "3 6 5\n",
      "3 6 6\n",
      "3 6 7\n",
      "3 6 8\n",
      "3 6 9\n",
      "3 7 0\n",
      "3 7 1\n",
      "3 7 2\n",
      "3 7 3\n",
      "3 7 4\n",
      "3 7 5\n",
      "3 7 6\n",
      "3 7 7\n",
      "3 7 8\n",
      "3 7 9\n",
      "3 8 0\n",
      "3 8 1\n",
      "3 8 2\n",
      "3 8 3\n",
      "3 8 4\n",
      "3 8 5\n",
      "3 8 6\n",
      "3 8 7\n",
      "3 8 8\n",
      "3 8 9\n",
      "3 9 0\n",
      "3 9 1\n",
      "3 9 2\n",
      "3 9 3\n",
      "3 9 4\n",
      "3 9 5\n",
      "3 9 6\n",
      "3 9 7\n",
      "3 9 8\n",
      "3 9 9\n",
      "4 0 0\n",
      "4 0 1\n",
      "4 0 2\n",
      "4 0 3\n",
      "4 0 4\n",
      "4 0 5\n",
      "4 0 6\n",
      "4 0 7\n",
      "4 0 8\n",
      "4 0 9\n",
      "4 1 0\n",
      "4 1 1\n",
      "4 1 2\n",
      "4 1 3\n",
      "4 1 4\n",
      "4 1 5\n",
      "4 1 6\n",
      "4 1 7\n",
      "4 1 8\n",
      "4 1 9\n",
      "4 2 0\n",
      "4 2 1\n",
      "4 2 2\n",
      "4 2 3\n",
      "4 2 4\n",
      "4 2 5\n",
      "4 2 6\n",
      "4 2 7\n",
      "4 2 8\n",
      "4 2 9\n",
      "4 3 0\n",
      "4 3 1\n",
      "4 3 2\n",
      "4 3 3\n",
      "4 3 4\n",
      "4 3 5\n",
      "4 3 6\n",
      "4 3 7\n",
      "4 3 8\n",
      "4 3 9\n",
      "4 4 0\n",
      "4 4 1\n",
      "4 4 2\n",
      "4 4 3\n",
      "4 4 4\n",
      "4 4 5\n",
      "4 4 6\n",
      "4 4 7\n",
      "4 4 8\n",
      "4 4 9\n",
      "4 5 0\n",
      "4 5 1\n",
      "4 5 2\n",
      "4 5 3\n",
      "4 5 4\n",
      "4 5 5\n",
      "4 5 6\n",
      "4 5 7\n",
      "4 5 8\n",
      "4 5 9\n",
      "4 6 0\n",
      "4 6 1\n",
      "4 6 2\n",
      "4 6 3\n",
      "4 6 4\n",
      "4 6 5\n",
      "4 6 6\n",
      "4 6 7\n",
      "4 6 8\n",
      "4 6 9\n",
      "4 7 0\n",
      "4 7 1\n",
      "4 7 2\n",
      "4 7 3\n",
      "4 7 4\n",
      "4 7 5\n",
      "4 7 6\n",
      "4 7 7\n",
      "4 7 8\n",
      "4 7 9\n",
      "4 8 0\n",
      "4 8 1\n",
      "4 8 2\n",
      "4 8 3\n",
      "4 8 4\n",
      "4 8 5\n",
      "4 8 6\n",
      "4 8 7\n",
      "4 8 8\n",
      "4 8 9\n",
      "4 9 0\n",
      "4 9 1\n",
      "4 9 2\n",
      "4 9 3\n",
      "4 9 4\n",
      "4 9 5\n",
      "4 9 6\n",
      "4 9 7\n",
      "4 9 8\n",
      "4 9 9\n",
      "5 0 0\n",
      "5 0 1\n",
      "5 0 2\n",
      "5 0 3\n",
      "5 0 4\n",
      "5 0 5\n",
      "5 0 6\n",
      "5 0 7\n",
      "5 0 8\n",
      "5 0 9\n",
      "5 1 0\n",
      "5 1 1\n",
      "5 1 2\n",
      "5 1 3\n",
      "5 1 4\n",
      "5 1 5\n",
      "5 1 6\n",
      "5 1 7\n",
      "5 1 8\n",
      "5 1 9\n",
      "5 2 0\n",
      "5 2 1\n",
      "5 2 2\n",
      "5 2 3\n",
      "5 2 4\n",
      "5 2 5\n",
      "5 2 6\n",
      "5 2 7\n",
      "5 2 8\n",
      "5 2 9\n",
      "5 3 0\n",
      "5 3 1\n",
      "5 3 2\n",
      "5 3 3\n",
      "5 3 4\n",
      "5 3 5\n",
      "5 3 6\n",
      "5 3 7\n",
      "5 3 8\n",
      "5 3 9\n",
      "5 4 0\n",
      "5 4 1\n",
      "5 4 2\n",
      "5 4 3\n",
      "5 4 4\n",
      "5 4 5\n",
      "5 4 6\n",
      "5 4 7\n",
      "5 4 8\n",
      "5 4 9\n",
      "5 5 0\n",
      "5 5 1\n",
      "5 5 2\n",
      "5 5 3\n",
      "5 5 4\n",
      "5 5 5\n",
      "5 5 6\n",
      "5 5 7\n",
      "5 5 8\n",
      "5 5 9\n",
      "5 6 0\n",
      "5 6 1\n",
      "5 6 2\n",
      "5 6 3\n",
      "5 6 4\n",
      "5 6 5\n",
      "5 6 6\n",
      "5 6 7\n",
      "5 6 8\n",
      "5 6 9\n",
      "5 7 0\n",
      "5 7 1\n",
      "5 7 2\n",
      "5 7 3\n",
      "5 7 4\n",
      "5 7 5\n",
      "5 7 6\n",
      "5 7 7\n",
      "5 7 8\n",
      "5 7 9\n",
      "5 8 0\n",
      "5 8 1\n",
      "5 8 2\n",
      "5 8 3\n",
      "5 8 4\n",
      "5 8 5\n",
      "5 8 6\n",
      "5 8 7\n",
      "5 8 8\n",
      "5 8 9\n",
      "5 9 0\n",
      "5 9 1\n",
      "5 9 2\n",
      "5 9 3\n",
      "5 9 4\n",
      "5 9 5\n",
      "5 9 6\n",
      "5 9 7\n",
      "5 9 8\n",
      "5 9 9\n",
      "6 0 0\n",
      "6 0 1\n",
      "6 0 2\n",
      "6 0 3\n",
      "6 0 4\n",
      "6 0 5\n",
      "6 0 6\n",
      "6 0 7\n",
      "6 0 8\n",
      "6 0 9\n",
      "6 1 0\n",
      "6 1 1\n",
      "6 1 2\n",
      "6 1 3\n",
      "6 1 4\n",
      "6 1 5\n",
      "6 1 6\n",
      "6 1 7\n",
      "6 1 8\n",
      "6 1 9\n",
      "6 2 0\n",
      "6 2 1\n",
      "6 2 2\n",
      "6 2 3\n",
      "6 2 4\n",
      "6 2 5\n",
      "6 2 6\n",
      "6 2 7\n",
      "6 2 8\n",
      "6 2 9\n",
      "6 3 0\n",
      "6 3 1\n",
      "6 3 2\n",
      "6 3 3\n",
      "6 3 4\n",
      "6 3 5\n",
      "6 3 6\n",
      "6 3 7\n",
      "6 3 8\n",
      "6 3 9\n",
      "6 4 0\n",
      "6 4 1\n",
      "6 4 2\n",
      "6 4 3\n",
      "6 4 4\n",
      "6 4 5\n",
      "6 4 6\n",
      "6 4 7\n",
      "6 4 8\n",
      "6 4 9\n",
      "6 5 0\n",
      "6 5 1\n",
      "6 5 2\n",
      "6 5 3\n",
      "6 5 4\n",
      "6 5 5\n",
      "6 5 6\n",
      "6 5 7\n",
      "6 5 8\n",
      "6 5 9\n",
      "6 6 0\n",
      "6 6 1\n",
      "6 6 2\n",
      "6 6 3\n",
      "6 6 4\n",
      "6 6 5\n",
      "6 6 6\n",
      "6 6 7\n",
      "6 6 8\n",
      "6 6 9\n",
      "6 7 0\n",
      "6 7 1\n",
      "6 7 2\n",
      "6 7 3\n",
      "6 7 4\n",
      "6 7 5\n",
      "6 7 6\n",
      "6 7 7\n",
      "6 7 8\n",
      "6 7 9\n",
      "6 8 0\n",
      "6 8 1\n",
      "6 8 2\n",
      "6 8 3\n",
      "6 8 4\n",
      "6 8 5\n",
      "6 8 6\n",
      "6 8 7\n",
      "6 8 8\n",
      "6 8 9\n",
      "6 9 0\n",
      "6 9 1\n",
      "6 9 2\n",
      "6 9 3\n",
      "6 9 4\n",
      "6 9 5\n",
      "6 9 6\n",
      "6 9 7\n",
      "6 9 8\n",
      "6 9 9\n",
      "7 0 0\n",
      "7 0 1\n",
      "7 0 2\n",
      "7 0 3\n",
      "7 0 4\n",
      "7 0 5\n",
      "7 0 6\n",
      "7 0 7\n",
      "7 0 8\n",
      "7 0 9\n",
      "7 1 0\n",
      "7 1 1\n",
      "7 1 2\n",
      "7 1 3\n",
      "7 1 4\n",
      "7 1 5\n",
      "7 1 6\n",
      "7 1 7\n",
      "7 1 8\n",
      "7 1 9\n",
      "7 2 0\n",
      "7 2 1\n",
      "7 2 2\n",
      "7 2 3\n",
      "7 2 4\n",
      "7 2 5\n",
      "7 2 6\n",
      "7 2 7\n",
      "7 2 8\n",
      "7 2 9\n",
      "7 3 0\n",
      "7 3 1\n",
      "7 3 2\n",
      "7 3 3\n",
      "7 3 4\n",
      "7 3 5\n",
      "7 3 6\n",
      "7 3 7\n",
      "7 3 8\n",
      "7 3 9\n",
      "7 4 0\n",
      "7 4 1\n",
      "7 4 2\n",
      "7 4 3\n",
      "7 4 4\n",
      "7 4 5\n",
      "7 4 6\n",
      "7 4 7\n",
      "7 4 8\n",
      "7 4 9\n",
      "7 5 0\n",
      "7 5 1\n",
      "7 5 2\n",
      "7 5 3\n",
      "7 5 4\n",
      "7 5 5\n",
      "7 5 6\n",
      "7 5 7\n",
      "7 5 8\n",
      "7 5 9\n",
      "7 6 0\n",
      "7 6 1\n",
      "7 6 2\n",
      "7 6 3\n",
      "7 6 4\n",
      "7 6 5\n",
      "7 6 6\n",
      "7 6 7\n",
      "7 6 8\n",
      "7 6 9\n",
      "7 7 0\n",
      "7 7 1\n",
      "7 7 2\n",
      "7 7 3\n",
      "7 7 4\n",
      "7 7 5\n",
      "7 7 6\n",
      "7 7 7\n",
      "7 7 8\n",
      "7 7 9\n",
      "7 8 0\n",
      "7 8 1\n",
      "7 8 2\n",
      "7 8 3\n",
      "7 8 4\n",
      "7 8 5\n",
      "7 8 6\n",
      "7 8 7\n",
      "7 8 8\n",
      "7 8 9\n",
      "7 9 0\n",
      "7 9 1\n",
      "7 9 2\n",
      "7 9 3\n",
      "7 9 4\n",
      "7 9 5\n",
      "7 9 6\n",
      "7 9 7\n",
      "7 9 8\n",
      "7 9 9\n",
      "8 0 0\n",
      "8 0 1\n",
      "8 0 2\n",
      "8 0 3\n",
      "8 0 4\n",
      "8 0 5\n",
      "8 0 6\n",
      "8 0 7\n",
      "8 0 8\n",
      "8 0 9\n",
      "8 1 0\n",
      "8 1 1\n",
      "8 1 2\n",
      "8 1 3\n",
      "8 1 4\n",
      "8 1 5\n",
      "8 1 6\n",
      "8 1 7\n",
      "8 1 8\n",
      "8 1 9\n",
      "8 2 0\n",
      "8 2 1\n",
      "8 2 2\n",
      "8 2 3\n",
      "8 2 4\n",
      "8 2 5\n",
      "8 2 6\n",
      "8 2 7\n",
      "8 2 8\n",
      "8 2 9\n",
      "8 3 0\n",
      "8 3 1\n",
      "8 3 2\n",
      "8 3 3\n",
      "8 3 4\n",
      "8 3 5\n",
      "8 3 6\n",
      "8 3 7\n",
      "8 3 8\n",
      "8 3 9\n",
      "8 4 0\n",
      "8 4 1\n",
      "8 4 2\n",
      "8 4 3\n",
      "8 4 4\n",
      "8 4 5\n",
      "8 4 6\n",
      "8 4 7\n",
      "8 4 8\n",
      "8 4 9\n",
      "8 5 0\n",
      "8 5 1\n",
      "8 5 2\n",
      "8 5 3\n",
      "8 5 4\n",
      "8 5 5\n",
      "8 5 6\n",
      "8 5 7\n",
      "8 5 8\n",
      "8 5 9\n",
      "8 6 0\n",
      "8 6 1\n",
      "8 6 2\n",
      "8 6 3\n",
      "8 6 4\n",
      "8 6 5\n",
      "8 6 6\n",
      "8 6 7\n",
      "8 6 8\n",
      "8 6 9\n",
      "8 7 0\n",
      "8 7 1\n",
      "8 7 2\n",
      "8 7 3\n",
      "8 7 4\n",
      "8 7 5\n",
      "8 7 6\n",
      "8 7 7\n",
      "8 7 8\n",
      "8 7 9\n",
      "8 8 0\n",
      "8 8 1\n",
      "8 8 2\n",
      "8 8 3\n",
      "8 8 4\n",
      "8 8 5\n",
      "8 8 6\n",
      "8 8 7\n",
      "8 8 8\n",
      "8 8 9\n",
      "8 9 0\n",
      "8 9 1\n",
      "8 9 2\n",
      "8 9 3\n",
      "8 9 4\n",
      "8 9 5\n",
      "8 9 6\n",
      "8 9 7\n",
      "8 9 8\n",
      "8 9 9\n",
      "9 0 0\n",
      "9 0 1\n",
      "9 0 2\n",
      "9 0 3\n",
      "9 0 4\n",
      "9 0 5\n",
      "9 0 6\n",
      "9 0 7\n",
      "9 0 8\n",
      "9 0 9\n",
      "9 1 0\n",
      "9 1 1\n",
      "9 1 2\n",
      "9 1 3\n",
      "9 1 4\n",
      "9 1 5\n",
      "9 1 6\n",
      "9 1 7\n",
      "9 1 8\n",
      "9 1 9\n",
      "9 2 0\n",
      "9 2 1\n",
      "9 2 2\n",
      "9 2 3\n",
      "9 2 4\n",
      "9 2 5\n",
      "9 2 6\n",
      "9 2 7\n",
      "9 2 8\n",
      "9 2 9\n",
      "9 3 0\n",
      "9 3 1\n",
      "9 3 2\n",
      "9 3 3\n",
      "9 3 4\n",
      "9 3 5\n",
      "9 3 6\n",
      "9 3 7\n",
      "9 3 8\n",
      "9 3 9\n",
      "9 4 0\n",
      "9 4 1\n",
      "9 4 2\n",
      "9 4 3\n",
      "9 4 4\n",
      "9 4 5\n",
      "9 4 6\n",
      "9 4 7\n",
      "9 4 8\n",
      "9 4 9\n",
      "9 5 0\n",
      "9 5 1\n",
      "9 5 2\n",
      "9 5 3\n",
      "9 5 4\n",
      "9 5 5\n",
      "9 5 6\n",
      "9 5 7\n",
      "9 5 8\n",
      "9 5 9\n",
      "9 6 0\n",
      "9 6 1\n",
      "9 6 2\n",
      "9 6 3\n",
      "9 6 4\n",
      "9 6 5\n",
      "9 6 6\n",
      "9 6 7\n",
      "9 6 8\n",
      "9 6 9\n",
      "9 7 0\n",
      "9 7 1\n",
      "9 7 2\n",
      "9 7 3\n",
      "9 7 4\n",
      "9 7 5\n",
      "9 7 6\n",
      "9 7 7\n",
      "9 7 8\n",
      "9 7 9\n",
      "9 8 0\n",
      "9 8 1\n",
      "9 8 2\n",
      "9 8 3\n",
      "9 8 4\n",
      "9 8 5\n",
      "9 8 6\n",
      "9 8 7\n",
      "9 8 8\n",
      "9 8 9\n",
      "9 9 0\n",
      "9 9 1\n",
      "9 9 2\n",
      "9 9 3\n",
      "9 9 4\n",
      "9 9 5\n",
      "9 9 6\n",
      "9 9 7\n",
      "9 9 8\n",
      "9 9 9\n"
     ]
    }
   ],
   "source": [
    "for i in range(10):\n",
    "    for j in range(10):\n",
    "        for k in range(10):\n",
    "            print(i,j,k)"
   ]
  },
  {
   "cell_type": "code",
   "execution_count": 4,
   "id": "a750d202",
   "metadata": {
    "scrolled": true
   },
   "outputs": [
    {
     "name": "stdout",
     "output_type": "stream",
     "text": [
      "20,18,16,14,12,10,8,6,4,2,"
     ]
    }
   ],
   "source": [
    "value= 20\n",
    "while value > 0 :\n",
    "    print(value, end=\",\" )\n",
    "    value -= 2"
   ]
  },
  {
   "cell_type": "code",
   "execution_count": 59,
   "id": "f9c108d6",
   "metadata": {},
   "outputs": [],
   "source": [
    "# User defined function \n",
    "def greet():\n",
    "    print(\"Hello Good Morning!\")"
   ]
  },
  {
   "cell_type": "code",
   "execution_count": null,
   "id": "2ac3410e",
   "metadata": {},
   "outputs": [],
   "source": [
    "def say(b):\n",
    "    print(\"You are\",b, \"fabulous\")"
   ]
  },
  {
   "cell_type": "code",
   "execution_count": 60,
   "id": "55160b5e",
   "metadata": {},
   "outputs": [
    {
     "name": "stdout",
     "output_type": "stream",
     "text": [
      "Hello Good Morning!\n"
     ]
    }
   ],
   "source": [
    "greet()"
   ]
  },
  {
   "cell_type": "code",
   "execution_count": 51,
   "id": "a42960f8",
   "metadata": {},
   "outputs": [
    {
     "name": "stdout",
     "output_type": "stream",
     "text": [
      "Hello Srinivas Good Morning!\n"
     ]
    }
   ],
   "source": [
    "greet(\"Srinivas\")"
   ]
  },
  {
   "cell_type": "markdown",
   "id": "4b91e62a",
   "metadata": {},
   "source": [
    "## Practice"
   ]
  },
  {
   "cell_type": "code",
   "execution_count": null,
   "id": "d24f7449",
   "metadata": {},
   "outputs": [],
   "source": [
    "# Write a udf the will accept a list of numbers and return the odd numers as  another list"
   ]
  },
  {
   "cell_type": "code",
   "execution_count": 5,
   "id": "15df68d7",
   "metadata": {},
   "outputs": [],
   "source": [
    "def oddnum(list1):\n",
    "    odd_num_list = []\n",
    "    for i in list1:\n",
    "        if i%2 !=0:\n",
    "             odd_num_list.append(i)\n",
    "    return odd_num_list"
   ]
  },
  {
   "cell_type": "code",
   "execution_count": 6,
   "id": "969f8f9a",
   "metadata": {},
   "outputs": [
    {
     "data": {
      "text/plain": [
       "[67, 79, 45, 33, -999]"
      ]
     },
     "execution_count": 6,
     "metadata": {},
     "output_type": "execute_result"
    }
   ],
   "source": [
    "oddnum([100,20,67,32,98,79,45,33,12,0,-100,-999])"
   ]
  },
  {
   "cell_type": "code",
   "execution_count": 31,
   "id": "79459474",
   "metadata": {},
   "outputs": [],
   "source": [
    "# Dictionary modification\n",
    "def dict_modify(d1):\n",
    "    for key in d1.keys():\n",
    "        new_val = []\n",
    "        for i in d1[key]:\n",
    "            if i%2==0:\n",
    "                i *= 0.5\n",
    "            new_val.append(i)\n",
    "            d1.update({key:new_val})\n",
    "    return d1      "
   ]
  },
  {
   "cell_type": "code",
   "execution_count": 32,
   "id": "b1a8b617",
   "metadata": {},
   "outputs": [
    {
     "data": {
      "text/plain": [
       "{'A': [5.0, 9, 4.0, 2.0, 3.0, 7], 'B': [50.0, 28.0, 25, 99, 42.0]}"
      ]
     },
     "execution_count": 32,
     "metadata": {},
     "output_type": "execute_result"
    }
   ],
   "source": [
    "dict_modify({'A': [10,9,8,4,6,7], \"B\":[100,56,25,99,84]})"
   ]
  },
  {
   "cell_type": "code",
   "execution_count": 33,
   "id": "38ea1c41",
   "metadata": {},
   "outputs": [
    {
     "data": {
      "text/plain": [
       "dict_keys(['A', 'B'])"
      ]
     },
     "execution_count": 33,
     "metadata": {},
     "output_type": "execute_result"
    }
   ],
   "source": [
    "d1 ={'A': [10,9,8,4,6,7], \"B\":[100,56,25,99,84]}\n",
    "d1.keys()"
   ]
  },
  {
   "cell_type": "code",
   "execution_count": 61,
   "id": "937998b9",
   "metadata": {},
   "outputs": [
    {
     "data": {
      "text/plain": [
       "9"
      ]
     },
     "execution_count": 61,
     "metadata": {},
     "output_type": "execute_result"
    }
   ],
   "source": [
    "def squared(x):\n",
    "    return x**2\n",
    "squared(3)"
   ]
  },
  {
   "cell_type": "code",
   "execution_count": 19,
   "id": "c25fb125",
   "metadata": {},
   "outputs": [],
   "source": [
    "# Use of Lambda functions\n",
    "square = lambda x:x**2"
   ]
  },
  {
   "cell_type": "code",
   "execution_count": 20,
   "id": "61b81e03",
   "metadata": {},
   "outputs": [
    {
     "data": {
      "text/plain": [
       "900"
      ]
     },
     "execution_count": 20,
     "metadata": {},
     "output_type": "execute_result"
    }
   ],
   "source": [
    "square(30)"
   ]
  },
  {
   "cell_type": "code",
   "execution_count": 23,
   "id": "0446086f",
   "metadata": {},
   "outputs": [],
   "source": [
    "f = lambda a,b:(3*a+4*b)"
   ]
  },
  {
   "cell_type": "code",
   "execution_count": 24,
   "id": "f8876aa7",
   "metadata": {},
   "outputs": [
    {
     "data": {
      "text/plain": [
       "250"
      ]
     },
     "execution_count": 24,
     "metadata": {},
     "output_type": "execute_result"
    }
   ],
   "source": [
    "f(30,40)"
   ]
  },
  {
   "cell_type": "code",
   "execution_count": 67,
   "id": "9f8c5e2c",
   "metadata": {},
   "outputs": [
    {
     "data": {
      "text/plain": [
       "[200, 40, 134, 64, 196, 158, 90, 66, 24, 0, -200, -1998]"
      ]
     },
     "execution_count": 67,
     "metadata": {},
     "output_type": "execute_result"
    }
   ],
   "source": [
    "# List comprehension\n",
    "L = [100,20,67,32,98,79,45,33,12,0,-100,-999]\n",
    "[ 2*each for each in L]"
   ]
  },
  {
   "cell_type": "code",
   "execution_count": 63,
   "id": "81cfd182",
   "metadata": {},
   "outputs": [
    {
     "data": {
      "text/plain": [
       "[100, 20, 32, 98, 12, 0, -100]"
      ]
     },
     "execution_count": 63,
     "metadata": {},
     "output_type": "execute_result"
    }
   ],
   "source": [
    "# List comprehension with if\n",
    "L1 = [100,20,67,32,98,79,45,33,12,0,-100,-999]\n",
    "[each for each in L1 if each%2==0]"
   ]
  },
  {
   "cell_type": "code",
   "execution_count": 64,
   "id": "ca160aa7",
   "metadata": {},
   "outputs": [
    {
     "data": {
      "text/plain": [
       "[50.0, 10.0, 67, 16.0, 49.0, 79, 45, 33, 6.0, 0.0, -50.0, -999]"
      ]
     },
     "execution_count": 64,
     "metadata": {},
     "output_type": "execute_result"
    }
   ],
   "source": [
    "# List comprehension with if else\n",
    "L2 = [100,20,67,32,98,79,45,33,12,0,-100,-999]\n",
    "[each *0.5 if each%2 ==0 else each for each in L2]"
   ]
  },
  {
   "cell_type": "code",
   "execution_count": 7,
   "id": "de138416",
   "metadata": {},
   "outputs": [],
   "source": [
    "# Write user defined function to increment salaries\n",
    "def sal_inc(list):\n",
    "    new_sal = []\n",
    "    for i in list:\n",
    "        if i <=50000:\n",
    "            new_sal.append(i*1.3)\n",
    "        else:\n",
    "            new_sal.append(i*1.2)\n",
    "    return new_sal        "
   ]
  },
  {
   "cell_type": "code",
   "execution_count": 10,
   "id": "57eb077e",
   "metadata": {},
   "outputs": [
    {
     "data": {
      "text/plain": [
       "[13000.0, 120000.0, 90000.0, 32500.0, 55900.0, 116400.0]"
      ]
     },
     "execution_count": 10,
     "metadata": {},
     "output_type": "execute_result"
    }
   ],
   "source": [
    "sal_inc([10000,100000,75000,25000,43000,97000])"
   ]
  },
  {
   "cell_type": "code",
   "execution_count": 15,
   "id": "f92c91c7",
   "metadata": {},
   "outputs": [
    {
     "data": {
      "text/plain": [
       "[13000.0, 120000.0, 90000.0, 32500.0, 55900.0, 116400.0]"
      ]
     },
     "execution_count": 15,
     "metadata": {},
     "output_type": "execute_result"
    }
   ],
   "source": [
    "# Write list comprehension with if else to increment the salaries\n",
    "sal = [10000,100000,75000,25000,43000,97000]\n",
    "[i*1.3 if (i <= 50000) else 1.2*i for i in sal ]"
   ]
  },
  {
   "cell_type": "code",
   "execution_count": null,
   "id": "9db63dc9",
   "metadata": {},
   "outputs": [],
   "source": []
  },
  {
   "cell_type": "code",
   "execution_count": null,
   "id": "eb0d4710",
   "metadata": {},
   "outputs": [],
   "source": [
    "# List comprehension: upgarde salaries using user defined function"
   ]
  },
  {
   "cell_type": "code",
   "execution_count": 4,
   "id": "f53b0790",
   "metadata": {},
   "outputs": [],
   "source": [
    "def sal_inc(L,inc1,inc2):\n",
    "    sal_new = []\n",
    "    for x in L:\n",
    "        if x <= 50000:\n",
    "            sal_new.append(inc1*x)\n",
    "        else:\n",
    "            sal_new.append(inc2*x)\n",
    "    return sal_new"
   ]
  },
  {
   "cell_type": "code",
   "execution_count": 7,
   "id": "84d43e1e",
   "metadata": {},
   "outputs": [
    {
     "data": {
      "text/plain": [
       "[26000.0, 39000.0, 13000.0, 84000.0, 108000.0]"
      ]
     },
     "execution_count": 7,
     "metadata": {},
     "output_type": "execute_result"
    }
   ],
   "source": [
    "L = [20000,30000,10000,70000,90000]\n",
    "sal_inc(L,1.3,1.2)"
   ]
  },
  {
   "cell_type": "code",
   "execution_count": null,
   "id": "bf631314",
   "metadata": {},
   "outputs": [],
   "source": [
    "# List comprehension: upgarde salaries using list comprehension"
   ]
  },
  {
   "cell_type": "code",
   "execution_count": 9,
   "id": "cac4946d",
   "metadata": {},
   "outputs": [
    {
     "data": {
      "text/plain": [
       "[26000.0, 39000.0, 13000.0, 84000.0, 108000.0]"
      ]
     },
     "execution_count": 9,
     "metadata": {},
     "output_type": "execute_result"
    }
   ],
   "source": [
    "L = [20000,30000,10000,70000,90000]\n",
    "\n",
    "[x*1.3 if x<= 50000 else x*1.2 for x in L]"
   ]
  },
  {
   "cell_type": "code",
   "execution_count": 10,
   "id": "11d982db",
   "metadata": {},
   "outputs": [],
   "source": [
    "sal_increment = lambda L : [x*1.3 if x<= 50000 else x*1.2 for x in L]"
   ]
  },
  {
   "cell_type": "code",
   "execution_count": 12,
   "id": "8c4137c0",
   "metadata": {},
   "outputs": [
    {
     "data": {
      "text/plain": [
       "[52000.0]"
      ]
     },
     "execution_count": 12,
     "metadata": {},
     "output_type": "execute_result"
    }
   ],
   "source": [
    "sal_increment([40000])"
   ]
  },
  {
   "cell_type": "code",
   "execution_count": 7,
   "id": "b2411b83",
   "metadata": {},
   "outputs": [
    {
     "name": "stdout",
     "output_type": "stream",
     "text": [
      "4 7 is not present\n"
     ]
    }
   ],
   "source": [
    "l=[4,8,7,'Hello']\n",
    "#x=input(\"enter the value: \")\n",
    "\n",
    "if 4 and 6 in l:\n",
    "    print(\"4,7 is present\")\n",
    "else: \n",
    "    print(4,7, \"is not present\")\n",
    "    \n",
    "    "
   ]
  },
  {
   "cell_type": "code",
   "execution_count": 25,
   "id": "1ae0fa2a-69be-4250-8563-716f0e0df3f4",
   "metadata": {},
   "outputs": [
    {
     "name": "stdout",
     "output_type": "stream",
     "text": [
      "[2, 8, 34]\n",
      "[9, 11, 5, 21]\n"
     ]
    }
   ],
   "source": [
    "L=[2,9,8,11,5,21,34]\n",
    "x=[]\n",
    "y=[]\n",
    "for i in L:\n",
    "    if i%2==0:\n",
    "        x.append(i)\n",
    "        \n",
    "    \n",
    "    else:\n",
    "        y.append(i)\n",
    "print(x)\n",
    "print(y)\n",
    "\n",
    "        "
   ]
  },
  {
   "cell_type": "code",
   "execution_count": 18,
   "id": "a28d4f22-4554-4ba0-b9f3-dfe34150722d",
   "metadata": {},
   "outputs": [
    {
     "name": "stdout",
     "output_type": "stream",
     "text": [
      "31\n",
      "WELCOME TO THE WORLD OF PYTHON!"
     ]
    }
   ],
   "source": [
    "s1=\"WELCOME TO THE WORLD OF PYTHON!\"\n",
    "print(len(s1))\n",
    "for x in s1:\n",
    "    print(x ,end= \"\")"
   ]
  },
  {
   "cell_type": "code",
   "execution_count": 19,
   "id": "e6040a21-eebe-4df4-be6e-d5ffdffab7b0",
   "metadata": {},
   "outputs": [
    {
     "name": "stdout",
     "output_type": "stream",
     "text": [
      "W, E, L, C, O, M, E,  , T, O,  , T, H, E,  , W, O, R, L, D,  , O, F,  , P, Y, T, H, O, N, "
     ]
    }
   ],
   "source": [
    "s1=\"WELCOME TO THE WORLD OF PYTHON\"\n",
    "for i in range(len(s1)):\n",
    "    print(s1[i], end=\"\")"
   ]
  },
  {
   "cell_type": "code",
   "execution_count": null,
   "id": "6a26d5ae-048e-40eb-87f5-751971991d0d",
   "metadata": {},
   "outputs": [],
   "source": []
  }
 ],
 "metadata": {
  "kernelspec": {
   "display_name": "Python 3 (ipykernel)",
   "language": "python",
   "name": "python3"
  },
  "language_info": {
   "codemirror_mode": {
    "name": "ipython",
    "version": 3
   },
   "file_extension": ".py",
   "mimetype": "text/x-python",
   "name": "python",
   "nbconvert_exporter": "python",
   "pygments_lexer": "ipython3",
   "version": "3.11.7"
  }
 },
 "nbformat": 4,
 "nbformat_minor": 5
}
